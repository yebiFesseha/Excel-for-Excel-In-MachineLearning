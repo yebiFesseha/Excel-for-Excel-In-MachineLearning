{
  "nbformat": 4,
  "nbformat_minor": 0,
  "metadata": {
    "colab": {
      "name": "Untitled0.ipynb",
      "provenance": [],
      "collapsed_sections": [],
      "authorship_tag": "ABX9TyNcIpXjqWDnMXaekwmZhbAV"
    },
    "kernelspec": {
      "name": "python3",
      "display_name": "Python 3"
    },
    "language_info": {
      "name": "python"
    }
  },
  "cells": [
    {
      "cell_type": "markdown",
      "metadata": {
        "id": "CuxFCUr01Z-7"
      },
      "source": [
        "## How to Execute/Perform Basic sqlite3 commands using Python\n",
        "  * Create a database\n",
        "  * Create two relational tables,  add one more table and delete it\n",
        "  * populate the tables with data\n",
        "  * Update a record, delete a row from a table\n",
        "  * Remove or drop a table\n",
        "  * Use Pandas to read a table\n",
        "\n"
      ]
    },
    {
      "cell_type": "code",
      "metadata": {
        "id": "FSEF3WDYsbWZ"
      },
      "source": [
        "import pandas as pd\n",
        "import sqlite3\n",
        "import os"
      ],
      "execution_count": 1,
      "outputs": []
    },
    {
      "cell_type": "code",
      "metadata": {
        "id": "vi-ZQCOf2EtQ"
      },
      "source": [
        "# create instance of the new database\n",
        "conn = sqlite3.connect('soccerLeague.db')\n",
        "c = conn.cursor()"
      ],
      "execution_count": 2,
      "outputs": []
    },
    {
      "cell_type": "code",
      "metadata": {
        "colab": {
          "base_uri": "https://localhost:8080/"
        },
        "id": "BfGNxv6j2FFf",
        "outputId": "70a2febf-4383-4568-c618-3c9e4c9b1b1f"
      },
      "source": [
        "os.listdir()"
      ],
      "execution_count": 3,
      "outputs": [
        {
          "output_type": "execute_result",
          "data": {
            "text/plain": [
              "['.config', 'soccerLeague.db', 'sample_data']"
            ]
          },
          "metadata": {
            "tags": []
          },
          "execution_count": 3
        }
      ]
    },
    {
      "cell_type": "code",
      "metadata": {
        "colab": {
          "base_uri": "https://localhost:8080/"
        },
        "id": "SL864pXR2FNn",
        "outputId": "fc97db79-05f1-4b38-ad57-f343688c22f6"
      },
      "source": [
        "# Create tables players, clubs, dropmedead\n",
        "c.execute(\"\"\"CREATE TABLE IF NOT EXISTS players(first_name text, \n",
        "                                                    last_name text, \n",
        "                                                    club_id int, \n",
        "                                                    Salary Real)\"\"\")\n",
        "c.execute(\"\"\"CREATE TABLE IF NOT EXISTS clubs(id int,\n",
        "                                            club_name text, \n",
        "                                            club_location text,  \n",
        "                                            foundationYear int,\n",
        "                                            capitalisation Real)\"\"\")\n",
        "c.execute(\"\"\"CREATE TABLE IF NOT EXISTS dropmedead(fakevalue int,\n",
        "                                                    faketext text)\"\"\")"
      ],
      "execution_count": 30,
      "outputs": [
        {
          "output_type": "execute_result",
          "data": {
            "text/plain": [
              "<sqlite3.Cursor at 0x7fa682a7ddc0>"
            ]
          },
          "metadata": {
            "tags": []
          },
          "execution_count": 30
        }
      ]
    },
    {
      "cell_type": "code",
      "metadata": {
        "colab": {
          "base_uri": "https://localhost:8080/"
        },
        "id": "NIyA7ALa2FUH",
        "outputId": "5fdf0e11-fcba-4a8c-d96f-611dec985d90"
      },
      "source": [
        "#Confirm the tables are created\n",
        "c.execute(\"SELECT * FROM sqlite_master WHERE type='table'\")\n",
        "conn.commit()\n",
        "for t in c.fetchall():\n",
        "  print(t)"
      ],
      "execution_count": 32,
      "outputs": [
        {
          "output_type": "stream",
          "text": [
            "('table', 'players', 'players', 2, 'CREATE TABLE players(first_name text, \\n                                                    last_name text, \\n                                                    club_id int, \\n                                                    Salary Real)')\n",
            "('table', 'clubs', 'clubs', 3, 'CREATE TABLE clubs(id int,\\n                                            club_name text, \\n                                            club_location text,  \\n                                            foundationYear int,\\n                                            capitalisation Real)')\n",
            "('table', 'dropmedead', 'dropmedead', 4, 'CREATE TABLE dropmedead(fakevalue int,\\n                                                    faketext text)')\n"
          ],
          "name": "stdout"
        }
      ]
    },
    {
      "cell_type": "code",
      "metadata": {
        "id": "-BPHkp602FZx"
      },
      "source": [
        "# insert values in the tables\n",
        "players_list = [('Lionel', 'Messi', 11, 429832.3),\n",
        "                ('Ronaldo', 'Ronaldino', 14, 122212.34),\n",
        "                ('Markus', 'Rushford', 13, 983434), \n",
        "                ('Sadio', 'Mane', 19, 1722212),\n",
        "                ('Muler', 'Muhler', 23, 1222124), \n",
        "                ('Figo', 'Luis', 14, 122254.4),\n",
        "                ('Salah', 'Muhammed', 19, 172212), \n",
        "                ('Roberto', 'Firminio', 19, 1752212), \n",
        "                ('Alisson', 'Taylor', 19, 97212)]\n",
        "\n",
        "clubs_list = [(11, 'Barcelona', 'Spain', 1902, 1999999), \n",
        "              (13, 'Man United', 'England', 1900, 2999999), \n",
        "              (14, 'Juventus', 'Italy', 1908, 999999),\n",
        "              (19, 'Liverpool', 'England', 1900, 3999999),\n",
        "              (23, 'Bayern', 'German', 1920, 2999999) ] \n",
        "def data_insert(tname, lst):\n",
        "    place_holder = ','.join('?'*len(lst[0]))\n",
        "    query = f\"INSERT INTO {tname} VALUES({place_holder})\"\n",
        "    c.executemany(query, lst)"
      ],
      "execution_count": 38,
      "outputs": []
    },
    {
      "cell_type": "code",
      "metadata": {
        "id": "4lgAq4bL2Fiv"
      },
      "source": [
        "#inserting data in the db\n",
        "data_insert('players', players_list)\n",
        "data_insert('clubs', clubs_list)"
      ],
      "execution_count": 39,
      "outputs": []
    },
    {
      "cell_type": "code",
      "metadata": {
        "colab": {
          "base_uri": "https://localhost:8080/",
          "height": 328
        },
        "id": "F8KZL5zfnsoZ",
        "outputId": "4bca5d1f-bdd0-41f5-ffc9-c32745d735f6"
      },
      "source": [
        "pd.read_sql_query(\"SELECT * FROM players\", conn)"
      ],
      "execution_count": 40,
      "outputs": [
        {
          "output_type": "execute_result",
          "data": {
            "text/html": [
              "<div>\n",
              "<style scoped>\n",
              "    .dataframe tbody tr th:only-of-type {\n",
              "        vertical-align: middle;\n",
              "    }\n",
              "\n",
              "    .dataframe tbody tr th {\n",
              "        vertical-align: top;\n",
              "    }\n",
              "\n",
              "    .dataframe thead th {\n",
              "        text-align: right;\n",
              "    }\n",
              "</style>\n",
              "<table border=\"1\" class=\"dataframe\">\n",
              "  <thead>\n",
              "    <tr style=\"text-align: right;\">\n",
              "      <th></th>\n",
              "      <th>first_name</th>\n",
              "      <th>last_name</th>\n",
              "      <th>club_id</th>\n",
              "      <th>Salary</th>\n",
              "    </tr>\n",
              "  </thead>\n",
              "  <tbody>\n",
              "    <tr>\n",
              "      <th>0</th>\n",
              "      <td>Lionel</td>\n",
              "      <td>Messi</td>\n",
              "      <td>11</td>\n",
              "      <td>429832.30</td>\n",
              "    </tr>\n",
              "    <tr>\n",
              "      <th>1</th>\n",
              "      <td>Ronaldo</td>\n",
              "      <td>Ronaldino</td>\n",
              "      <td>14</td>\n",
              "      <td>122212.34</td>\n",
              "    </tr>\n",
              "    <tr>\n",
              "      <th>2</th>\n",
              "      <td>Markus</td>\n",
              "      <td>Rushford</td>\n",
              "      <td>13</td>\n",
              "      <td>983434.00</td>\n",
              "    </tr>\n",
              "    <tr>\n",
              "      <th>3</th>\n",
              "      <td>Sadio</td>\n",
              "      <td>Mane</td>\n",
              "      <td>19</td>\n",
              "      <td>1722212.00</td>\n",
              "    </tr>\n",
              "    <tr>\n",
              "      <th>4</th>\n",
              "      <td>Muler</td>\n",
              "      <td>Muhler</td>\n",
              "      <td>23</td>\n",
              "      <td>1222124.00</td>\n",
              "    </tr>\n",
              "    <tr>\n",
              "      <th>5</th>\n",
              "      <td>Figo</td>\n",
              "      <td>Luis</td>\n",
              "      <td>14</td>\n",
              "      <td>122254.40</td>\n",
              "    </tr>\n",
              "    <tr>\n",
              "      <th>6</th>\n",
              "      <td>Salah</td>\n",
              "      <td>Muhammed</td>\n",
              "      <td>19</td>\n",
              "      <td>172212.00</td>\n",
              "    </tr>\n",
              "    <tr>\n",
              "      <th>7</th>\n",
              "      <td>Roberto</td>\n",
              "      <td>Firminio</td>\n",
              "      <td>19</td>\n",
              "      <td>1752212.00</td>\n",
              "    </tr>\n",
              "    <tr>\n",
              "      <th>8</th>\n",
              "      <td>Alisson</td>\n",
              "      <td>Taylor</td>\n",
              "      <td>19</td>\n",
              "      <td>97212.00</td>\n",
              "    </tr>\n",
              "  </tbody>\n",
              "</table>\n",
              "</div>"
            ],
            "text/plain": [
              "  first_name  last_name  club_id      Salary\n",
              "0     Lionel      Messi       11   429832.30\n",
              "1    Ronaldo  Ronaldino       14   122212.34\n",
              "2     Markus   Rushford       13   983434.00\n",
              "3      Sadio       Mane       19  1722212.00\n",
              "4      Muler     Muhler       23  1222124.00\n",
              "5       Figo       Luis       14   122254.40\n",
              "6      Salah   Muhammed       19   172212.00\n",
              "7    Roberto   Firminio       19  1752212.00\n",
              "8    Alisson     Taylor       19    97212.00"
            ]
          },
          "metadata": {
            "tags": []
          },
          "execution_count": 40
        }
      ]
    },
    {
      "cell_type": "code",
      "metadata": {
        "colab": {
          "base_uri": "https://localhost:8080/",
          "height": 204
        },
        "id": "CNpK8ObAoH8R",
        "outputId": "e6010f2a-e80a-43dc-f2d9-3c95802207d9"
      },
      "source": [
        "pd.read_sql_query(\"SELECT * FROM clubs\", conn)"
      ],
      "execution_count": 41,
      "outputs": [
        {
          "output_type": "execute_result",
          "data": {
            "text/html": [
              "<div>\n",
              "<style scoped>\n",
              "    .dataframe tbody tr th:only-of-type {\n",
              "        vertical-align: middle;\n",
              "    }\n",
              "\n",
              "    .dataframe tbody tr th {\n",
              "        vertical-align: top;\n",
              "    }\n",
              "\n",
              "    .dataframe thead th {\n",
              "        text-align: right;\n",
              "    }\n",
              "</style>\n",
              "<table border=\"1\" class=\"dataframe\">\n",
              "  <thead>\n",
              "    <tr style=\"text-align: right;\">\n",
              "      <th></th>\n",
              "      <th>id</th>\n",
              "      <th>club_name</th>\n",
              "      <th>club_location</th>\n",
              "      <th>foundationYear</th>\n",
              "      <th>capitalisation</th>\n",
              "    </tr>\n",
              "  </thead>\n",
              "  <tbody>\n",
              "    <tr>\n",
              "      <th>0</th>\n",
              "      <td>11</td>\n",
              "      <td>Barcelona</td>\n",
              "      <td>Spain</td>\n",
              "      <td>1902</td>\n",
              "      <td>1999999.0</td>\n",
              "    </tr>\n",
              "    <tr>\n",
              "      <th>1</th>\n",
              "      <td>13</td>\n",
              "      <td>Man United</td>\n",
              "      <td>England</td>\n",
              "      <td>1900</td>\n",
              "      <td>2999999.0</td>\n",
              "    </tr>\n",
              "    <tr>\n",
              "      <th>2</th>\n",
              "      <td>14</td>\n",
              "      <td>Juventus</td>\n",
              "      <td>Italy</td>\n",
              "      <td>1908</td>\n",
              "      <td>999999.0</td>\n",
              "    </tr>\n",
              "    <tr>\n",
              "      <th>3</th>\n",
              "      <td>19</td>\n",
              "      <td>Liverpool</td>\n",
              "      <td>England</td>\n",
              "      <td>1900</td>\n",
              "      <td>3999999.0</td>\n",
              "    </tr>\n",
              "    <tr>\n",
              "      <th>4</th>\n",
              "      <td>23</td>\n",
              "      <td>Bayern</td>\n",
              "      <td>German</td>\n",
              "      <td>1920</td>\n",
              "      <td>2999999.0</td>\n",
              "    </tr>\n",
              "  </tbody>\n",
              "</table>\n",
              "</div>"
            ],
            "text/plain": [
              "   id   club_name club_location  foundationYear  capitalisation\n",
              "0  11   Barcelona         Spain            1902       1999999.0\n",
              "1  13  Man United       England            1900       2999999.0\n",
              "2  14    Juventus         Italy            1908        999999.0\n",
              "3  19   Liverpool       England            1900       3999999.0\n",
              "4  23      Bayern        German            1920       2999999.0"
            ]
          },
          "metadata": {
            "tags": []
          },
          "execution_count": 41
        }
      ]
    },
    {
      "cell_type": "code",
      "metadata": {
        "colab": {
          "base_uri": "https://localhost:8080/",
          "height": 328
        },
        "id": "35ZeoewdDhjw",
        "outputId": "b103c8d2-778f-4455-e5c0-b117c55ab94c"
      },
      "source": [
        "#update a record\n",
        "query = \"UPDATE players SET club_id=11 WHERE first_name='Roberto' and last_name='Firminio'\"\n",
        "c.execute(query)\n",
        "conn.commit()\n",
        "pd.read_sql_query(\"SELECT * FROM players\", conn)"
      ],
      "execution_count": 43,
      "outputs": [
        {
          "output_type": "execute_result",
          "data": {
            "text/html": [
              "<div>\n",
              "<style scoped>\n",
              "    .dataframe tbody tr th:only-of-type {\n",
              "        vertical-align: middle;\n",
              "    }\n",
              "\n",
              "    .dataframe tbody tr th {\n",
              "        vertical-align: top;\n",
              "    }\n",
              "\n",
              "    .dataframe thead th {\n",
              "        text-align: right;\n",
              "    }\n",
              "</style>\n",
              "<table border=\"1\" class=\"dataframe\">\n",
              "  <thead>\n",
              "    <tr style=\"text-align: right;\">\n",
              "      <th></th>\n",
              "      <th>first_name</th>\n",
              "      <th>last_name</th>\n",
              "      <th>club_id</th>\n",
              "      <th>Salary</th>\n",
              "    </tr>\n",
              "  </thead>\n",
              "  <tbody>\n",
              "    <tr>\n",
              "      <th>0</th>\n",
              "      <td>Lionel</td>\n",
              "      <td>Messi</td>\n",
              "      <td>11</td>\n",
              "      <td>429832.30</td>\n",
              "    </tr>\n",
              "    <tr>\n",
              "      <th>1</th>\n",
              "      <td>Ronaldo</td>\n",
              "      <td>Ronaldino</td>\n",
              "      <td>14</td>\n",
              "      <td>122212.34</td>\n",
              "    </tr>\n",
              "    <tr>\n",
              "      <th>2</th>\n",
              "      <td>Markus</td>\n",
              "      <td>Rushford</td>\n",
              "      <td>13</td>\n",
              "      <td>983434.00</td>\n",
              "    </tr>\n",
              "    <tr>\n",
              "      <th>3</th>\n",
              "      <td>Sadio</td>\n",
              "      <td>Mane</td>\n",
              "      <td>19</td>\n",
              "      <td>1722212.00</td>\n",
              "    </tr>\n",
              "    <tr>\n",
              "      <th>4</th>\n",
              "      <td>Muler</td>\n",
              "      <td>Muhler</td>\n",
              "      <td>23</td>\n",
              "      <td>1222124.00</td>\n",
              "    </tr>\n",
              "    <tr>\n",
              "      <th>5</th>\n",
              "      <td>Figo</td>\n",
              "      <td>Luis</td>\n",
              "      <td>14</td>\n",
              "      <td>122254.40</td>\n",
              "    </tr>\n",
              "    <tr>\n",
              "      <th>6</th>\n",
              "      <td>Salah</td>\n",
              "      <td>Muhammed</td>\n",
              "      <td>19</td>\n",
              "      <td>172212.00</td>\n",
              "    </tr>\n",
              "    <tr>\n",
              "      <th>7</th>\n",
              "      <td>Roberto</td>\n",
              "      <td>Firminio</td>\n",
              "      <td>11</td>\n",
              "      <td>1752212.00</td>\n",
              "    </tr>\n",
              "    <tr>\n",
              "      <th>8</th>\n",
              "      <td>Alisson</td>\n",
              "      <td>Taylor</td>\n",
              "      <td>19</td>\n",
              "      <td>97212.00</td>\n",
              "    </tr>\n",
              "  </tbody>\n",
              "</table>\n",
              "</div>"
            ],
            "text/plain": [
              "  first_name  last_name  club_id      Salary\n",
              "0     Lionel      Messi       11   429832.30\n",
              "1    Ronaldo  Ronaldino       14   122212.34\n",
              "2     Markus   Rushford       13   983434.00\n",
              "3      Sadio       Mane       19  1722212.00\n",
              "4      Muler     Muhler       23  1222124.00\n",
              "5       Figo       Luis       14   122254.40\n",
              "6      Salah   Muhammed       19   172212.00\n",
              "7    Roberto   Firminio       11  1752212.00\n",
              "8    Alisson     Taylor       19    97212.00"
            ]
          },
          "metadata": {
            "tags": []
          },
          "execution_count": 43
        }
      ]
    },
    {
      "cell_type": "code",
      "metadata": {
        "colab": {
          "base_uri": "https://localhost:8080/"
        },
        "id": "R_7cnuQiDhnH",
        "outputId": "3a5018fa-4010-4633-e62e-56a8cd69158f"
      },
      "source": [
        "c.execute(\"SELECT * FROM players WHERE club_id=11\")\n",
        "conn.commit()\n",
        "for p in c.fetchall():\n",
        "  print(p)"
      ],
      "execution_count": 48,
      "outputs": [
        {
          "output_type": "stream",
          "text": [
            "('Lionel', 'Messi', 11, 429832.3)\n",
            "('Roberto', 'Firminio', 11, 1752212.0)\n"
          ],
          "name": "stdout"
        }
      ]
    },
    {
      "cell_type": "code",
      "metadata": {
        "colab": {
          "base_uri": "https://localhost:8080/"
        },
        "id": "2VcZGHEQDhqP",
        "outputId": "54eaeffb-304d-4f51-fe06-e393db2f24a5"
      },
      "source": [
        "# Delete a row, first add a row then delete\n",
        "c.execute(\"INSERT INTO players VALUES('Some', 'Player', 33, -109.9)\")\n",
        "conn.commit()\n",
        "c.execute(\"SELECT * FROM players\")\n",
        "conn.commit()\n",
        "for p in c.fetchall():\n",
        "  print(p)"
      ],
      "execution_count": 76,
      "outputs": [
        {
          "output_type": "stream",
          "text": [
            "('Lionel', 'Messi', 11, 429832.3)\n",
            "('Ronaldo', 'Ronaldino', 14, 122212.34)\n",
            "('Markus', 'Rushford', 13, 983434.0)\n",
            "('Sadio', 'Mane', 19, 1722212.0)\n",
            "('Muler', 'Muhler', 23, 1222124.0)\n",
            "('Figo', 'Luis', 14, 122254.4)\n",
            "('Salah', 'Muhammed', 19, 172212.0)\n",
            "('Roberto', 'Firminio', 11, 1752212.0)\n",
            "('Alisson', 'Taylor', 19, 97212.0)\n",
            "('Some', 'Player', 33, -109.9)\n"
          ],
          "name": "stdout"
        }
      ]
    },
    {
      "cell_type": "code",
      "metadata": {
        "colab": {
          "base_uri": "https://localhost:8080/",
          "height": 328
        },
        "id": "iCkxma7nDhtX",
        "outputId": "53f6e212-c85a-4cdd-d5ea-4bee0110a9a8"
      },
      "source": [
        "#Delete Some Player\n",
        "c.execute(\"DELETE FROM players WHERE first_name='Some' and last_name='Player' \")\n",
        "conn.commit()\n",
        "pd.read_sql_query(\"SELECT * FROM players\", conn)"
      ],
      "execution_count": 77,
      "outputs": [
        {
          "output_type": "execute_result",
          "data": {
            "text/html": [
              "<div>\n",
              "<style scoped>\n",
              "    .dataframe tbody tr th:only-of-type {\n",
              "        vertical-align: middle;\n",
              "    }\n",
              "\n",
              "    .dataframe tbody tr th {\n",
              "        vertical-align: top;\n",
              "    }\n",
              "\n",
              "    .dataframe thead th {\n",
              "        text-align: right;\n",
              "    }\n",
              "</style>\n",
              "<table border=\"1\" class=\"dataframe\">\n",
              "  <thead>\n",
              "    <tr style=\"text-align: right;\">\n",
              "      <th></th>\n",
              "      <th>first_name</th>\n",
              "      <th>last_name</th>\n",
              "      <th>club_id</th>\n",
              "      <th>Salary</th>\n",
              "    </tr>\n",
              "  </thead>\n",
              "  <tbody>\n",
              "    <tr>\n",
              "      <th>0</th>\n",
              "      <td>Lionel</td>\n",
              "      <td>Messi</td>\n",
              "      <td>11</td>\n",
              "      <td>429832.30</td>\n",
              "    </tr>\n",
              "    <tr>\n",
              "      <th>1</th>\n",
              "      <td>Ronaldo</td>\n",
              "      <td>Ronaldino</td>\n",
              "      <td>14</td>\n",
              "      <td>122212.34</td>\n",
              "    </tr>\n",
              "    <tr>\n",
              "      <th>2</th>\n",
              "      <td>Markus</td>\n",
              "      <td>Rushford</td>\n",
              "      <td>13</td>\n",
              "      <td>983434.00</td>\n",
              "    </tr>\n",
              "    <tr>\n",
              "      <th>3</th>\n",
              "      <td>Sadio</td>\n",
              "      <td>Mane</td>\n",
              "      <td>19</td>\n",
              "      <td>1722212.00</td>\n",
              "    </tr>\n",
              "    <tr>\n",
              "      <th>4</th>\n",
              "      <td>Muler</td>\n",
              "      <td>Muhler</td>\n",
              "      <td>23</td>\n",
              "      <td>1222124.00</td>\n",
              "    </tr>\n",
              "    <tr>\n",
              "      <th>5</th>\n",
              "      <td>Figo</td>\n",
              "      <td>Luis</td>\n",
              "      <td>14</td>\n",
              "      <td>122254.40</td>\n",
              "    </tr>\n",
              "    <tr>\n",
              "      <th>6</th>\n",
              "      <td>Salah</td>\n",
              "      <td>Muhammed</td>\n",
              "      <td>19</td>\n",
              "      <td>172212.00</td>\n",
              "    </tr>\n",
              "    <tr>\n",
              "      <th>7</th>\n",
              "      <td>Roberto</td>\n",
              "      <td>Firminio</td>\n",
              "      <td>11</td>\n",
              "      <td>1752212.00</td>\n",
              "    </tr>\n",
              "    <tr>\n",
              "      <th>8</th>\n",
              "      <td>Alisson</td>\n",
              "      <td>Taylor</td>\n",
              "      <td>19</td>\n",
              "      <td>97212.00</td>\n",
              "    </tr>\n",
              "  </tbody>\n",
              "</table>\n",
              "</div>"
            ],
            "text/plain": [
              "  first_name  last_name  club_id      Salary\n",
              "0     Lionel      Messi       11   429832.30\n",
              "1    Ronaldo  Ronaldino       14   122212.34\n",
              "2     Markus   Rushford       13   983434.00\n",
              "3      Sadio       Mane       19  1722212.00\n",
              "4      Muler     Muhler       23  1222124.00\n",
              "5       Figo       Luis       14   122254.40\n",
              "6      Salah   Muhammed       19   172212.00\n",
              "7    Roberto   Firminio       11  1752212.00\n",
              "8    Alisson     Taylor       19    97212.00"
            ]
          },
          "metadata": {
            "tags": []
          },
          "execution_count": 77
        }
      ]
    },
    {
      "cell_type": "code",
      "metadata": {
        "id": "bmTo1RlbDhwX"
      },
      "source": [
        "#Drop dropmedead table\n",
        "pd.read_sql_query(\" SELECT * FROM sqlite_master WHERE type='table' \", conn)"
      ],
      "execution_count": null,
      "outputs": []
    },
    {
      "cell_type": "code",
      "metadata": {
        "colab": {
          "base_uri": "https://localhost:8080/",
          "height": 142
        },
        "id": "xetG71WXud89",
        "outputId": "a2e7f0ab-2e35-4f9f-e443-efee654e5d6d"
      },
      "source": [
        "pd.read_sql_query(\" SELECT * FROM sqlite_master WHERE type='table' \", conn)"
      ],
      "execution_count": 82,
      "outputs": [
        {
          "output_type": "execute_result",
          "data": {
            "text/html": [
              "<div>\n",
              "<style scoped>\n",
              "    .dataframe tbody tr th:only-of-type {\n",
              "        vertical-align: middle;\n",
              "    }\n",
              "\n",
              "    .dataframe tbody tr th {\n",
              "        vertical-align: top;\n",
              "    }\n",
              "\n",
              "    .dataframe thead th {\n",
              "        text-align: right;\n",
              "    }\n",
              "</style>\n",
              "<table border=\"1\" class=\"dataframe\">\n",
              "  <thead>\n",
              "    <tr style=\"text-align: right;\">\n",
              "      <th></th>\n",
              "      <th>type</th>\n",
              "      <th>name</th>\n",
              "      <th>tbl_name</th>\n",
              "      <th>rootpage</th>\n",
              "      <th>sql</th>\n",
              "    </tr>\n",
              "  </thead>\n",
              "  <tbody>\n",
              "    <tr>\n",
              "      <th>0</th>\n",
              "      <td>table</td>\n",
              "      <td>players</td>\n",
              "      <td>players</td>\n",
              "      <td>2</td>\n",
              "      <td>CREATE TABLE players(first_name text, \\n      ...</td>\n",
              "    </tr>\n",
              "    <tr>\n",
              "      <th>1</th>\n",
              "      <td>table</td>\n",
              "      <td>clubs</td>\n",
              "      <td>clubs</td>\n",
              "      <td>3</td>\n",
              "      <td>CREATE TABLE clubs(id int,\\n                  ...</td>\n",
              "    </tr>\n",
              "    <tr>\n",
              "      <th>2</th>\n",
              "      <td>table</td>\n",
              "      <td>dropmedead</td>\n",
              "      <td>dropmedead</td>\n",
              "      <td>4</td>\n",
              "      <td>CREATE TABLE dropmedead(fakevalue int,\\n      ...</td>\n",
              "    </tr>\n",
              "  </tbody>\n",
              "</table>\n",
              "</div>"
            ],
            "text/plain": [
              "    type  ...                                                sql\n",
              "0  table  ...  CREATE TABLE players(first_name text, \\n      ...\n",
              "1  table  ...  CREATE TABLE clubs(id int,\\n                  ...\n",
              "2  table  ...  CREATE TABLE dropmedead(fakevalue int,\\n      ...\n",
              "\n",
              "[3 rows x 5 columns]"
            ]
          },
          "metadata": {
            "tags": []
          },
          "execution_count": 82
        }
      ]
    },
    {
      "cell_type": "code",
      "metadata": {
        "colab": {
          "base_uri": "https://localhost:8080/"
        },
        "id": "e5SjaR0Ltxjs",
        "outputId": "23ccf01d-71c8-4761-afca-4cf39d0c8c00"
      },
      "source": [
        "c.execute(\" DROP TABLE dropmedead\")\n",
        "conn.commit\n",
        "c.execute(\"SELECT * FROM sqlite_master WHERE type='table'\")\n",
        "conn.commit\n",
        "for t in c.fetchall():\n",
        "  print(t)"
      ],
      "execution_count": 83,
      "outputs": [
        {
          "output_type": "stream",
          "text": [
            "('table', 'players', 'players', 2, 'CREATE TABLE players(first_name text, \\n                                                    last_name text, \\n                                                    club_id int, \\n                                                    Salary Real)')\n",
            "('table', 'clubs', 'clubs', 3, 'CREATE TABLE clubs(id int,\\n                                            club_name text, \\n                                            club_location text,  \\n                                            foundationYear int,\\n                                            capitalisation Real)')\n"
          ],
          "name": "stdout"
        }
      ]
    }
  ]
}