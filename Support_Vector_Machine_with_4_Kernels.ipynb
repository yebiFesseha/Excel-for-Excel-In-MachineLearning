{
  "nbformat": 4,
  "nbformat_minor": 0,
  "metadata": {
    "colab": {
      "name": "Support Vector Machine with 4 Kernels.ipynb",
      "provenance": [],
      "collapsed_sections": [],
      "authorship_tag": "ABX9TyPSae/LJ58TtHpoRURA4oVj",
      "include_colab_link": true
    },
    "kernelspec": {
      "name": "python3",
      "display_name": "Python 3"
    }
  },
  "cells": [
    {
      "cell_type": "markdown",
      "metadata": {
        "id": "view-in-github",
        "colab_type": "text"
      },
      "source": [
        "<a href=\"https://colab.research.google.com/github/yebiFesseha/Excel-for-Excel-In-MachineLearning/blob/main/Support_Vector_Machine_with_4_Kernels.ipynb\" target=\"_parent\"><img src=\"https://colab.research.google.com/assets/colab-badge.svg\" alt=\"Open In Colab\"/></a>"
      ]
    },
    {
      "cell_type": "code",
      "metadata": {
        "id": "mKX_Qi7JEzZg"
      },
      "source": [
        "from sklearn import datasets\r\n",
        "import pandas as pd\r\n",
        "import matplotlib.pyplot as plt\r\n",
        "import seaborn as sns\r\n",
        "from matplotlib import style\r\n",
        "import numpy as np\r\n",
        "style.use('fivethirtyeight')"
      ],
      "execution_count": 72,
      "outputs": []
    },
    {
      "cell_type": "code",
      "metadata": {
        "colab": {
          "base_uri": "https://localhost:8080/"
        },
        "id": "E17DrWxrFbCl",
        "outputId": "bca57ff0-87d5-42ad-aba8-b0160d6df92a"
      },
      "source": [
        "df = datasets.load_breast_cancer() \r\n",
        "print(f\"The data length is:{len(df.data)}, and target length is:{len(df.target)}\")\r\n",
        "print(f\"The data size: {df.data.shape}\")"
      ],
      "execution_count": 41,
      "outputs": [
        {
          "output_type": "stream",
          "text": [
            "The data length is:569, and target length is:569\n",
            "The data size: (569, 30)\n"
          ],
          "name": "stdout"
        }
      ]
    },
    {
      "cell_type": "code",
      "metadata": {
        "id": "9Iykxjc_FbHD"
      },
      "source": [
        "X = pd.DataFrame(df.data, columns=df.feature_names)\r\n",
        "y = df.target"
      ],
      "execution_count": 38,
      "outputs": []
    },
    {
      "cell_type": "code",
      "metadata": {
        "id": "WjI81dlIFbKa"
      },
      "source": [
        "from sklearn.model_selection import train_test_split"
      ],
      "execution_count": 42,
      "outputs": []
    },
    {
      "cell_type": "code",
      "metadata": {
        "id": "B1EZRxCfFbNj"
      },
      "source": [
        "X_train, X_test, y_train, y_test = train_test_split(X, y, test_size=0.25 ,random_state = 10)"
      ],
      "execution_count": 84,
      "outputs": []
    },
    {
      "cell_type": "code",
      "metadata": {
        "colab": {
          "base_uri": "https://localhost:8080/"
        },
        "id": "2z_4rU2bFbQa",
        "outputId": "8f817416-5206-49df-ac5b-7b1c1e04ff50"
      },
      "source": [
        "print(f\"The length is:{round(100*len(X_train)/len(X),2)}%, and target length is:{round(100-round(100*len(X_train)/len(X),2),2)}%\")"
      ],
      "execution_count": 56,
      "outputs": [
        {
          "output_type": "stream",
          "text": [
            "The length is:74.87%, and target length is:25.13%\n"
          ],
          "name": "stdout"
        }
      ]
    },
    {
      "cell_type": "code",
      "metadata": {
        "id": "yRlrW2XqFbTT"
      },
      "source": [
        "from sklearn import svm\r\n",
        "from sklearn import metrics"
      ],
      "execution_count": 91,
      "outputs": []
    },
    {
      "cell_type": "code",
      "metadata": {
        "id": "cikRJ_PeV3UP"
      },
      "source": [
        "kernels = ['linear', 'poly', 'sigmoid', 'rbf']"
      ],
      "execution_count": 142,
      "outputs": []
    },
    {
      "cell_type": "code",
      "metadata": {
        "id": "FbXJXxEXFbV7"
      },
      "source": [
        "svc_predictions={}\r\n",
        "for k in kernels:\r\n",
        "  clf = svm.SVC(kernel= k)\r\n",
        "  clf.fit(X_train, y_train)\r\n",
        "  y_pred = clf.predict(X_test)\r\n",
        "  kernel_score = 100*metrics.accuracy_score(y_test, y_pred)\r\n",
        "  svc_predictions.update({k:kernel_score})"
      ],
      "execution_count": 150,
      "outputs": []
    },
    {
      "cell_type": "code",
      "metadata": {
        "colab": {
          "base_uri": "https://localhost:8080/"
        },
        "id": "TLnMjcb-FbY7",
        "outputId": "3274c64f-f4a9-48e4-d644-0562088d6d25"
      },
      "source": [
        "print(svc_predictions)"
      ],
      "execution_count": 151,
      "outputs": [
        {
          "output_type": "stream",
          "text": [
            "{'linear': 95.1048951048951, 'poly': 90.20979020979021, 'sigmoid': 44.75524475524475, 'rbf': 92.3076923076923}\n"
          ],
          "name": "stdout"
        }
      ]
    },
    {
      "cell_type": "code",
      "metadata": {
        "colab": {
          "base_uri": "https://localhost:8080/",
          "height": 399
        },
        "id": "l4On-lT6Fbby",
        "outputId": "2c503f52-617c-44ae-ffaa-2b6a8b6f4c99"
      },
      "source": [
        "plt.figure(figsize=(8,5))\r\n",
        "sns.barplot([key for key in svc_predictions.keys()],\r\n",
        "            [val for val in svc_predictions.values()], \r\n",
        "            ) \r\n",
        "plt.ylim(40,100,5)\r\n",
        "# plt.yticks(np.arange(0, 100, step=10))\r\n",
        "plt.grid(b=True, which='minor', axis='y')\r\n",
        "plt.show()"
      ],
      "execution_count": 229,
      "outputs": [
        {
          "output_type": "stream",
          "text": [
            "/usr/local/lib/python3.6/dist-packages/seaborn/_decorators.py:43: FutureWarning: Pass the following variables as keyword args: x, y. From version 0.12, the only valid positional argument will be `data`, and passing other arguments without an explicit keyword will result in an error or misinterpretation.\n",
            "  FutureWarning\n"
          ],
          "name": "stderr"
        },
        {
          "output_type": "display_data",
          "data": {
            "image/png": "[encoded data removed]",
            "text/plain": [
              "<Figure size 576x360 with 1 Axes>"
            ]
          },
          "metadata": {
            "tags": []
          }
        }
      ]
    },
    {
      "cell_type": "markdown",
      "metadata": {
        "id": "fla8FtkQpdas"
      },
      "source": [
        "### Using SVM with Regression and Linear Kernel: \r\n",
        "  using SVR with Linear kernel and pass that through a sigmoid function with thresholds from 0 to 0.9. If a value is above a threshold then the output is 1 else 0. Then running metrics on all thresholds. For this one 0.4 gives a high metrics score of 95% same as svm.SVC(kernel='linear') model."
      ]
    },
    {
      "cell_type": "code",
      "metadata": {
        "id": "pDICQpINFbey"
      },
      "source": [
        "clfr = svm.SVR(kernel='linear')"
      ],
      "execution_count": 232,
      "outputs": []
    },
    {
      "cell_type": "code",
      "metadata": {
        "colab": {
          "base_uri": "https://localhost:8080/"
        },
        "id": "1xU-5GHhFbiL",
        "outputId": "1c04c1ab-f58b-4bde-c37e-ee23836e00e2"
      },
      "source": [
        "clfr.fit(X_train, y_train)"
      ],
      "execution_count": 234,
      "outputs": [
        {
          "output_type": "execute_result",
          "data": {
            "text/plain": [
              "SVR(C=1.0, cache_size=200, coef0=0.0, degree=3, epsilon=0.1, gamma='scale',\n",
              "    kernel='linear', max_iter=-1, shrinking=True, tol=0.001, verbose=False)"
            ]
          },
          "metadata": {
            "tags": []
          },
          "execution_count": 234
        }
      ]
    },
    {
      "cell_type": "code",
      "metadata": {
        "id": "z3x2RcUMq-pE"
      },
      "source": [
        "y_predr =  clfr.predict(X_test)"
      ],
      "execution_count": 291,
      "outputs": []
    },
    {
      "cell_type": "code",
      "metadata": {
        "id": "-iCDbDN1tVE3"
      },
      "source": [
        "y_predr_dict = {}\r\n",
        "for i in np.arange(0,1,0.1):\r\n",
        "  y_predr_list = []\r\n",
        "  for val in y_predr:\r\n",
        "    if val > i:\r\n",
        "      y_predr_list.append(1)\r\n",
        "    else:\r\n",
        "      y_predr_list.append(0)\r\n",
        "  y_predr_dict.update({i:y_predr_list})\r\n"
      ],
      "execution_count": 304,
      "outputs": []
    },
    {
      "cell_type": "code",
      "metadata": {
        "id": "3xlZhcrHtVSo"
      },
      "source": [
        "y_predr_metrics ={}\r\n",
        "for key in y_predr_dict.keys():\r\n",
        "  accuracy_metrics = metrics.accuracy_score(y_test, y_predr_dict.get(key))\r\n",
        "  y_predr_metrics.update({key:accuracy_metrics})"
      ],
      "execution_count": 316,
      "outputs": []
    },
    {
      "cell_type": "code",
      "metadata": {
        "colab": {
          "base_uri": "https://localhost:8080/"
        },
        "id": "6pFt4AFctVcI",
        "outputId": "2981fb8d-9a5d-4aec-aed3-6cd981f69789"
      },
      "source": [
        "y_predr_metrics"
      ],
      "execution_count": 317,
      "outputs": [
        {
          "output_type": "execute_result",
          "data": {
            "text/plain": [
              "{0.0: 0.8181818181818182,\n",
              " 0.1: 0.8531468531468531,\n",
              " 0.2: 0.9020979020979021,\n",
              " 0.30000000000000004: 0.9370629370629371,\n",
              " 0.4: 0.958041958041958,\n",
              " 0.5: 0.9300699300699301,\n",
              " 0.6000000000000001: 0.9230769230769231,\n",
              " 0.7000000000000001: 0.8811188811188811,\n",
              " 0.8: 0.8181818181818182,\n",
              " 0.9: 0.7552447552447552}"
            ]
          },
          "metadata": {
            "tags": []
          },
          "execution_count": 317
        }
      ]
    },
    {
      "cell_type": "code",
      "metadata": {
        "colab": {
          "base_uri": "https://localhost:8080/",
          "height": 415
        },
        "id": "HJvAvR1RtVin",
        "outputId": "a430f916-c2ae-4956-f946-5dacd4a9d03d"
      },
      "source": [
        "plt.figure(figsize=(12,5))\r\n",
        "sns.lineplot([key for key in y_predr_metrics.keys()],\r\n",
        "            [val for val in y_predr_metrics.values()]) \r\n",
        "plt.ylabel('metrics score')\r\n",
        "plt.xlabel('threshold')\r\n",
        "plt.show()"
      ],
      "execution_count": 322,
      "outputs": [
        {
          "output_type": "stream",
          "text": [
            "/usr/local/lib/python3.6/dist-packages/seaborn/_decorators.py:43: FutureWarning: Pass the following variables as keyword args: x, y. From version 0.12, the only valid positional argument will be `data`, and passing other arguments without an explicit keyword will result in an error or misinterpretation.\n",
            "  FutureWarning\n"
          ],
          "name": "stderr"
        },
        {
          "output_type": "display_data",
          "data": {
            "image/png": "[encoded data removed]",
            "text/plain": [
              "<Figure size 864x360 with 1 Axes>"
            ]
          },
          "metadata": {
            "tags": []
          }
        }
      ]
    }
  ]
}