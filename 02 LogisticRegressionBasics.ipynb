{
  "nbformat": 4,
  "nbformat_minor": 0,
  "metadata": {
    "colab": {
      "name": "LogisticRegressionBasics.ipynb",
      "provenance": [],
      "authorship_tag": "ABX9TyPbgz2Zv3vyP095TD3JFKCV",
      "include_colab_link": true
    },
    "kernelspec": {
      "name": "python3",
      "display_name": "Python 3"
    }
  },
  "cells": [
    {
      "cell_type": "markdown",
      "metadata": {
        "id": "view-in-github",
        "colab_type": "text"
      },
      "source": [
        "<a href=\"https://colab.research.google.com/github/yebiFesseha/Excel-for-Excel-In-MachineLearning/blob/main/LogisticRegressionBasics.ipynb\" target=\"_parent\"><img src=\"https://colab.research.google.com/assets/colab-badge.svg\" alt=\"Open In Colab\"/></a>"
      ]
    },
    {
      "cell_type": "code",
      "metadata": {
        "id": "aALxqdQTiH-P"
      },
      "source": [
        "import pandas as pd\r\n",
        "import numpy as np\r\n",
        "import matplotlib.pyplot as plt\r\n",
        "import seaborn as sns\r\n",
        "import math\r\n",
        "from matplotlib import style\r\n",
        "style.use('ggplot')\r\n",
        "\r\n",
        "%matplotlib inline"
      ],
      "execution_count": 5,
      "outputs": []
    },
    {
      "cell_type": "code",
      "metadata": {
        "colab": {
          "base_uri": "https://localhost:8080/"
        },
        "id": "V_vHPyrBjICk",
        "outputId": "f7a41c2e-ee12-4a55-84c8-2a2e9c042165"
      },
      "source": [
        "math.e"
      ],
      "execution_count": 35,
      "outputs": [
        {
          "output_type": "execute_result",
          "data": {
            "text/plain": [
              "2.718281828459045"
            ]
          },
          "metadata": {
            "tags": []
          },
          "execution_count": 35
        }
      ]
    },
    {
      "cell_type": "code",
      "metadata": {
        "colab": {
          "base_uri": "https://localhost:8080/"
        },
        "id": "l7akdS2VkBrv",
        "outputId": "a2b870b2-4a46-4fb7-d20b-903eb26ba225"
      },
      "source": [
        "# [1 / (1 + np.exp(i)) for i in np.arange(-11,12)]\r\n",
        "# [1 / (1 + math.e**i) for i in np.arange(-11,12)]\r\n",
        "[1 / (1 + np.e**i) for i in np.arange(-11,12)]"
      ],
      "execution_count": 24,
      "outputs": [
        {
          "output_type": "execute_result",
          "data": {
            "text/plain": [
              "[0.999983298578152,\n",
              " 0.9999546021312976,\n",
              " 0.9998766054240137,\n",
              " 0.9996646498695336,\n",
              " 0.9990889488055994,\n",
              " 0.9975273768433653,\n",
              " 0.9933071490757153,\n",
              " 0.9820137900379085,\n",
              " 0.9525741268224331,\n",
              " 0.8807970779778823,\n",
              " 0.7310585786300049,\n",
              " 0.5,\n",
              " 0.2689414213699951,\n",
              " 0.11920292202211757,\n",
              " 0.04742587317756679,\n",
              " 0.017986209962091562,\n",
              " 0.006692850924284857,\n",
              " 0.002472623156634775,\n",
              " 0.0009110511944006456,\n",
              " 0.00033535013046647827,\n",
              " 0.0001233945759862318,\n",
              " 4.539786870243442e-05,\n",
              " 1.670142184809519e-05]"
            ]
          },
          "metadata": {
            "tags": []
          },
          "execution_count": 24
        }
      ]
    },
    {
      "cell_type": "code",
      "metadata": {
        "colab": {
          "base_uri": "https://localhost:8080/",
          "height": 318
        },
        "id": "Iwb6M02Kiro5",
        "outputId": "a64196c9-f6b8-4e7d-fbe7-955f79480cb5"
      },
      "source": [
        "sns.lineplot(np.arange(-11,12), [1 / (1 + np.e**-i) for i in np.arange(-11,12)])\r\n",
        "plt.show()"
      ],
      "execution_count": 32,
      "outputs": [
        {
          "output_type": "stream",
          "text": [
            "/usr/local/lib/python3.6/dist-packages/seaborn/_decorators.py:43: FutureWarning: Pass the following variables as keyword args: x, y. From version 0.12, the only valid positional argument will be `data`, and passing other arguments without an explicit keyword will result in an error or misinterpretation.\n",
            "  FutureWarning\n"
          ],
          "name": "stderr"
        },
        {
          "output_type": "display_data",
          "data": {
            "image/png": "[encoded data removed]",
            "text/plain": [
              "<Figure size 432x288 with 1 Axes>"
            ]
          },
          "metadata": {
            "tags": []
          }
        }
      ]
    },
    {
      "cell_type": "code",
      "metadata": {
        "id": "U3_vmO3CrU49"
      },
      "source": [
        "import os"
      ],
      "execution_count": 7,
      "outputs": []
    },
    {
      "cell_type": "code",
      "metadata": {
        "colab": {
          "base_uri": "https://localhost:8080/"
        },
        "id": "kA-y-TsZisY-",
        "outputId": "3b5590c0-4955-407b-fa04-2ef04f280ef8"
      },
      "source": [
        "# os.chdir(\"./\")\r\n",
        "# os.chdir(\"sample_data\")\r\n",
        "print(os.getcwd())\r\n",
        "print(os.listdir('/content/sample_data'))"
      ],
      "execution_count": 11,
      "outputs": [
        {
          "output_type": "stream",
          "text": [
            "/content\n",
            "['README.md', 'anscombe.json', 'california_housing_test.csv', 'mnist_test.csv', 'california_housing_train.csv', 'mnist_train_small.csv']\n"
          ],
          "name": "stdout"
        }
      ]
    },
    {
      "cell_type": "code",
      "metadata": {
        "id": "5BguhFdUisoh"
      },
      "source": [
        "# from google.colab import files\r\n",
        "# files.upload()"
      ],
      "execution_count": 331,
      "outputs": []
    },
    {
      "cell_type": "code",
      "metadata": {
        "colab": {
          "base_uri": "https://localhost:8080/"
        },
        "id": "PG8dSiX4vkdg",
        "outputId": "028d2595-7ce6-409d-f864-efb691262f87"
      },
      "source": [
        "print(os.listdir('/content'))"
      ],
      "execution_count": 16,
      "outputs": [
        {
          "output_type": "stream",
          "text": [
            "['.config', 'pl_dataset.csv', 'sample_data']\n"
          ],
          "name": "stdout"
        }
      ]
    },
    {
      "cell_type": "code",
      "metadata": {
        "colab": {
          "base_uri": "https://localhost:8080/",
          "height": 320
        },
        "id": "Ac0Jf9ePyTOx",
        "outputId": "fa4ef427-e7d6-4b9c-a438-02f55152c036"
      },
      "source": [
        "df = pd.read_csv(\"/content/pl_dataset.csv\")\r\n",
        "df.head()"
      ],
      "execution_count": 17,
      "outputs": [
        {
          "output_type": "execute_result",
          "data": {
            "text/html": [
              "<div>\n",
              "<style scoped>\n",
              "    .dataframe tbody tr th:only-of-type {\n",
              "        vertical-align: middle;\n",
              "    }\n",
              "\n",
              "    .dataframe tbody tr th {\n",
              "        vertical-align: top;\n",
              "    }\n",
              "\n",
              "    .dataframe thead th {\n",
              "        text-align: right;\n",
              "    }\n",
              "</style>\n",
              "<table border=\"1\" class=\"dataframe\">\n",
              "  <thead>\n",
              "    <tr style=\"text-align: right;\">\n",
              "      <th></th>\n",
              "      <th>Unnamed: 0</th>\n",
              "      <th>Date</th>\n",
              "      <th>HomeTeam</th>\n",
              "      <th>AwayTeam</th>\n",
              "      <th>FTHG</th>\n",
              "      <th>FTAG</th>\n",
              "      <th>FTR</th>\n",
              "      <th>HTGS</th>\n",
              "      <th>ATGS</th>\n",
              "      <th>HTGC</th>\n",
              "      <th>ATGC</th>\n",
              "      <th>HTP</th>\n",
              "      <th>ATP</th>\n",
              "      <th>HM1</th>\n",
              "      <th>HM2</th>\n",
              "      <th>HM3</th>\n",
              "      <th>HM4</th>\n",
              "      <th>HM5</th>\n",
              "      <th>AM1</th>\n",
              "      <th>AM2</th>\n",
              "      <th>AM3</th>\n",
              "      <th>AM4</th>\n",
              "      <th>AM5</th>\n",
              "      <th>HomeTeamLP</th>\n",
              "      <th>AwayTeamLP</th>\n",
              "      <th>MW</th>\n",
              "      <th>HTFormPtsStr</th>\n",
              "      <th>ATFormPtsStr</th>\n",
              "      <th>HTFormPts</th>\n",
              "      <th>ATFormPts</th>\n",
              "      <th>HTWinStreak3</th>\n",
              "      <th>HTWinStreak5</th>\n",
              "      <th>HTLossStreak3</th>\n",
              "      <th>HTLossStreak5</th>\n",
              "      <th>ATWinStreak3</th>\n",
              "      <th>ATWinStreak5</th>\n",
              "      <th>ATLossStreak3</th>\n",
              "      <th>ATLossStreak5</th>\n",
              "      <th>HTGD</th>\n",
              "      <th>ATGD</th>\n",
              "      <th>DiffPts</th>\n",
              "      <th>DiffFormPts</th>\n",
              "      <th>DiffLP</th>\n",
              "    </tr>\n",
              "  </thead>\n",
              "  <tbody>\n",
              "    <tr>\n",
              "      <th>0</th>\n",
              "      <td>0</td>\n",
              "      <td>2000-08-19</td>\n",
              "      <td>Charlton</td>\n",
              "      <td>Man City</td>\n",
              "      <td>4</td>\n",
              "      <td>0</td>\n",
              "      <td>H</td>\n",
              "      <td>0</td>\n",
              "      <td>0</td>\n",
              "      <td>0</td>\n",
              "      <td>0</td>\n",
              "      <td>0.0</td>\n",
              "      <td>0.0</td>\n",
              "      <td>M</td>\n",
              "      <td>M</td>\n",
              "      <td>M</td>\n",
              "      <td>M</td>\n",
              "      <td>M</td>\n",
              "      <td>M</td>\n",
              "      <td>M</td>\n",
              "      <td>M</td>\n",
              "      <td>M</td>\n",
              "      <td>M</td>\n",
              "      <td>18.0</td>\n",
              "      <td>18.0</td>\n",
              "      <td>1.0</td>\n",
              "      <td>MMMMM</td>\n",
              "      <td>MMMMM</td>\n",
              "      <td>0</td>\n",
              "      <td>0</td>\n",
              "      <td>0</td>\n",
              "      <td>0</td>\n",
              "      <td>0</td>\n",
              "      <td>0</td>\n",
              "      <td>0</td>\n",
              "      <td>0</td>\n",
              "      <td>0</td>\n",
              "      <td>0</td>\n",
              "      <td>0.0</td>\n",
              "      <td>0.0</td>\n",
              "      <td>0.0</td>\n",
              "      <td>0.0</td>\n",
              "      <td>0.0</td>\n",
              "    </tr>\n",
              "    <tr>\n",
              "      <th>1</th>\n",
              "      <td>1</td>\n",
              "      <td>2000-08-19</td>\n",
              "      <td>Chelsea</td>\n",
              "      <td>West Ham</td>\n",
              "      <td>4</td>\n",
              "      <td>2</td>\n",
              "      <td>H</td>\n",
              "      <td>0</td>\n",
              "      <td>0</td>\n",
              "      <td>0</td>\n",
              "      <td>0</td>\n",
              "      <td>0.0</td>\n",
              "      <td>0.0</td>\n",
              "      <td>M</td>\n",
              "      <td>M</td>\n",
              "      <td>M</td>\n",
              "      <td>M</td>\n",
              "      <td>M</td>\n",
              "      <td>M</td>\n",
              "      <td>M</td>\n",
              "      <td>M</td>\n",
              "      <td>M</td>\n",
              "      <td>M</td>\n",
              "      <td>5.0</td>\n",
              "      <td>9.0</td>\n",
              "      <td>1.0</td>\n",
              "      <td>MMMMM</td>\n",
              "      <td>MMMMM</td>\n",
              "      <td>0</td>\n",
              "      <td>0</td>\n",
              "      <td>0</td>\n",
              "      <td>0</td>\n",
              "      <td>0</td>\n",
              "      <td>0</td>\n",
              "      <td>0</td>\n",
              "      <td>0</td>\n",
              "      <td>0</td>\n",
              "      <td>0</td>\n",
              "      <td>0.0</td>\n",
              "      <td>0.0</td>\n",
              "      <td>0.0</td>\n",
              "      <td>0.0</td>\n",
              "      <td>-4.0</td>\n",
              "    </tr>\n",
              "    <tr>\n",
              "      <th>2</th>\n",
              "      <td>2</td>\n",
              "      <td>2000-08-19</td>\n",
              "      <td>Coventry</td>\n",
              "      <td>Middlesbrough</td>\n",
              "      <td>1</td>\n",
              "      <td>3</td>\n",
              "      <td>NH</td>\n",
              "      <td>0</td>\n",
              "      <td>0</td>\n",
              "      <td>0</td>\n",
              "      <td>0</td>\n",
              "      <td>0.0</td>\n",
              "      <td>0.0</td>\n",
              "      <td>M</td>\n",
              "      <td>M</td>\n",
              "      <td>M</td>\n",
              "      <td>M</td>\n",
              "      <td>M</td>\n",
              "      <td>M</td>\n",
              "      <td>M</td>\n",
              "      <td>M</td>\n",
              "      <td>M</td>\n",
              "      <td>M</td>\n",
              "      <td>14.0</td>\n",
              "      <td>12.0</td>\n",
              "      <td>1.0</td>\n",
              "      <td>MMMMM</td>\n",
              "      <td>MMMMM</td>\n",
              "      <td>0</td>\n",
              "      <td>0</td>\n",
              "      <td>0</td>\n",
              "      <td>0</td>\n",
              "      <td>0</td>\n",
              "      <td>0</td>\n",
              "      <td>0</td>\n",
              "      <td>0</td>\n",
              "      <td>0</td>\n",
              "      <td>0</td>\n",
              "      <td>0.0</td>\n",
              "      <td>0.0</td>\n",
              "      <td>0.0</td>\n",
              "      <td>0.0</td>\n",
              "      <td>2.0</td>\n",
              "    </tr>\n",
              "    <tr>\n",
              "      <th>3</th>\n",
              "      <td>3</td>\n",
              "      <td>2000-08-19</td>\n",
              "      <td>Derby</td>\n",
              "      <td>Southampton</td>\n",
              "      <td>2</td>\n",
              "      <td>2</td>\n",
              "      <td>NH</td>\n",
              "      <td>0</td>\n",
              "      <td>0</td>\n",
              "      <td>0</td>\n",
              "      <td>0</td>\n",
              "      <td>0.0</td>\n",
              "      <td>0.0</td>\n",
              "      <td>M</td>\n",
              "      <td>M</td>\n",
              "      <td>M</td>\n",
              "      <td>M</td>\n",
              "      <td>M</td>\n",
              "      <td>M</td>\n",
              "      <td>M</td>\n",
              "      <td>M</td>\n",
              "      <td>M</td>\n",
              "      <td>M</td>\n",
              "      <td>16.0</td>\n",
              "      <td>15.0</td>\n",
              "      <td>1.0</td>\n",
              "      <td>MMMMM</td>\n",
              "      <td>MMMMM</td>\n",
              "      <td>0</td>\n",
              "      <td>0</td>\n",
              "      <td>0</td>\n",
              "      <td>0</td>\n",
              "      <td>0</td>\n",
              "      <td>0</td>\n",
              "      <td>0</td>\n",
              "      <td>0</td>\n",
              "      <td>0</td>\n",
              "      <td>0</td>\n",
              "      <td>0.0</td>\n",
              "      <td>0.0</td>\n",
              "      <td>0.0</td>\n",
              "      <td>0.0</td>\n",
              "      <td>1.0</td>\n",
              "    </tr>\n",
              "    <tr>\n",
              "      <th>4</th>\n",
              "      <td>4</td>\n",
              "      <td>2000-08-19</td>\n",
              "      <td>Leeds</td>\n",
              "      <td>Everton</td>\n",
              "      <td>2</td>\n",
              "      <td>0</td>\n",
              "      <td>H</td>\n",
              "      <td>0</td>\n",
              "      <td>0</td>\n",
              "      <td>0</td>\n",
              "      <td>0</td>\n",
              "      <td>0.0</td>\n",
              "      <td>0.0</td>\n",
              "      <td>M</td>\n",
              "      <td>M</td>\n",
              "      <td>M</td>\n",
              "      <td>M</td>\n",
              "      <td>M</td>\n",
              "      <td>M</td>\n",
              "      <td>M</td>\n",
              "      <td>M</td>\n",
              "      <td>M</td>\n",
              "      <td>M</td>\n",
              "      <td>3.0</td>\n",
              "      <td>13.0</td>\n",
              "      <td>1.0</td>\n",
              "      <td>MMMMM</td>\n",
              "      <td>MMMMM</td>\n",
              "      <td>0</td>\n",
              "      <td>0</td>\n",
              "      <td>0</td>\n",
              "      <td>0</td>\n",
              "      <td>0</td>\n",
              "      <td>0</td>\n",
              "      <td>0</td>\n",
              "      <td>0</td>\n",
              "      <td>0</td>\n",
              "      <td>0</td>\n",
              "      <td>0.0</td>\n",
              "      <td>0.0</td>\n",
              "      <td>0.0</td>\n",
              "      <td>0.0</td>\n",
              "      <td>-10.0</td>\n",
              "    </tr>\n",
              "  </tbody>\n",
              "</table>\n",
              "</div>"
            ],
            "text/plain": [
              "   Unnamed: 0        Date  HomeTeam  ... DiffPts  DiffFormPts  DiffLP\n",
              "0           0  2000-08-19  Charlton  ...     0.0          0.0     0.0\n",
              "1           1  2000-08-19   Chelsea  ...     0.0          0.0    -4.0\n",
              "2           2  2000-08-19  Coventry  ...     0.0          0.0     2.0\n",
              "3           3  2000-08-19     Derby  ...     0.0          0.0     1.0\n",
              "4           4  2000-08-19     Leeds  ...     0.0          0.0   -10.0\n",
              "\n",
              "[5 rows x 43 columns]"
            ]
          },
          "metadata": {
            "tags": []
          },
          "execution_count": 17
        }
      ]
    },
    {
      "cell_type": "code",
      "metadata": {
        "colab": {
          "base_uri": "https://localhost:8080/"
        },
        "id": "5yEJTs67yUkx",
        "outputId": "aa0a9bc3-1bb6-4bbc-e5f8-0196db4da647"
      },
      "source": [
        "#check if there is any null value\r\n",
        "[i for i in df.isnull().sum().values if i > 0]"
      ],
      "execution_count": 18,
      "outputs": [
        {
          "output_type": "execute_result",
          "data": {
            "text/plain": [
              "[]"
            ]
          },
          "metadata": {
            "tags": []
          },
          "execution_count": 18
        }
      ]
    },
    {
      "cell_type": "code",
      "metadata": {
        "colab": {
          "base_uri": "https://localhost:8080/"
        },
        "id": "P5vtNxI3yUs3",
        "outputId": "64f90de5-e0e6-4b91-d916-cbefb0050b66"
      },
      "source": [
        "df.columns"
      ],
      "execution_count": 19,
      "outputs": [
        {
          "output_type": "execute_result",
          "data": {
            "text/plain": [
              "Index(['Unnamed: 0', 'Date', 'HomeTeam', 'AwayTeam', 'FTHG', 'FTAG', 'FTR',\n",
              "       'HTGS', 'ATGS', 'HTGC', 'ATGC', 'HTP', 'ATP', 'HM1', 'HM2', 'HM3',\n",
              "       'HM4', 'HM5', 'AM1', 'AM2', 'AM3', 'AM4', 'AM5', 'HomeTeamLP',\n",
              "       'AwayTeamLP', 'MW', 'HTFormPtsStr', 'ATFormPtsStr', 'HTFormPts',\n",
              "       'ATFormPts', 'HTWinStreak3', 'HTWinStreak5', 'HTLossStreak3',\n",
              "       'HTLossStreak5', 'ATWinStreak3', 'ATWinStreak5', 'ATLossStreak3',\n",
              "       'ATLossStreak5', 'HTGD', 'ATGD', 'DiffPts', 'DiffFormPts', 'DiffLP'],\n",
              "      dtype='object')"
            ]
          },
          "metadata": {
            "tags": []
          },
          "execution_count": 19
        }
      ]
    },
    {
      "cell_type": "code",
      "metadata": {
        "colab": {
          "base_uri": "https://localhost:8080/"
        },
        "id": "mJJwCNkmzDWK",
        "outputId": "aeea73c6-ff44-4820-901e-67c839a7f729"
      },
      "source": [
        "df.info()"
      ],
      "execution_count": 50,
      "outputs": [
        {
          "output_type": "stream",
          "text": [
            "<class 'pandas.core.frame.DataFrame'>\n",
            "RangeIndex: 7600 entries, 0 to 7599\n",
            "Data columns (total 43 columns):\n",
            " #   Column         Non-Null Count  Dtype  \n",
            "---  ------         --------------  -----  \n",
            " 0   Unnamed: 0     7600 non-null   int64  \n",
            " 1   Date           7600 non-null   object \n",
            " 2   HomeTeam       7600 non-null   object \n",
            " 3   AwayTeam       7600 non-null   object \n",
            " 4   FTHG           7600 non-null   int64  \n",
            " 5   FTAG           7600 non-null   int64  \n",
            " 6   FTR            7600 non-null   object \n",
            " 7   HTGS           7600 non-null   int64  \n",
            " 8   ATGS           7600 non-null   int64  \n",
            " 9   HTGC           7600 non-null   int64  \n",
            " 10  ATGC           7600 non-null   int64  \n",
            " 11  HTP            7600 non-null   float64\n",
            " 12  ATP            7600 non-null   float64\n",
            " 13  HM1            7600 non-null   object \n",
            " 14  HM2            7600 non-null   object \n",
            " 15  HM3            7600 non-null   object \n",
            " 16  HM4            7600 non-null   object \n",
            " 17  HM5            7600 non-null   object \n",
            " 18  AM1            7600 non-null   object \n",
            " 19  AM2            7600 non-null   object \n",
            " 20  AM3            7600 non-null   object \n",
            " 21  AM4            7600 non-null   object \n",
            " 22  AM5            7600 non-null   object \n",
            " 23  HomeTeamLP     7600 non-null   float64\n",
            " 24  AwayTeamLP     7600 non-null   float64\n",
            " 25  MW             7600 non-null   float64\n",
            " 26  HTFormPtsStr   7600 non-null   object \n",
            " 27  ATFormPtsStr   7600 non-null   object \n",
            " 28  HTFormPts      7600 non-null   int64  \n",
            " 29  ATFormPts      7600 non-null   int64  \n",
            " 30  HTWinStreak3   7600 non-null   int64  \n",
            " 31  HTWinStreak5   7600 non-null   int64  \n",
            " 32  HTLossStreak3  7600 non-null   int64  \n",
            " 33  HTLossStreak5  7600 non-null   int64  \n",
            " 34  ATWinStreak3   7600 non-null   int64  \n",
            " 35  ATWinStreak5   7600 non-null   int64  \n",
            " 36  ATLossStreak3  7600 non-null   int64  \n",
            " 37  ATLossStreak5  7600 non-null   int64  \n",
            " 38  HTGD           7600 non-null   float64\n",
            " 39  ATGD           7600 non-null   float64\n",
            " 40  DiffPts        7600 non-null   float64\n",
            " 41  DiffFormPts    7600 non-null   float64\n",
            " 42  DiffLP         7600 non-null   float64\n",
            "dtypes: float64(10), int64(17), object(16)\n",
            "memory usage: 2.5+ MB\n"
          ],
          "name": "stdout"
        }
      ]
    },
    {
      "cell_type": "code",
      "metadata": {
        "colab": {
          "base_uri": "https://localhost:8080/"
        },
        "id": "RQp2tEDVyUzE",
        "outputId": "e65447c1-b05a-4d5f-f1dd-4dd39d453679"
      },
      "source": [
        "print(f\"strig types\\n{df.select_dtypes(include='object').columns}\\n\")\r\n",
        "print(f\"numerical types\\n{df.select_dtypes(exclude='object').columns}\\n\")\r\n",
        "print(f\"int types\\n{df.select_dtypes(include='int').columns}\\n\")\r\n",
        "print(f\"float types\\n{df.select_dtypes(include='float').columns}\\n\")"
      ],
      "execution_count": 33,
      "outputs": [
        {
          "output_type": "stream",
          "text": [
            "strig types\n",
            "Index(['Date', 'HomeTeam', 'AwayTeam', 'FTR', 'HM1', 'HM2', 'HM3', 'HM4',\n",
            "       'HM5', 'AM1', 'AM2', 'AM3', 'AM4', 'AM5', 'HTFormPtsStr',\n",
            "       'ATFormPtsStr'],\n",
            "      dtype='object')\n",
            "\n",
            "numerical types\n",
            "Index(['Unnamed: 0', 'FTHG', 'FTAG', 'HTGS', 'ATGS', 'HTGC', 'ATGC', 'HTP',\n",
            "       'ATP', 'HomeTeamLP', 'AwayTeamLP', 'MW', 'HTFormPts', 'ATFormPts',\n",
            "       'HTWinStreak3', 'HTWinStreak5', 'HTLossStreak3', 'HTLossStreak5',\n",
            "       'ATWinStreak3', 'ATWinStreak5', 'ATLossStreak3', 'ATLossStreak5',\n",
            "       'HTGD', 'ATGD', 'DiffPts', 'DiffFormPts', 'DiffLP'],\n",
            "      dtype='object')\n",
            "\n",
            "int types\n",
            "Index(['Unnamed: 0', 'FTHG', 'FTAG', 'HTGS', 'ATGS', 'HTGC', 'ATGC',\n",
            "       'HTFormPts', 'ATFormPts', 'HTWinStreak3', 'HTWinStreak5',\n",
            "       'HTLossStreak3', 'HTLossStreak5', 'ATWinStreak3', 'ATWinStreak5',\n",
            "       'ATLossStreak3', 'ATLossStreak5'],\n",
            "      dtype='object')\n",
            "\n",
            "float types\n",
            "Index(['HTP', 'ATP', 'HomeTeamLP', 'AwayTeamLP', 'MW', 'HTGD', 'ATGD',\n",
            "       'DiffPts', 'DiffFormPts', 'DiffLP'],\n",
            "      dtype='object')\n",
            "\n"
          ],
          "name": "stdout"
        }
      ]
    },
    {
      "cell_type": "code",
      "metadata": {
        "id": "0lKCw3a9zHae"
      },
      "source": [
        "#convert the datetime data type from object to datetime \r\n",
        "# df['Date'].astype('datetime64')\r\n",
        "df['Date'] = pd.to_datetime(df['Date'], format='%Y-%m-%d')"
      ],
      "execution_count": 75,
      "outputs": []
    },
    {
      "cell_type": "code",
      "metadata": {
        "colab": {
          "base_uri": "https://localhost:8080/"
        },
        "id": "C1ivr_YayU32",
        "outputId": "1a962cb5-a0ca-489d-8868-d2b4ff79a8fb"
      },
      "source": [
        "df.nunique()"
      ],
      "execution_count": 35,
      "outputs": [
        {
          "output_type": "execute_result",
          "data": {
            "text/plain": [
              "Unnamed: 0       7600\n",
              "Date             2027\n",
              "HomeTeam           44\n",
              "AwayTeam           44\n",
              "FTHG               10\n",
              "FTAG                9\n",
              "FTR                 2\n",
              "HTGS               97\n",
              "ATGS               95\n",
              "HTGC               82\n",
              "ATGC               80\n",
              "HTP               877\n",
              "ATP               868\n",
              "HM1                 4\n",
              "HM2                 4\n",
              "HM3                 4\n",
              "HM4                 4\n",
              "HM5                 4\n",
              "AM1                 4\n",
              "AM2                 4\n",
              "AM3                 4\n",
              "AM4                 4\n",
              "AM5                 4\n",
              "HomeTeamLP         18\n",
              "AwayTeamLP         18\n",
              "MW                 38\n",
              "HTFormPtsStr      353\n",
              "ATFormPtsStr      363\n",
              "HTFormPts          15\n",
              "ATFormPts          15\n",
              "HTWinStreak3        2\n",
              "HTWinStreak5        2\n",
              "HTLossStreak3       2\n",
              "HTLossStreak5       2\n",
              "ATWinStreak3        2\n",
              "ATWinStreak5        2\n",
              "ATLossStreak3       2\n",
              "ATLossStreak5       2\n",
              "HTGD             1228\n",
              "ATGD             1226\n",
              "DiffPts          1215\n",
              "DiffFormPts       512\n",
              "DiffLP             35\n",
              "dtype: int64"
            ]
          },
          "metadata": {
            "tags": []
          },
          "execution_count": 35
        }
      ]
    },
    {
      "cell_type": "code",
      "metadata": {
        "colab": {
          "base_uri": "https://localhost:8080/",
          "height": 226
        },
        "id": "wfywFreDyU8Q",
        "outputId": "ed1d8b74-957e-449a-9a1d-deb9cd1ffbb6"
      },
      "source": [
        "df_MW = df.loc[df['MW'] > 3, :] \r\n",
        "df_MW.head(3)"
      ],
      "execution_count": 76,
      "outputs": [
        {
          "output_type": "execute_result",
          "data": {
            "text/html": [
              "<div>\n",
              "<style scoped>\n",
              "    .dataframe tbody tr th:only-of-type {\n",
              "        vertical-align: middle;\n",
              "    }\n",
              "\n",
              "    .dataframe tbody tr th {\n",
              "        vertical-align: top;\n",
              "    }\n",
              "\n",
              "    .dataframe thead th {\n",
              "        text-align: right;\n",
              "    }\n",
              "</style>\n",
              "<table border=\"1\" class=\"dataframe\">\n",
              "  <thead>\n",
              "    <tr style=\"text-align: right;\">\n",
              "      <th></th>\n",
              "      <th>Unnamed: 0</th>\n",
              "      <th>Date</th>\n",
              "      <th>HomeTeam</th>\n",
              "      <th>AwayTeam</th>\n",
              "      <th>FTHG</th>\n",
              "      <th>FTAG</th>\n",
              "      <th>FTR</th>\n",
              "      <th>HTGS</th>\n",
              "      <th>ATGS</th>\n",
              "      <th>HTGC</th>\n",
              "      <th>ATGC</th>\n",
              "      <th>HTP</th>\n",
              "      <th>ATP</th>\n",
              "      <th>HM1</th>\n",
              "      <th>HM2</th>\n",
              "      <th>HM3</th>\n",
              "      <th>HM4</th>\n",
              "      <th>HM5</th>\n",
              "      <th>AM1</th>\n",
              "      <th>AM2</th>\n",
              "      <th>AM3</th>\n",
              "      <th>AM4</th>\n",
              "      <th>AM5</th>\n",
              "      <th>HomeTeamLP</th>\n",
              "      <th>AwayTeamLP</th>\n",
              "      <th>MW</th>\n",
              "      <th>HTFormPtsStr</th>\n",
              "      <th>ATFormPtsStr</th>\n",
              "      <th>HTFormPts</th>\n",
              "      <th>ATFormPts</th>\n",
              "      <th>HTWinStreak3</th>\n",
              "      <th>HTWinStreak5</th>\n",
              "      <th>HTLossStreak3</th>\n",
              "      <th>HTLossStreak5</th>\n",
              "      <th>ATWinStreak3</th>\n",
              "      <th>ATWinStreak5</th>\n",
              "      <th>ATLossStreak3</th>\n",
              "      <th>ATLossStreak5</th>\n",
              "      <th>HTGD</th>\n",
              "      <th>ATGD</th>\n",
              "      <th>DiffPts</th>\n",
              "      <th>DiffFormPts</th>\n",
              "      <th>DiffLP</th>\n",
              "    </tr>\n",
              "  </thead>\n",
              "  <tbody>\n",
              "    <tr>\n",
              "      <th>30</th>\n",
              "      <td>30</td>\n",
              "      <td>2000-09-05</td>\n",
              "      <td>Man United</td>\n",
              "      <td>Bradford</td>\n",
              "      <td>6</td>\n",
              "      <td>0</td>\n",
              "      <td>H</td>\n",
              "      <td>5</td>\n",
              "      <td>2</td>\n",
              "      <td>3</td>\n",
              "      <td>1</td>\n",
              "      <td>1.25</td>\n",
              "      <td>1.00</td>\n",
              "      <td>D</td>\n",
              "      <td>D</td>\n",
              "      <td>W</td>\n",
              "      <td>M</td>\n",
              "      <td>M</td>\n",
              "      <td>D</td>\n",
              "      <td>W</td>\n",
              "      <td>L</td>\n",
              "      <td>M</td>\n",
              "      <td>M</td>\n",
              "      <td>1.0</td>\n",
              "      <td>17.0</td>\n",
              "      <td>4.0</td>\n",
              "      <td>DDWMM</td>\n",
              "      <td>DWLMM</td>\n",
              "      <td>5</td>\n",
              "      <td>4</td>\n",
              "      <td>0</td>\n",
              "      <td>0</td>\n",
              "      <td>0</td>\n",
              "      <td>0</td>\n",
              "      <td>0</td>\n",
              "      <td>0</td>\n",
              "      <td>0</td>\n",
              "      <td>0</td>\n",
              "      <td>0.5</td>\n",
              "      <td>0.25</td>\n",
              "      <td>0.25</td>\n",
              "      <td>0.25</td>\n",
              "      <td>-16.0</td>\n",
              "    </tr>\n",
              "    <tr>\n",
              "      <th>31</th>\n",
              "      <td>31</td>\n",
              "      <td>2000-09-05</td>\n",
              "      <td>Sunderland</td>\n",
              "      <td>West Ham</td>\n",
              "      <td>1</td>\n",
              "      <td>1</td>\n",
              "      <td>NH</td>\n",
              "      <td>3</td>\n",
              "      <td>4</td>\n",
              "      <td>5</td>\n",
              "      <td>7</td>\n",
              "      <td>0.75</td>\n",
              "      <td>0.25</td>\n",
              "      <td>L</td>\n",
              "      <td>L</td>\n",
              "      <td>W</td>\n",
              "      <td>M</td>\n",
              "      <td>M</td>\n",
              "      <td>D</td>\n",
              "      <td>L</td>\n",
              "      <td>L</td>\n",
              "      <td>M</td>\n",
              "      <td>M</td>\n",
              "      <td>7.0</td>\n",
              "      <td>9.0</td>\n",
              "      <td>4.0</td>\n",
              "      <td>LLWMM</td>\n",
              "      <td>DLLMM</td>\n",
              "      <td>3</td>\n",
              "      <td>1</td>\n",
              "      <td>0</td>\n",
              "      <td>0</td>\n",
              "      <td>0</td>\n",
              "      <td>0</td>\n",
              "      <td>0</td>\n",
              "      <td>0</td>\n",
              "      <td>0</td>\n",
              "      <td>0</td>\n",
              "      <td>-0.5</td>\n",
              "      <td>-0.75</td>\n",
              "      <td>0.50</td>\n",
              "      <td>0.50</td>\n",
              "      <td>-2.0</td>\n",
              "    </tr>\n",
              "    <tr>\n",
              "      <th>32</th>\n",
              "      <td>32</td>\n",
              "      <td>2000-09-05</td>\n",
              "      <td>Tottenham</td>\n",
              "      <td>Everton</td>\n",
              "      <td>3</td>\n",
              "      <td>2</td>\n",
              "      <td>H</td>\n",
              "      <td>4</td>\n",
              "      <td>5</td>\n",
              "      <td>4</td>\n",
              "      <td>4</td>\n",
              "      <td>1.00</td>\n",
              "      <td>1.00</td>\n",
              "      <td>L</td>\n",
              "      <td>D</td>\n",
              "      <td>W</td>\n",
              "      <td>M</td>\n",
              "      <td>M</td>\n",
              "      <td>D</td>\n",
              "      <td>W</td>\n",
              "      <td>L</td>\n",
              "      <td>M</td>\n",
              "      <td>M</td>\n",
              "      <td>10.0</td>\n",
              "      <td>13.0</td>\n",
              "      <td>4.0</td>\n",
              "      <td>LDWMM</td>\n",
              "      <td>DWLMM</td>\n",
              "      <td>4</td>\n",
              "      <td>4</td>\n",
              "      <td>0</td>\n",
              "      <td>0</td>\n",
              "      <td>0</td>\n",
              "      <td>0</td>\n",
              "      <td>0</td>\n",
              "      <td>0</td>\n",
              "      <td>0</td>\n",
              "      <td>0</td>\n",
              "      <td>0.0</td>\n",
              "      <td>0.25</td>\n",
              "      <td>0.00</td>\n",
              "      <td>0.00</td>\n",
              "      <td>-3.0</td>\n",
              "    </tr>\n",
              "  </tbody>\n",
              "</table>\n",
              "</div>"
            ],
            "text/plain": [
              "    Unnamed: 0       Date    HomeTeam  ... DiffPts  DiffFormPts  DiffLP\n",
              "30          30 2000-09-05  Man United  ...    0.25         0.25   -16.0\n",
              "31          31 2000-09-05  Sunderland  ...    0.50         0.50    -2.0\n",
              "32          32 2000-09-05   Tottenham  ...    0.00         0.00    -3.0\n",
              "\n",
              "[3 rows x 43 columns]"
            ]
          },
          "metadata": {
            "tags": []
          },
          "execution_count": 76
        }
      ]
    },
    {
      "cell_type": "code",
      "metadata": {
        "colab": {
          "base_uri": "https://localhost:8080/",
          "height": 198
        },
        "id": "ApgkrLgS3O3N",
        "outputId": "e9f4023f-5127-489b-a919-c8d82a8a49fe"
      },
      "source": [
        "df_MW.drop(['Unnamed: 0','HomeTeam', 'AwayTeam', 'Date', 'MW', 'HTFormPtsStr', 'ATFormPtsStr', 'FTHG', 'FTAG',\r\n",
        "           'HTGS', 'ATGS', 'HTGC', 'ATGC','HomeTeamLP', 'AwayTeamLP','DiffPts','HTFormPts','ATFormPts',\r\n",
        "           'HM4','HM5','AM4','AM5','HTLossStreak5','ATLossStreak5','HTWinStreak5','ATWinStreak5',\r\n",
        "           'HTWinStreak3','HTLossStreak3','ATWinStreak3','ATLossStreak3'], axis=1).head()"
      ],
      "execution_count": 85,
      "outputs": [
        {
          "output_type": "execute_result",
          "data": {
            "text/html": [
              "<div>\n",
              "<style scoped>\n",
              "    .dataframe tbody tr th:only-of-type {\n",
              "        vertical-align: middle;\n",
              "    }\n",
              "\n",
              "    .dataframe tbody tr th {\n",
              "        vertical-align: top;\n",
              "    }\n",
              "\n",
              "    .dataframe thead th {\n",
              "        text-align: right;\n",
              "    }\n",
              "</style>\n",
              "<table border=\"1\" class=\"dataframe\">\n",
              "  <thead>\n",
              "    <tr style=\"text-align: right;\">\n",
              "      <th></th>\n",
              "      <th>FTR</th>\n",
              "      <th>HTP</th>\n",
              "      <th>ATP</th>\n",
              "      <th>HM1</th>\n",
              "      <th>HM2</th>\n",
              "      <th>HM3</th>\n",
              "      <th>AM1</th>\n",
              "      <th>AM2</th>\n",
              "      <th>AM3</th>\n",
              "      <th>HTGD</th>\n",
              "      <th>ATGD</th>\n",
              "      <th>DiffFormPts</th>\n",
              "      <th>DiffLP</th>\n",
              "    </tr>\n",
              "  </thead>\n",
              "  <tbody>\n",
              "    <tr>\n",
              "      <th>30</th>\n",
              "      <td>H</td>\n",
              "      <td>1.25</td>\n",
              "      <td>1.00</td>\n",
              "      <td>D</td>\n",
              "      <td>D</td>\n",
              "      <td>W</td>\n",
              "      <td>D</td>\n",
              "      <td>W</td>\n",
              "      <td>L</td>\n",
              "      <td>0.50</td>\n",
              "      <td>0.25</td>\n",
              "      <td>0.25</td>\n",
              "      <td>-16.0</td>\n",
              "    </tr>\n",
              "    <tr>\n",
              "      <th>31</th>\n",
              "      <td>NH</td>\n",
              "      <td>0.75</td>\n",
              "      <td>0.25</td>\n",
              "      <td>L</td>\n",
              "      <td>L</td>\n",
              "      <td>W</td>\n",
              "      <td>D</td>\n",
              "      <td>L</td>\n",
              "      <td>L</td>\n",
              "      <td>-0.50</td>\n",
              "      <td>-0.75</td>\n",
              "      <td>0.50</td>\n",
              "      <td>-2.0</td>\n",
              "    </tr>\n",
              "    <tr>\n",
              "      <th>32</th>\n",
              "      <td>H</td>\n",
              "      <td>1.00</td>\n",
              "      <td>1.00</td>\n",
              "      <td>L</td>\n",
              "      <td>D</td>\n",
              "      <td>W</td>\n",
              "      <td>D</td>\n",
              "      <td>W</td>\n",
              "      <td>L</td>\n",
              "      <td>0.00</td>\n",
              "      <td>0.25</td>\n",
              "      <td>0.00</td>\n",
              "      <td>-3.0</td>\n",
              "    </tr>\n",
              "    <tr>\n",
              "      <th>33</th>\n",
              "      <td>NH</td>\n",
              "      <td>0.75</td>\n",
              "      <td>0.50</td>\n",
              "      <td>L</td>\n",
              "      <td>L</td>\n",
              "      <td>W</td>\n",
              "      <td>D</td>\n",
              "      <td>L</td>\n",
              "      <td>D</td>\n",
              "      <td>-0.25</td>\n",
              "      <td>-0.25</td>\n",
              "      <td>0.25</td>\n",
              "      <td>3.0</td>\n",
              "    </tr>\n",
              "    <tr>\n",
              "      <th>34</th>\n",
              "      <td>NH</td>\n",
              "      <td>1.00</td>\n",
              "      <td>1.50</td>\n",
              "      <td>D</td>\n",
              "      <td>L</td>\n",
              "      <td>W</td>\n",
              "      <td>W</td>\n",
              "      <td>W</td>\n",
              "      <td>L</td>\n",
              "      <td>0.00</td>\n",
              "      <td>0.75</td>\n",
              "      <td>-0.50</td>\n",
              "      <td>3.0</td>\n",
              "    </tr>\n",
              "  </tbody>\n",
              "</table>\n",
              "</div>"
            ],
            "text/plain": [
              "   FTR   HTP   ATP HM1 HM2 HM3 AM1 AM2 AM3  HTGD  ATGD  DiffFormPts  DiffLP\n",
              "30   H  1.25  1.00   D   D   W   D   W   L  0.50  0.25         0.25   -16.0\n",
              "31  NH  0.75  0.25   L   L   W   D   L   L -0.50 -0.75         0.50    -2.0\n",
              "32   H  1.00  1.00   L   D   W   D   W   L  0.00  0.25         0.00    -3.0\n",
              "33  NH  0.75  0.50   L   L   W   D   L   D -0.25 -0.25         0.25     3.0\n",
              "34  NH  1.00  1.50   D   L   W   W   W   L  0.00  0.75        -0.50     3.0"
            ]
          },
          "metadata": {
            "tags": []
          },
          "execution_count": 85
        }
      ]
    },
    {
      "cell_type": "code",
      "metadata": {
        "colab": {
          "base_uri": "https://localhost:8080/",
          "height": 198
        },
        "id": "hSf1YxDzyVAU",
        "outputId": "208e1747-184f-475a-a0b3-ebc1edc7eb02"
      },
      "source": [
        "df_MW = df_MW[['FTR', 'HTP', 'ATP', 'HM1', 'HM2', 'HM3', 'AM1', 'AM2', 'AM3', 'HTGD', 'ATGD', 'DiffFormPts', 'DiffLP']]\r\n",
        "df_MW.head()"
      ],
      "execution_count": 87,
      "outputs": [
        {
          "output_type": "execute_result",
          "data": {
            "text/html": [
              "<div>\n",
              "<style scoped>\n",
              "    .dataframe tbody tr th:only-of-type {\n",
              "        vertical-align: middle;\n",
              "    }\n",
              "\n",
              "    .dataframe tbody tr th {\n",
              "        vertical-align: top;\n",
              "    }\n",
              "\n",
              "    .dataframe thead th {\n",
              "        text-align: right;\n",
              "    }\n",
              "</style>\n",
              "<table border=\"1\" class=\"dataframe\">\n",
              "  <thead>\n",
              "    <tr style=\"text-align: right;\">\n",
              "      <th></th>\n",
              "      <th>FTR</th>\n",
              "      <th>HTP</th>\n",
              "      <th>ATP</th>\n",
              "      <th>HM1</th>\n",
              "      <th>HM2</th>\n",
              "      <th>HM3</th>\n",
              "      <th>AM1</th>\n",
              "      <th>AM2</th>\n",
              "      <th>AM3</th>\n",
              "      <th>HTGD</th>\n",
              "      <th>ATGD</th>\n",
              "      <th>DiffFormPts</th>\n",
              "      <th>DiffLP</th>\n",
              "    </tr>\n",
              "  </thead>\n",
              "  <tbody>\n",
              "    <tr>\n",
              "      <th>30</th>\n",
              "      <td>H</td>\n",
              "      <td>1.25</td>\n",
              "      <td>1.00</td>\n",
              "      <td>D</td>\n",
              "      <td>D</td>\n",
              "      <td>W</td>\n",
              "      <td>D</td>\n",
              "      <td>W</td>\n",
              "      <td>L</td>\n",
              "      <td>0.50</td>\n",
              "      <td>0.25</td>\n",
              "      <td>0.25</td>\n",
              "      <td>-16.0</td>\n",
              "    </tr>\n",
              "    <tr>\n",
              "      <th>31</th>\n",
              "      <td>NH</td>\n",
              "      <td>0.75</td>\n",
              "      <td>0.25</td>\n",
              "      <td>L</td>\n",
              "      <td>L</td>\n",
              "      <td>W</td>\n",
              "      <td>D</td>\n",
              "      <td>L</td>\n",
              "      <td>L</td>\n",
              "      <td>-0.50</td>\n",
              "      <td>-0.75</td>\n",
              "      <td>0.50</td>\n",
              "      <td>-2.0</td>\n",
              "    </tr>\n",
              "    <tr>\n",
              "      <th>32</th>\n",
              "      <td>H</td>\n",
              "      <td>1.00</td>\n",
              "      <td>1.00</td>\n",
              "      <td>L</td>\n",
              "      <td>D</td>\n",
              "      <td>W</td>\n",
              "      <td>D</td>\n",
              "      <td>W</td>\n",
              "      <td>L</td>\n",
              "      <td>0.00</td>\n",
              "      <td>0.25</td>\n",
              "      <td>0.00</td>\n",
              "      <td>-3.0</td>\n",
              "    </tr>\n",
              "    <tr>\n",
              "      <th>33</th>\n",
              "      <td>NH</td>\n",
              "      <td>0.75</td>\n",
              "      <td>0.50</td>\n",
              "      <td>L</td>\n",
              "      <td>L</td>\n",
              "      <td>W</td>\n",
              "      <td>D</td>\n",
              "      <td>L</td>\n",
              "      <td>D</td>\n",
              "      <td>-0.25</td>\n",
              "      <td>-0.25</td>\n",
              "      <td>0.25</td>\n",
              "      <td>3.0</td>\n",
              "    </tr>\n",
              "    <tr>\n",
              "      <th>34</th>\n",
              "      <td>NH</td>\n",
              "      <td>1.00</td>\n",
              "      <td>1.50</td>\n",
              "      <td>D</td>\n",
              "      <td>L</td>\n",
              "      <td>W</td>\n",
              "      <td>W</td>\n",
              "      <td>W</td>\n",
              "      <td>L</td>\n",
              "      <td>0.00</td>\n",
              "      <td>0.75</td>\n",
              "      <td>-0.50</td>\n",
              "      <td>3.0</td>\n",
              "    </tr>\n",
              "  </tbody>\n",
              "</table>\n",
              "</div>"
            ],
            "text/plain": [
              "   FTR   HTP   ATP HM1 HM2 HM3 AM1 AM2 AM3  HTGD  ATGD  DiffFormPts  DiffLP\n",
              "30   H  1.25  1.00   D   D   W   D   W   L  0.50  0.25         0.25   -16.0\n",
              "31  NH  0.75  0.25   L   L   W   D   L   L -0.50 -0.75         0.50    -2.0\n",
              "32   H  1.00  1.00   L   D   W   D   W   L  0.00  0.25         0.00    -3.0\n",
              "33  NH  0.75  0.50   L   L   W   D   L   D -0.25 -0.25         0.25     3.0\n",
              "34  NH  1.00  1.50   D   L   W   W   W   L  0.00  0.75        -0.50     3.0"
            ]
          },
          "metadata": {
            "tags": []
          },
          "execution_count": 87
        }
      ]
    },
    {
      "cell_type": "code",
      "metadata": {
        "colab": {
          "base_uri": "https://localhost:8080/",
          "height": 282
        },
        "id": "zYN0sws5itca",
        "outputId": "e99e267f-d09a-4d27-cb5a-4cd51a59618f"
      },
      "source": [
        "sns.countplot(x = df['FTR'])\r\n",
        "plt.show()"
      ],
      "execution_count": 109,
      "outputs": [
        {
          "output_type": "display_data",
          "data": {
            "image/png": "[encoded data removed]",
            "text/plain": [
              "<Figure size 432x288 with 1 Axes>"
            ]
          },
          "metadata": {
            "tags": [],
            "needs_background": "light"
          }
        }
      ]
    },
    {
      "cell_type": "code",
      "metadata": {
        "colab": {
          "base_uri": "https://localhost:8080/"
        },
        "id": "SnJ1q2wOyVFS",
        "outputId": "2001d66b-a9cc-4969-b44a-8aadf1efec6d"
      },
      "source": [
        "print(f\"Home wins of {len(df.loc[df['FTR']=='H'])} over total games of {len(df)} since 2019 in percentage is: {round(len(df.loc[df['FTR']=='H'])/len(df.index) * 100, 2)}%\")"
      ],
      "execution_count": 123,
      "outputs": [
        {
          "output_type": "stream",
          "text": [
            "Home wins of 3529 over total games of 7600 since 2019 in percentage is: 46.43%\n"
          ],
          "name": "stdout"
        }
      ]
    },
    {
      "cell_type": "code",
      "metadata": {
        "colab": {
          "base_uri": "https://localhost:8080/"
        },
        "id": "URfRa9umE9Q8",
        "outputId": "fe770b07-c80c-403d-9d9f-9ff76943fd61"
      },
      "source": [
        "print(f\"matches won and positive GF percentage: {round(len(df.loc[(df['HTGD'] > 0) & (df['FTR'] == 'H')])/len(df['FTR']) * 100,2)}%\")"
      ],
      "execution_count": 143,
      "outputs": [
        {
          "output_type": "stream",
          "text": [
            "matches won and positive GF percentage: 23.89%\n"
          ],
          "name": "stdout"
        }
      ]
    },
    {
      "cell_type": "code",
      "metadata": {
        "colab": {
          "base_uri": "https://localhost:8080/",
          "height": 229
        },
        "id": "3UUMCyymE9Xv",
        "outputId": "5e228e63-3487-4c9c-d5ba-999be338d904"
      },
      "source": [
        "df_MW.corr()"
      ],
      "execution_count": 144,
      "outputs": [
        {
          "output_type": "execute_result",
          "data": {
            "text/html": [
              "<div>\n",
              "<style scoped>\n",
              "    .dataframe tbody tr th:only-of-type {\n",
              "        vertical-align: middle;\n",
              "    }\n",
              "\n",
              "    .dataframe tbody tr th {\n",
              "        vertical-align: top;\n",
              "    }\n",
              "\n",
              "    .dataframe thead th {\n",
              "        text-align: right;\n",
              "    }\n",
              "</style>\n",
              "<table border=\"1\" class=\"dataframe\">\n",
              "  <thead>\n",
              "    <tr style=\"text-align: right;\">\n",
              "      <th></th>\n",
              "      <th>HTP</th>\n",
              "      <th>ATP</th>\n",
              "      <th>HTGD</th>\n",
              "      <th>ATGD</th>\n",
              "      <th>DiffFormPts</th>\n",
              "      <th>DiffLP</th>\n",
              "    </tr>\n",
              "  </thead>\n",
              "  <tbody>\n",
              "    <tr>\n",
              "      <th>HTP</th>\n",
              "      <td>1.000000</td>\n",
              "      <td>0.015121</td>\n",
              "      <td>0.924112</td>\n",
              "      <td>-0.008976</td>\n",
              "      <td>0.517999</td>\n",
              "      <td>-0.450737</td>\n",
              "    </tr>\n",
              "    <tr>\n",
              "      <th>ATP</th>\n",
              "      <td>0.015121</td>\n",
              "      <td>1.000000</td>\n",
              "      <td>-0.000610</td>\n",
              "      <td>0.922892</td>\n",
              "      <td>-0.504117</td>\n",
              "      <td>0.454694</td>\n",
              "    </tr>\n",
              "    <tr>\n",
              "      <th>HTGD</th>\n",
              "      <td>0.924112</td>\n",
              "      <td>-0.000610</td>\n",
              "      <td>1.000000</td>\n",
              "      <td>-0.005130</td>\n",
              "      <td>0.466885</td>\n",
              "      <td>-0.471394</td>\n",
              "    </tr>\n",
              "    <tr>\n",
              "      <th>ATGD</th>\n",
              "      <td>-0.008976</td>\n",
              "      <td>0.922892</td>\n",
              "      <td>-0.005130</td>\n",
              "      <td>1.000000</td>\n",
              "      <td>-0.464809</td>\n",
              "      <td>0.474296</td>\n",
              "    </tr>\n",
              "    <tr>\n",
              "      <th>DiffFormPts</th>\n",
              "      <td>0.517999</td>\n",
              "      <td>-0.504117</td>\n",
              "      <td>0.466885</td>\n",
              "      <td>-0.464809</td>\n",
              "      <td>1.000000</td>\n",
              "      <td>-0.400442</td>\n",
              "    </tr>\n",
              "    <tr>\n",
              "      <th>DiffLP</th>\n",
              "      <td>-0.450737</td>\n",
              "      <td>0.454694</td>\n",
              "      <td>-0.471394</td>\n",
              "      <td>0.474296</td>\n",
              "      <td>-0.400442</td>\n",
              "      <td>1.000000</td>\n",
              "    </tr>\n",
              "  </tbody>\n",
              "</table>\n",
              "</div>"
            ],
            "text/plain": [
              "                  HTP       ATP      HTGD      ATGD  DiffFormPts    DiffLP\n",
              "HTP          1.000000  0.015121  0.924112 -0.008976     0.517999 -0.450737\n",
              "ATP          0.015121  1.000000 -0.000610  0.922892    -0.504117  0.454694\n",
              "HTGD         0.924112 -0.000610  1.000000 -0.005130     0.466885 -0.471394\n",
              "ATGD        -0.008976  0.922892 -0.005130  1.000000    -0.464809  0.474296\n",
              "DiffFormPts  0.517999 -0.504117  0.466885 -0.464809     1.000000 -0.400442\n",
              "DiffLP      -0.450737  0.454694 -0.471394  0.474296    -0.400442  1.000000"
            ]
          },
          "metadata": {
            "tags": []
          },
          "execution_count": 144
        }
      ]
    },
    {
      "cell_type": "code",
      "metadata": {
        "colab": {
          "base_uri": "https://localhost:8080/",
          "height": 395
        },
        "id": "WxhIDPeWE9dd",
        "outputId": "6a4e38a1-665b-43a3-9f2d-744c21d4c9c7"
      },
      "source": [
        "plt.figure(figsize=(16,6))\r\n",
        "sns.heatmap(df_MW.corr(), annot=True)"
      ],
      "execution_count": 145,
      "outputs": [
        {
          "output_type": "execute_result",
          "data": {
            "text/plain": [
              "<matplotlib.axes._subplots.AxesSubplot at 0x7f5ac305b828>"
            ]
          },
          "metadata": {
            "tags": []
          },
          "execution_count": 145
        },
        {
          "output_type": "display_data",
          "data": {
            "image/png": "[encoded data removed]",
            "text/plain": [
              "<Figure size 1152x432 with 2 Axes>"
            ]
          },
          "metadata": {
            "tags": [],
            "needs_background": "light"
          }
        }
      ]
    },
    {
      "cell_type": "markdown",
      "metadata": {
        "id": "uQ9lKm3Phc_2"
      },
      "source": [
        "## Modelling Preparation"
      ]
    },
    {
      "cell_type": "code",
      "metadata": {
        "id": "MS7BEmB9E9pT"
      },
      "source": [
        "# drop target and assign to X and y assign to target\r\n",
        "X = df_MW.drop(['FTR'], axis='columns')\r\n",
        "y = df_MW['FTR']"
      ],
      "execution_count": 274,
      "outputs": []
    },
    {
      "cell_type": "code",
      "metadata": {
        "id": "Q5_N3trdE9uo"
      },
      "source": [
        "from sklearn.preprocessing import MinMaxScaler, scale, RobustScaler"
      ],
      "execution_count": 258,
      "outputs": []
    },
    {
      "cell_type": "code",
      "metadata": {
        "id": "RvJMdQQpkX5t"
      },
      "source": [
        "# scale(X['HTP']) instead used a column transformer with pipline"
      ],
      "execution_count": 275,
      "outputs": []
    },
    {
      "cell_type": "code",
      "metadata": {
        "id": "5H4iAVCwE9z9"
      },
      "source": [
        "# for col in df_MW.select_dtypes(exclude='object').columns:\r\n",
        "#   X[col] = scale(X[col])"
      ],
      "execution_count": 276,
      "outputs": []
    },
    {
      "cell_type": "code",
      "metadata": {
        "colab": {
          "base_uri": "https://localhost:8080/",
          "height": 198
        },
        "id": "ogLciDchlkim",
        "outputId": "e2def5fc-53bd-4d10-be74-553d7da7fc12"
      },
      "source": [
        "X.select_dtypes(exclude='object').head()"
      ],
      "execution_count": 277,
      "outputs": [
        {
          "output_type": "execute_result",
          "data": {
            "text/html": [
              "<div>\n",
              "<style scoped>\n",
              "    .dataframe tbody tr th:only-of-type {\n",
              "        vertical-align: middle;\n",
              "    }\n",
              "\n",
              "    .dataframe tbody tr th {\n",
              "        vertical-align: top;\n",
              "    }\n",
              "\n",
              "    .dataframe thead th {\n",
              "        text-align: right;\n",
              "    }\n",
              "</style>\n",
              "<table border=\"1\" class=\"dataframe\">\n",
              "  <thead>\n",
              "    <tr style=\"text-align: right;\">\n",
              "      <th></th>\n",
              "      <th>HTP</th>\n",
              "      <th>ATP</th>\n",
              "      <th>HTGD</th>\n",
              "      <th>ATGD</th>\n",
              "      <th>DiffFormPts</th>\n",
              "      <th>DiffLP</th>\n",
              "    </tr>\n",
              "  </thead>\n",
              "  <tbody>\n",
              "    <tr>\n",
              "      <th>30</th>\n",
              "      <td>1.25</td>\n",
              "      <td>1.00</td>\n",
              "      <td>0.50</td>\n",
              "      <td>0.25</td>\n",
              "      <td>0.25</td>\n",
              "      <td>-16.0</td>\n",
              "    </tr>\n",
              "    <tr>\n",
              "      <th>31</th>\n",
              "      <td>0.75</td>\n",
              "      <td>0.25</td>\n",
              "      <td>-0.50</td>\n",
              "      <td>-0.75</td>\n",
              "      <td>0.50</td>\n",
              "      <td>-2.0</td>\n",
              "    </tr>\n",
              "    <tr>\n",
              "      <th>32</th>\n",
              "      <td>1.00</td>\n",
              "      <td>1.00</td>\n",
              "      <td>0.00</td>\n",
              "      <td>0.25</td>\n",
              "      <td>0.00</td>\n",
              "      <td>-3.0</td>\n",
              "    </tr>\n",
              "    <tr>\n",
              "      <th>33</th>\n",
              "      <td>0.75</td>\n",
              "      <td>0.50</td>\n",
              "      <td>-0.25</td>\n",
              "      <td>-0.25</td>\n",
              "      <td>0.25</td>\n",
              "      <td>3.0</td>\n",
              "    </tr>\n",
              "    <tr>\n",
              "      <th>34</th>\n",
              "      <td>1.00</td>\n",
              "      <td>1.50</td>\n",
              "      <td>0.00</td>\n",
              "      <td>0.75</td>\n",
              "      <td>-0.50</td>\n",
              "      <td>3.0</td>\n",
              "    </tr>\n",
              "  </tbody>\n",
              "</table>\n",
              "</div>"
            ],
            "text/plain": [
              "     HTP   ATP  HTGD  ATGD  DiffFormPts  DiffLP\n",
              "30  1.25  1.00  0.50  0.25         0.25   -16.0\n",
              "31  0.75  0.25 -0.50 -0.75         0.50    -2.0\n",
              "32  1.00  1.00  0.00  0.25         0.00    -3.0\n",
              "33  0.75  0.50 -0.25 -0.25         0.25     3.0\n",
              "34  1.00  1.50  0.00  0.75        -0.50     3.0"
            ]
          },
          "metadata": {
            "tags": []
          },
          "execution_count": 277
        }
      ]
    },
    {
      "cell_type": "code",
      "metadata": {
        "colab": {
          "base_uri": "https://localhost:8080/",
          "height": 229
        },
        "id": "GMliD1exE95O",
        "outputId": "160b7499-3027-45fd-c18c-b86237dddf40"
      },
      "source": [
        "X.select_dtypes(exclude='object').describe().T"
      ],
      "execution_count": 278,
      "outputs": [
        {
          "output_type": "execute_result",
          "data": {
            "text/html": [
              "<div>\n",
              "<style scoped>\n",
              "    .dataframe tbody tr th:only-of-type {\n",
              "        vertical-align: middle;\n",
              "    }\n",
              "\n",
              "    .dataframe tbody tr th {\n",
              "        vertical-align: top;\n",
              "    }\n",
              "\n",
              "    .dataframe thead th {\n",
              "        text-align: right;\n",
              "    }\n",
              "</style>\n",
              "<table border=\"1\" class=\"dataframe\">\n",
              "  <thead>\n",
              "    <tr style=\"text-align: right;\">\n",
              "      <th></th>\n",
              "      <th>count</th>\n",
              "      <th>mean</th>\n",
              "      <th>std</th>\n",
              "      <th>min</th>\n",
              "      <th>25%</th>\n",
              "      <th>50%</th>\n",
              "      <th>75%</th>\n",
              "      <th>max</th>\n",
              "    </tr>\n",
              "  </thead>\n",
              "  <tbody>\n",
              "    <tr>\n",
              "      <th>HTP</th>\n",
              "      <td>7000.0</td>\n",
              "      <td>1.272204</td>\n",
              "      <td>0.479558</td>\n",
              "      <td>0.000000</td>\n",
              "      <td>0.933333</td>\n",
              "      <td>1.200000</td>\n",
              "      <td>1.588235</td>\n",
              "      <td>2.821429</td>\n",
              "    </tr>\n",
              "    <tr>\n",
              "      <th>ATP</th>\n",
              "      <td>7000.0</td>\n",
              "      <td>1.284808</td>\n",
              "      <td>0.476733</td>\n",
              "      <td>0.000000</td>\n",
              "      <td>0.944444</td>\n",
              "      <td>1.214286</td>\n",
              "      <td>1.600000</td>\n",
              "      <td>2.821429</td>\n",
              "    </tr>\n",
              "    <tr>\n",
              "      <th>HTGD</th>\n",
              "      <td>7000.0</td>\n",
              "      <td>-0.006766</td>\n",
              "      <td>0.703359</td>\n",
              "      <td>-2.250000</td>\n",
              "      <td>-0.500000</td>\n",
              "      <td>-0.107143</td>\n",
              "      <td>0.409091</td>\n",
              "      <td>3.200000</td>\n",
              "    </tr>\n",
              "    <tr>\n",
              "      <th>ATGD</th>\n",
              "      <td>7000.0</td>\n",
              "      <td>0.011766</td>\n",
              "      <td>0.701988</td>\n",
              "      <td>-2.285714</td>\n",
              "      <td>-0.485065</td>\n",
              "      <td>-0.090909</td>\n",
              "      <td>0.428571</td>\n",
              "      <td>3.500000</td>\n",
              "    </tr>\n",
              "    <tr>\n",
              "      <th>DiffFormPts</th>\n",
              "      <td>7000.0</td>\n",
              "      <td>-0.012886</td>\n",
              "      <td>0.364096</td>\n",
              "      <td>-2.250000</td>\n",
              "      <td>-0.176471</td>\n",
              "      <td>0.000000</td>\n",
              "      <td>0.153846</td>\n",
              "      <td>2.250000</td>\n",
              "    </tr>\n",
              "    <tr>\n",
              "      <th>DiffLP</th>\n",
              "      <td>7000.0</td>\n",
              "      <td>-0.003143</td>\n",
              "      <td>8.042784</td>\n",
              "      <td>-17.000000</td>\n",
              "      <td>-6.000000</td>\n",
              "      <td>0.000000</td>\n",
              "      <td>6.000000</td>\n",
              "      <td>17.000000</td>\n",
              "    </tr>\n",
              "  </tbody>\n",
              "</table>\n",
              "</div>"
            ],
            "text/plain": [
              "              count      mean       std  ...       50%       75%        max\n",
              "HTP          7000.0  1.272204  0.479558  ...  1.200000  1.588235   2.821429\n",
              "ATP          7000.0  1.284808  0.476733  ...  1.214286  1.600000   2.821429\n",
              "HTGD         7000.0 -0.006766  0.703359  ... -0.107143  0.409091   3.200000\n",
              "ATGD         7000.0  0.011766  0.701988  ... -0.090909  0.428571   3.500000\n",
              "DiffFormPts  7000.0 -0.012886  0.364096  ...  0.000000  0.153846   2.250000\n",
              "DiffLP       7000.0 -0.003143  8.042784  ...  0.000000  6.000000  17.000000\n",
              "\n",
              "[6 rows x 8 columns]"
            ]
          },
          "metadata": {
            "tags": []
          },
          "execution_count": 278
        }
      ]
    },
    {
      "cell_type": "markdown",
      "metadata": {
        "id": "e2VzDEyIwBHs"
      },
      "source": [
        "# Encoders, Columns Transformers and Pipline"
      ]
    },
    {
      "cell_type": "code",
      "metadata": {
        "id": "2qQcYjPVE-Df"
      },
      "source": [
        "from sklearn.svm import SVC\r\n",
        "from sklearn.model_selection import train_test_split\r\n",
        "from sklearn.preprocessing import OneHotEncoder\r\n",
        "from sklearn.compose import ColumnTransformer\r\n",
        "from sklearn.pipeline import Pipeline"
      ],
      "execution_count": 216,
      "outputs": []
    },
    {
      "cell_type": "code",
      "metadata": {
        "id": "fGAfDeWlE-Jd"
      },
      "source": [
        "X_train, X_test, y_train, y_test = train_test_split(X,y, test_size = 0.25, random_state=1, stratify = y)"
      ],
      "execution_count": 280,
      "outputs": []
    },
    {
      "cell_type": "code",
      "metadata": {
        "colab": {
          "base_uri": "https://localhost:8080/"
        },
        "id": "zUpslbEoyGS9",
        "outputId": "5116ea23-e4fb-45d8-8bd3-cf0b83c05f3d"
      },
      "source": [
        "print(X_train.shape, X_test.shape)\r\n",
        "print(y_train.shape, y_test.shape)"
      ],
      "execution_count": 281,
      "outputs": [
        {
          "output_type": "stream",
          "text": [
            "(5250, 12) (1750, 12)\n",
            "(5250,) (1750,)\n"
          ],
          "name": "stdout"
        }
      ]
    },
    {
      "cell_type": "code",
      "metadata": {
        "colab": {
          "base_uri": "https://localhost:8080/"
        },
        "id": "84Zaj-fpyGdc",
        "outputId": "a4e99f76-5fb6-435c-e6bb-8dd097d12a25"
      },
      "source": [
        "cat_cols = [col for col in X.select_dtypes(include='object').columns]\r\n",
        "num_cols = [col for col in X.select_dtypes(exclude='object').columns]\r\n",
        "print(cat_cols)\r\n",
        "print(num_cols)"
      ],
      "execution_count": 282,
      "outputs": [
        {
          "output_type": "stream",
          "text": [
            "['HM1', 'HM2', 'HM3', 'AM1', 'AM2', 'AM3']\n",
            "['HTP', 'ATP', 'HTGD', 'ATGD', 'DiffFormPts', 'DiffLP']\n"
          ],
          "name": "stdout"
        }
      ]
    },
    {
      "cell_type": "code",
      "metadata": {
        "id": "2t1o2qFsyGrD"
      },
      "source": [
        "ohe = OneHotEncoder(sparse=False, handle_unknown='ignore')"
      ],
      "execution_count": 253,
      "outputs": []
    },
    {
      "cell_type": "code",
      "metadata": {
        "id": "4auIwn74yG1-"
      },
      "source": [
        "ct = ColumnTransformer([\r\n",
        "                        ('step1', MinMaxScaler(), num_cols),\r\n",
        "                        ('step2', ohe, cat_cols),\r\n",
        "                      ], remainder ='passthrough'\r\n",
        "                       )"
      ],
      "execution_count": 284,
      "outputs": []
    },
    {
      "cell_type": "code",
      "metadata": {
        "colab": {
          "base_uri": "https://localhost:8080/"
        },
        "id": "tV8I6IG6yHBw",
        "outputId": "302a3f17-7d74-4561-b346-321e62232c3e"
      },
      "source": [
        "ct"
      ],
      "execution_count": 285,
      "outputs": [
        {
          "output_type": "execute_result",
          "data": {
            "text/plain": [
              "ColumnTransformer(n_jobs=None, remainder='passthrough', sparse_threshold=0.3,\n",
              "                  transformer_weights=None,\n",
              "                  transformers=[('step1',\n",
              "                                 MinMaxScaler(copy=True, feature_range=(0, 1)),\n",
              "                                 ['HTP', 'ATP', 'HTGD', 'ATGD', 'DiffFormPts',\n",
              "                                  'DiffLP']),\n",
              "                                ('step2',\n",
              "                                 OneHotEncoder(categories='auto', drop=None,\n",
              "                                               dtype=<class 'numpy.float64'>,\n",
              "                                               handle_unknown='ignore',\n",
              "                                               sparse=False),\n",
              "                                 ['HM1', 'HM2', 'HM3', 'AM1', 'AM2', 'AM3'])],\n",
              "                  verbose=False)"
            ]
          },
          "metadata": {
            "tags": []
          },
          "execution_count": 285
        }
      ]
    },
    {
      "cell_type": "code",
      "metadata": {
        "id": "Yh0TR1yzyHLU"
      },
      "source": [
        "#pipeline\r\n",
        "my_pipe = Pipeline([\r\n",
        "            ('coltran', ct),\r\n",
        "            ('clf', SVC())\r\n",
        "          ])"
      ],
      "execution_count": 286,
      "outputs": []
    },
    {
      "cell_type": "code",
      "metadata": {
        "colab": {
          "base_uri": "https://localhost:8080/"
        },
        "id": "BJQEgOYAA_p_",
        "outputId": "1cbf7504-81ae-42ac-a4f9-aab049bcddb8"
      },
      "source": [
        "my_pipe"
      ],
      "execution_count": 287,
      "outputs": [
        {
          "output_type": "execute_result",
          "data": {
            "text/plain": [
              "Pipeline(memory=None,\n",
              "         steps=[('coltran',\n",
              "                 ColumnTransformer(n_jobs=None, remainder='passthrough',\n",
              "                                   sparse_threshold=0.3,\n",
              "                                   transformer_weights=None,\n",
              "                                   transformers=[('step1',\n",
              "                                                  MinMaxScaler(copy=True,\n",
              "                                                               feature_range=(0,\n",
              "                                                                              1)),\n",
              "                                                  ['HTP', 'ATP', 'HTGD', 'ATGD',\n",
              "                                                   'DiffFormPts', 'DiffLP']),\n",
              "                                                 ('step2',\n",
              "                                                  OneHotEncoder(categories='auto',\n",
              "                                                                drop=None,\n",
              "                                                                dtype=<class 'numpy.float64'>,\n",
              "                                                                handle_unknown='ignore',\n",
              "                                                                sparse=False),\n",
              "                                                  ['HM1', 'HM2', 'HM3', 'AM1',\n",
              "                                                   'AM2', 'AM3'])],\n",
              "                                   verbose=False)),\n",
              "                ('clf',\n",
              "                 SVC(C=1.0, break_ties=False, cache_size=200, class_weight=None,\n",
              "                     coef0=0.0, decision_function_shape='ovr', degree=3,\n",
              "                     gamma='scale', kernel='rbf', max_iter=-1,\n",
              "                     probability=False, random_state=None, shrinking=True,\n",
              "                     tol=0.001, verbose=False))],\n",
              "         verbose=False)"
            ]
          },
          "metadata": {
            "tags": []
          },
          "execution_count": 287
        }
      ]
    },
    {
      "cell_type": "code",
      "metadata": {
        "colab": {
          "base_uri": "https://localhost:8080/"
        },
        "id": "2fJyirIaBAfS",
        "outputId": "f4dd9d56-fca7-4720-9f48-01c1b91ee1f7"
      },
      "source": [
        "my_pipe.fit(X_train, y_train)"
      ],
      "execution_count": 298,
      "outputs": [
        {
          "output_type": "execute_result",
          "data": {
            "text/plain": [
              "Pipeline(memory=None,\n",
              "         steps=[('coltran',\n",
              "                 ColumnTransformer(n_jobs=None, remainder='passthrough',\n",
              "                                   sparse_threshold=0.3,\n",
              "                                   transformer_weights=None,\n",
              "                                   transformers=[('step1',\n",
              "                                                  MinMaxScaler(copy=True,\n",
              "                                                               feature_range=(0,\n",
              "                                                                              1)),\n",
              "                                                  ['HTP', 'ATP', 'HTGD', 'ATGD',\n",
              "                                                   'DiffFormPts', 'DiffLP']),\n",
              "                                                 ('step2',\n",
              "                                                  OneHotEncoder(categories='auto',\n",
              "                                                                drop=None,\n",
              "                                                                dtype=<class 'numpy.float64'>,\n",
              "                                                                handle_unknown='ignore',\n",
              "                                                                sparse=False),\n",
              "                                                  ['HM1', 'HM2', 'HM3', 'AM1',\n",
              "                                                   'AM2', 'AM3'])],\n",
              "                                   verbose=False)),\n",
              "                ('clf',\n",
              "                 SVC(C=1.0, break_ties=False, cache_size=200, class_weight=None,\n",
              "                     coef0=0.0, decision_function_shape='ovr', degree=3,\n",
              "                     gamma='scale', kernel='rbf', max_iter=-1,\n",
              "                     probability=False, random_state=None, shrinking=True,\n",
              "                     tol=0.001, verbose=False))],\n",
              "         verbose=False)"
            ]
          },
          "metadata": {
            "tags": []
          },
          "execution_count": 298
        }
      ]
    },
    {
      "cell_type": "code",
      "metadata": {
        "colab": {
          "base_uri": "https://localhost:8080/"
        },
        "id": "TND-eH_VCcg8",
        "outputId": "5d362b77-d07c-4cb4-9ba7-6133549d5b70"
      },
      "source": [
        "print(f\"The one hot encoded feature names are:\\n{my_pipe.named_steps['coltran'].transformers_[1][1].get_feature_names()}\")"
      ],
      "execution_count": 314,
      "outputs": [
        {
          "output_type": "stream",
          "text": [
            "The one hot encoded feature names are:\n",
            "['x0_D' 'x0_L' 'x0_W' 'x1_D' 'x1_L' 'x1_W' 'x2_D' 'x2_L' 'x2_W' 'x3_D'\n",
            " 'x3_L' 'x3_W' 'x4_D' 'x4_L' 'x4_W' 'x5_D' 'x5_L' 'x5_W']\n"
          ],
          "name": "stdout"
        }
      ]
    },
    {
      "cell_type": "code",
      "metadata": {
        "colab": {
          "base_uri": "https://localhost:8080/"
        },
        "id": "pNvgo_VECctF",
        "outputId": "3dbbbe04-557f-4f73-dca9-fd45d3861037"
      },
      "source": [
        "y_pred = my_pipe.predict(X_test)\r\n",
        "y_pred"
      ],
      "execution_count": 316,
      "outputs": [
        {
          "output_type": "execute_result",
          "data": {
            "text/plain": [
              "array(['NH', 'NH', 'H', ..., 'H', 'NH', 'NH'], dtype=object)"
            ]
          },
          "metadata": {
            "tags": []
          },
          "execution_count": 316
        }
      ]
    },
    {
      "cell_type": "code",
      "metadata": {
        "colab": {
          "base_uri": "https://localhost:8080/"
        },
        "id": "fYGj2X3hCcz8",
        "outputId": "65ed6f19-5696-4b3c-a9d7-fd85d5d4cd35"
      },
      "source": [
        "my_pipe.score(X_test, y_test)"
      ],
      "execution_count": 319,
      "outputs": [
        {
          "output_type": "execute_result",
          "data": {
            "text/plain": [
              "0.6302857142857143"
            ]
          },
          "metadata": {
            "tags": []
          },
          "execution_count": 319
        }
      ]
    },
    {
      "cell_type": "code",
      "metadata": {
        "id": "AquPBabICc5x"
      },
      "source": [
        "from sklearn.metrics import accuracy_score"
      ],
      "execution_count": 323,
      "outputs": []
    },
    {
      "cell_type": "code",
      "metadata": {
        "colab": {
          "base_uri": "https://localhost:8080/"
        },
        "id": "2z2iCSf-Cc95",
        "outputId": "bab0f64f-0492-463f-8ee9-a77da83b1a86"
      },
      "source": [
        "print(f\"The accuracy using accuracy score is = {round(accuracy_score(y_test, y_pred)*100,2)}%\")\r\n",
        "print(f\"The accuracy using the pipeline is = {round(my_pipe.score(X_test, y_test)*100,2)}%\")"
      ],
      "execution_count": 330,
      "outputs": [
        {
          "output_type": "stream",
          "text": [
            "The accuracy using accuracy score is = 63.03%\n",
            "The accuracy using the pipeline is = 63.03%\n"
          ],
          "name": "stdout"
        }
      ]
    },
    {
      "cell_type": "code",
      "metadata": {
        "id": "kCjCkKR5CdCO"
      },
      "source": [
        ""
      ],
      "execution_count": null,
      "outputs": []
    },
    {
      "cell_type": "code",
      "metadata": {
        "id": "EC-tPLxuCdGc"
      },
      "source": [
        ""
      ],
      "execution_count": null,
      "outputs": []
    },
    {
      "cell_type": "code",
      "metadata": {
        "id": "vOzGpe7QCdKG"
      },
      "source": [
        ""
      ],
      "execution_count": null,
      "outputs": []
    },
    {
      "cell_type": "code",
      "metadata": {
        "id": "n0g2Gos6BAl7"
      },
      "source": [
        ""
      ],
      "execution_count": null,
      "outputs": []
    },
    {
      "cell_type": "code",
      "metadata": {
        "id": "3VAF2S3vBAre"
      },
      "source": [
        ""
      ],
      "execution_count": null,
      "outputs": []
    },
    {
      "cell_type": "code",
      "metadata": {
        "id": "KB-wvEF_BAvO"
      },
      "source": [
        ""
      ],
      "execution_count": null,
      "outputs": []
    },
    {
      "cell_type": "code",
      "metadata": {
        "id": "xi46-jVNBAzI"
      },
      "source": [
        ""
      ],
      "execution_count": null,
      "outputs": []
    },
    {
      "cell_type": "code",
      "metadata": {
        "id": "cIB8McqzBA3H"
      },
      "source": [
        ""
      ],
      "execution_count": null,
      "outputs": []
    },
    {
      "cell_type": "code",
      "metadata": {
        "id": "LiUsGSP2BA6f"
      },
      "source": [
        ""
      ],
      "execution_count": null,
      "outputs": []
    },
    {
      "cell_type": "code",
      "metadata": {
        "id": "HlqEXr2cBA9_"
      },
      "source": [
        ""
      ],
      "execution_count": null,
      "outputs": []
    },
    {
      "cell_type": "code",
      "metadata": {
        "id": "oWdhGWEfBBBQ"
      },
      "source": [
        ""
      ],
      "execution_count": null,
      "outputs": []
    },
    {
      "cell_type": "code",
      "metadata": {
        "id": "4KdDEVRbyHVZ"
      },
      "source": [
        ""
      ],
      "execution_count": null,
      "outputs": []
    },
    {
      "cell_type": "code",
      "metadata": {
        "id": "Uu8v3oHJyHex"
      },
      "source": [
        ""
      ],
      "execution_count": null,
      "outputs": []
    },
    {
      "cell_type": "code",
      "metadata": {
        "id": "YmKk0zifyHnn"
      },
      "source": [
        ""
      ],
      "execution_count": null,
      "outputs": []
    },
    {
      "cell_type": "code",
      "metadata": {
        "id": "j3zbqa5EyHv8"
      },
      "source": [
        ""
      ],
      "execution_count": null,
      "outputs": []
    },
    {
      "cell_type": "code",
      "metadata": {
        "id": "tgcxYYw-BBFD"
      },
      "source": [
        ""
      ],
      "execution_count": null,
      "outputs": []
    },
    {
      "cell_type": "code",
      "metadata": {
        "id": "8lWp0DwUCdOd"
      },
      "source": [
        ""
      ],
      "execution_count": null,
      "outputs": []
    }
  ]
}
