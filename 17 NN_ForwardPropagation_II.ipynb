{
  "nbformat": 4,
  "nbformat_minor": 0,
  "metadata": {
    "colab": {
      "name": "NN_ForwardPropagation_II.ipynb",
      "provenance": [],
      "collapsed_sections": [],
      "authorship_tag": "ABX9TyN0qeQdRJxMtP36J6cjZ/bz",
      "include_colab_link": true
    },
    "kernelspec": {
      "name": "python3",
      "display_name": "Python 3"
    },
    "language_info": {
      "name": "python"
    }
  },
  "cells": [
    {
      "cell_type": "markdown",
      "metadata": {
        "id": "view-in-github",
        "colab_type": "text"
      },
      "source": [
        "<a href=\"https://colab.research.google.com/github/yebiFesseha/Excel-for-Excel-In-MachineLearning/blob/main/NN_ForwardPropagation_II.ipynb\" target=\"_parent\"><img src=\"https://colab.research.google.com/assets/colab-badge.svg\" alt=\"Open In Colab\"/></a>"
      ]
    },
    {
      "cell_type": "markdown",
      "source": [
        "Below we summarized what we have done in the previous NN_ForwardPropagation script with a function\n",
        "\n",
        "We will run a 4 features input through a neural network with the below characteristics, we only work on FF propagation in this version as well:\n",
        "\n",
        "* Dense Layer 1 sets of neurons = 15, and use ReLu for activation,\n",
        "* Dense Layer 2 sets of neurons = 7, and use sigmoid for activation,\n",
        "* Dense Layer 3 sets of neurons = 11, and use tanH for activation\n",
        "* Finally for the 7 output layer use a siftmax function for activation"
      ],
      "metadata": {
        "id": "YFWH1ZLB7zHw"
      }
    },
    {
      "cell_type": "code",
      "source": [
        "import numpy as np\n",
        "import pandas as pd\n",
        "import math\n",
        "import seaborn as sns\n",
        "import matplotlib.pyplot as plt\n",
        "sns.set_theme(style='darkgrid')"
      ],
      "metadata": {
        "id": "Yj5pIlaC8DZA"
      },
      "execution_count": 1,
      "outputs": []
    },
    {
      "cell_type": "code",
      "source": [
        "# x input array (values), number of features input (nfeatures), nneurons=number of neurons\n",
        "def postActivation(x,nneurons, func):\n",
        "    np.random.seed(10)\n",
        "    w = np.random.randn(x.shape[1], nneurons)\n",
        "    iw =  np.dot(x,w)\n",
        "    bias =  np.random.randn(iw.shape[0], iw.shape[1])\n",
        "    y = np.add(iw, bias)\n",
        "    return func(y)\n",
        "\n",
        "def sigmoid(x):\n",
        "    return 1 /(1 + np.exp(-x))\n",
        "def ReLu(x):\n",
        "  return np.maximum(0,x)\n",
        "def tanH(x):\n",
        "    return np.tanh(x)\n",
        "def linear(x):\n",
        "    return x\n",
        "def softmax(x):\n",
        "    return np.exp(x)/np.sum(np.exp(x))\n",
        "def minMaxScalar(x):\n",
        "  return (x-np.min(x, axis=0, keepdims=True))/ (np.max(x, axis=0, keepdims=True)-np.min(x, axis=0, keepdims=True))"
      ],
      "metadata": {
        "id": "Woi-abTY7nRm"
      },
      "execution_count": 2,
      "outputs": []
    },
    {
      "cell_type": "code",
      "source": [
        "# create a 4 features input array with 3 batches of input\n",
        "np.random.seed(1)\n",
        "inputFeatures = int(input(\"Enter the number of input features: \" ))\n",
        "inputBatches = int(input(\"Enter the number of input batches: \" ))\n",
        "print(\"\\nThe input array is:\")\n",
        "X = np.random.randint(-48,100,(inputBatches,inputFeatures)) \n",
        "X"
      ],
      "metadata": {
        "colab": {
          "base_uri": "https://localhost:8080/"
        },
        "id": "WRqjaK5W7nUn",
        "outputId": "5b59b722-e1e9-467a-80a7-3b0b66ddf5f0"
      },
      "execution_count": 3,
      "outputs": [
        {
          "output_type": "stream",
          "name": "stdout",
          "text": [
            "Enter the number of input features: 4\n",
            "Enter the number of input batches: 3\n",
            "\n",
            "The input array is:\n"
          ]
        },
        {
          "output_type": "execute_result",
          "data": {
            "text/plain": [
              "array([[-11,  92,  24,  89],\n",
              "       [ 85,  31,  96,  81],\n",
              "       [ 23,  86, -23, -28]])"
            ]
          },
          "metadata": {},
          "execution_count": 3
        }
      ]
    },
    {
      "cell_type": "code",
      "source": [
        "# Use a min-max feature scaling\n",
        "X = minMaxScalar(X)\n",
        "X"
      ],
      "metadata": {
        "colab": {
          "base_uri": "https://localhost:8080/"
        },
        "id": "XZF7Zg_V7nXf",
        "outputId": "88f608f6-ba88-48ad-abb5-bba1088e28ad"
      },
      "execution_count": 4,
      "outputs": [
        {
          "output_type": "execute_result",
          "data": {
            "text/plain": [
              "array([[0.        , 1.        , 0.39495798, 1.        ],\n",
              "       [1.        , 0.        , 1.        , 0.93162393],\n",
              "       [0.35416667, 0.90163934, 0.        , 0.        ]])"
            ]
          },
          "metadata": {},
          "execution_count": 4
        }
      ]
    },
    {
      "cell_type": "code",
      "source": [
        "# Dense Layer 1 sets of neurons = 15, and use ReLu for activation,\n",
        "postActivation(X, \n",
        "               15, \n",
        "               ReLu)"
      ],
      "metadata": {
        "colab": {
          "base_uri": "https://localhost:8080/"
        },
        "id": "BVijeMDh7naO",
        "outputId": "4bd31c3e-de5b-4a8b-df47-3160eb504b54"
      },
      "execution_count": 5,
      "outputs": [
        {
          "output_type": "execute_result",
          "data": {
            "text/plain": [
              "array([[0.        , 0.        , 1.62850617, 1.16382355, 0.        ,\n",
              "        0.        , 0.        , 0.        , 3.22688192, 1.5549131 ,\n",
              "        2.45632315, 2.81617613, 1.72862872, 0.41228436, 0.24799782],\n",
              "       [3.33376616, 0.        , 0.        , 0.        , 0.99446   ,\n",
              "        1.43587828, 2.6798628 , 0.        , 1.69772882, 0.        ,\n",
              "        0.        , 3.03429821, 0.        , 0.65160629, 0.        ],\n",
              "       [1.98066537, 0.        , 0.        , 0.58165473, 0.        ,\n",
              "        0.        , 0.        , 0.36793121, 2.97889888, 0.        ,\n",
              "        1.7789411 , 0.        , 0.        , 0.58936398, 0.48949543]])"
            ]
          },
          "metadata": {},
          "execution_count": 5
        }
      ]
    },
    {
      "cell_type": "code",
      "source": [
        "# Dense Layer 2 sets of neurons = 7, and use sigmoid for activation,\n",
        "postActivation(postActivation(X, 15, ReLu), # the input is the output of the first dense layer\n",
        "               7, \n",
        "               sigmoid)"
      ],
      "metadata": {
        "colab": {
          "base_uri": "https://localhost:8080/"
        },
        "id": "FXdJGxAl7nc-",
        "outputId": "f569621c-d9a6-4345-cf59-ce3b2b182848"
      },
      "execution_count": 6,
      "outputs": [
        {
          "output_type": "execute_result",
          "data": {
            "text/plain": [
              "array([[9.99331532e-01, 8.06645569e-02, 7.20344015e-02, 9.99986502e-01,\n",
              "        9.98924733e-01, 1.96825852e-03, 2.63477662e-01],\n",
              "       [9.99970885e-01, 4.66134373e-01, 1.03873926e-05, 9.97940879e-01,\n",
              "        9.95047614e-01, 4.32037096e-04, 9.91582042e-01],\n",
              "       [9.99725754e-01, 9.72038520e-01, 1.81118054e-02, 8.63075912e-01,\n",
              "        9.92513524e-01, 9.59517242e-01, 9.18462066e-01]])"
            ]
          },
          "metadata": {},
          "execution_count": 6
        }
      ]
    },
    {
      "cell_type": "code",
      "source": [
        "# Dense Layer 3 sets of neurons = 11, and use tanH for activation\n",
        "postActivation(postActivation(postActivation(X, 15, ReLu), 7, sigmoid),  # the input is the output of the second dense layer\n",
        "               11, \n",
        "               tanH)"
      ],
      "metadata": {
        "colab": {
          "base_uri": "https://localhost:8080/"
        },
        "id": "GwgzCGJG7ngG",
        "outputId": "975a3275-f2a1-4a12-c077-0663174a9a57"
      },
      "execution_count": 7,
      "outputs": [
        {
          "output_type": "execute_result",
          "data": {
            "text/plain": [
              "array([[ 0.7870723 ,  0.45466352, -0.98418354,  0.99256268,  0.99134357,\n",
              "        -0.87085202, -0.65371487,  0.88925958, -0.99545582, -0.00442656,\n",
              "         0.5706909 ],\n",
              "       [ 0.95371081, -0.96677388, -0.43026494,  0.73144688,  0.86397885,\n",
              "        -0.41334169,  0.0699083 ,  0.99864058, -0.91488273,  0.83580658,\n",
              "        -0.6035809 ],\n",
              "       [ 0.46025213,  0.95181649, -0.96761706, -0.2385235 ,  0.94031025,\n",
              "        -0.66687966, -0.87294488,  0.99946701, -0.88982659,  0.59188523,\n",
              "        -0.99827085]])"
            ]
          },
          "metadata": {},
          "execution_count": 7
        }
      ]
    },
    {
      "cell_type": "code",
      "source": [
        "# the 7 output layer use a siftmax function for activation\n",
        "postActivation(postActivation(postActivation(postActivation(X, 15, ReLu), 7, sigmoid),11,tanH), # the input to the output layer is the output of the third dense layer\n",
        "               7,\n",
        "               softmax)"
      ],
      "metadata": {
        "colab": {
          "base_uri": "https://localhost:8080/"
        },
        "id": "Qp1fPNvj79Vm",
        "outputId": "06b2593c-d481-4e7b-c04c-e2ff9d384352"
      },
      "execution_count": 8,
      "outputs": [
        {
          "output_type": "execute_result",
          "data": {
            "text/plain": [
              "array([[2.87880511e-04, 1.48958291e-03, 2.82624843e-02, 2.56524080e-02,\n",
              "        4.75232652e-01, 2.34671494e-03, 7.86132516e-02],\n",
              "       [7.26041300e-05, 3.05657674e-04, 7.08252674e-03, 2.55405028e-03,\n",
              "        3.72604685e-03, 2.95407858e-04, 1.07861125e-01],\n",
              "       [7.60821963e-04, 1.36350602e-03, 2.75410600e-03, 1.12034568e-03,\n",
              "        1.02758447e-02, 1.20663794e-04, 2.49822320e-01]])"
            ]
          },
          "metadata": {},
          "execution_count": 8
        }
      ]
    }
  ]
}
