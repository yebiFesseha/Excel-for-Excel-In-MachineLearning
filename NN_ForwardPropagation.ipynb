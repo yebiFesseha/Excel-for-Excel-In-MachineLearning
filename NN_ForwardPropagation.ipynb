{
  "nbformat": 4,
  "nbformat_minor": 0,
  "metadata": {
    "colab": {
      "name": "NN_ForwardPropagation.ipynb",
      "provenance": [],
      "collapsed_sections": [],
      "authorship_tag": "ABX9TyO/lhTP6V1kBuwKRYDKsF3+"
    },
    "kernelspec": {
      "name": "python3",
      "display_name": "Python 3"
    },
    "language_info": {
      "name": "python"
    }
  },
  "cells": [
    {
      "cell_type": "markdown",
      "source": [
        ""
      ],
      "metadata": {
        "id": "XaBBb6Exy2ne"
      }
    },
    {
      "cell_type": "markdown",
      "source": [
        "### Basic Neural Network Concept : Forward Propagation\n",
        "* I will create a Neural network with the following characteristcs:\n",
        "An input layer with 3 inputs, A deep layer with 3 sets of neurons and an ouput layer.\n",
        "* The first sets of neurons of the deep layer will have 7 neurons, the second set will have 33 neurons and the third set will have 21 neurons.\n",
        "And an output layer with 4 outputs/neurons.\n",
        "* For educational purpose I will implement all major activation functions throughout the deep layer architecture: sigmoid, ReLu, TanH and Softmax at the output layer.\n",
        "\n",
        "* The goal is to build a basic NN architecture to gain a deeper understanding of the forward propagation concept of a neural network. So the choice of the deep layer, parameters and activation functions are done in a haphazard fashion\n",
        "\n",
        "* Here is the architecture of the network: ((3x4),(4x7),(7x33),(33x21),(21x9))"
      ],
      "metadata": {
        "id": "MlkEAytdy3sW"
      }
    },
    {
      "cell_type": "code",
      "source": [
        "import numpy as np\n",
        "import pandas as pd\n",
        "import math\n",
        "import seaborn as sns\n",
        "import matplotlib.pyplot as plt\n",
        "sns.set_theme(style='darkgrid')"
      ],
      "metadata": {
        "id": "Bywx8fOfzJYe"
      },
      "execution_count": 21,
      "outputs": []
    },
    {
      "cell_type": "code",
      "source": [
        "# First generate a batch of inputs using numpy This is the architecture of the network: ((3x4),(4x7),(7x33),(33x21),(21x9))\n",
        "# Lets have 3 bathces of data of 4 input values each\n",
        "np.random.seed(1)\n",
        "X = np.random.randint(-10,10,(3,4)) # \n",
        "print(X)"
      ],
      "metadata": {
        "colab": {
          "base_uri": "https://localhost:8080/"
        },
        "id": "hqHWlt4BzJpk",
        "outputId": "1f90caeb-683e-402c-d3f8-8480d561af35"
      },
      "execution_count": 3,
      "outputs": [
        {
          "output_type": "stream",
          "name": "stdout",
          "text": [
            "[[ -5   1   2  -2]\n",
            " [ -1   1  -5   5]\n",
            " [-10   6  -9   2]]\n"
          ]
        }
      ]
    },
    {
      "cell_type": "markdown",
      "source": [
        "---\n",
        "#### **The First Neuron sets of the Deep Layer**"
      ],
      "metadata": {
        "id": "zC6HfUvt7wy6"
      }
    },
    {
      "cell_type": "code",
      "source": [
        "# The set of neurons of the first deep layer are 7, hence we need 4 input by 7 neurons sets of weights\n",
        "np.random.seed(1)\n",
        "weights1 = np.random.randn(4,7)\n",
        "inputBYweight1 = np.dot(X, weights1)\n",
        "print(inputBYweight1)"
      ],
      "metadata": {
        "colab": {
          "base_uri": "https://localhost:8080/"
        },
        "id": "XDnpy3G0zJwF",
        "outputId": "5c3e485a-fdaf-4d1b-c2be-45be64f4005f"
      },
      "execution_count": 4,
      "outputs": [
        {
          "output_type": "stream",
          "name": "stdout",
          "text": [
            "[[ -8.90484225  -0.62514281   1.04164329   3.26952231  -4.93529564\n",
            "   12.59668716  -9.43781266]\n",
            " [ -2.33078093  10.93820545   3.65341411  11.4286484   -6.55525637\n",
            "   -1.5494057   -1.3046174 ]\n",
            " [-28.7251726   19.73400156   6.34233782  29.2047715  -22.76229999\n",
            "   15.58976637 -11.71841004]]\n"
          ]
        }
      ]
    },
    {
      "cell_type": "code",
      "source": [
        "# For each first 7 sets of neurons of the deep layer we need 7 bias values which will be added element wise,\n",
        "# Since for the previuos output we have a 3x7 ouput we will add a 3x7 matrix of biases\n",
        "np.random.seed(1)\n",
        "bias1 = np.random.randint(-5,5, (3,7))\n",
        "print(bias1)"
      ],
      "metadata": {
        "colab": {
          "base_uri": "https://localhost:8080/"
        },
        "id": "ymwvRp-SzJz2",
        "outputId": "f8bbe7c8-4049-4606-c673-f245a10657a6"
      },
      "execution_count": 5,
      "outputs": [
        {
          "output_type": "stream",
          "name": "stdout",
          "text": [
            "[[ 0  3  4  0 -5 -5 -4]\n",
            " [ 2  1  4 -3 -1  0 -3]\n",
            " [-1 -3 -1  2  2  4 -4]]\n"
          ]
        }
      ]
    },
    {
      "cell_type": "code",
      "source": [
        "preactivation1 = np.add(inputBYweight1, bias1)\n",
        "print(preactivation1)"
      ],
      "metadata": {
        "colab": {
          "base_uri": "https://localhost:8080/"
        },
        "id": "7CP0MgqUzJ2t",
        "outputId": "ae94ec47-a803-462c-8861-f43cc4f31a8f"
      },
      "execution_count": 6,
      "outputs": [
        {
          "output_type": "stream",
          "name": "stdout",
          "text": [
            "[[ -8.90484225   2.37485719   5.04164329   3.26952231  -9.93529564\n",
            "    7.59668716 -13.43781266]\n",
            " [ -0.33078093  11.93820545   7.65341411   8.4286484   -7.55525637\n",
            "   -1.5494057   -4.3046174 ]\n",
            " [-29.7251726   16.73400156   5.34233782  31.2047715  -20.76229999\n",
            "   19.58976637 -15.71841004]]\n"
          ]
        }
      ]
    },
    {
      "cell_type": "code",
      "source": [
        "# For the first sets of neurons of the deep layer we will use a linear function for demonstration purpose\n",
        "f = lambda x: x\n",
        "postactivation1 = f(preactivation1)\n",
        "print(postactivation1)\n",
        "print(f\"\\n At the output of the first sets of neurons of the deep layer we have a {postactivation1.shape} matrix.\")"
      ],
      "metadata": {
        "colab": {
          "base_uri": "https://localhost:8080/"
        },
        "id": "-0qw-Z779aDZ",
        "outputId": "875427bd-cf64-4840-a8e1-3d803a42ac03"
      },
      "execution_count": 67,
      "outputs": [
        {
          "output_type": "stream",
          "name": "stdout",
          "text": [
            "[[ -8.90484225   2.37485719   5.04164329   3.26952231  -9.93529564\n",
            "    7.59668716 -13.43781266]\n",
            " [ -0.33078093  11.93820545   7.65341411   8.4286484   -7.55525637\n",
            "   -1.5494057   -4.3046174 ]\n",
            " [-29.7251726   16.73400156   5.34233782  31.2047715  -20.76229999\n",
            "   19.58976637 -15.71841004]]\n",
            "\n",
            " At the output of the first sets of neurons of the deep layer we have a (3, 7) matrix.\n"
          ]
        }
      ]
    },
    {
      "cell_type": "code",
      "source": [
        "# Here is the activation using a sigmoid function, the values are between 0 and 1\n",
        "def sigmoid(x):\n",
        "  return 1/(1 + np.exp(-x))\n",
        "\n",
        "postactivation1 = sigmoid(preactivation1)\n",
        "print(postactivation1)\n",
        "print(f\"\\n At the output of the first sets of neurons of the deep layer we have a {postactivation1.shape} matrix.\")"
      ],
      "metadata": {
        "colab": {
          "base_uri": "https://localhost:8080/"
        },
        "id": "j67TfHOe9Dpj",
        "outputId": "d42c7190-313e-45cf-fc9f-c796ecdfd99c"
      },
      "execution_count": 68,
      "outputs": [
        {
          "output_type": "stream",
          "name": "stdout",
          "text": [
            "[[1.35711673e-04 9.14889835e-01 9.93578385e-01 9.63368318e-01\n",
            "  4.84322774e-05 9.99498140e-01 1.45892000e-06]\n",
            " [4.18050624e-01 9.99993464e-01 9.99525803e-01 9.99781531e-01\n",
            "  5.23078200e-04 1.75172120e-01 1.33260693e-02]\n",
            " [1.23174715e-13 9.99999946e-01 9.95238112e-01 1.00000000e+00\n",
            "  9.61717863e-10 9.99999997e-01 1.49135553e-07]]\n",
            "\n",
            " At the output of the first sets of neurons of the deep layer we have a (3, 7) matrix.\n"
          ]
        }
      ]
    },
    {
      "cell_type": "markdown",
      "source": [
        "---\n",
        "#### **The second Neuron sets of the Deep Layer**"
      ],
      "metadata": {
        "id": "V45wWbVg8gcq"
      }
    },
    {
      "cell_type": "code",
      "source": [
        "#For the second sets of neurons of the deep layer we have 33 neurons, hence we need 7x33 weights multiplied by postactivation1: resulting 3x33 dot product \n",
        "np.random.seed(1)\n",
        "weights2 = np.random.randn(7,33)\n",
        "inputBYweight2 = np.dot(postactivation1, weights2)\n",
        "print(inputBYweight2)"
      ],
      "metadata": {
        "colab": {
          "base_uri": "https://localhost:8080/"
        },
        "id": "pu_TE_j0zJ8M",
        "outputId": "7e7a7055-268f-45f2-e94a-f159ed5207cb"
      },
      "execution_count": 69,
      "outputs": [
        {
          "output_type": "stream",
          "name": "stdout",
          "text": [
            "[[ 0.84910096  1.45097673  3.55299857  0.1683923  -2.54380836 -0.68445056\n",
            "   1.90238386  3.93541595 -1.66571775 -2.90564241  1.04962985  0.876872\n",
            "  -0.33773138  2.42662996  0.55308937 -1.02387207 -0.20079963  1.14761069\n",
            "  -0.3892589   0.04287336 -1.20919307  0.72304894  0.1517308   3.3974926\n",
            "   3.86516014 -0.18501466  1.99710257  2.14673251  3.00307784  0.04952331\n",
            "  -1.40935259  0.91791279 -0.84695487]\n",
            " [ 1.64239104  0.33206306  3.20778991 -2.16388476 -0.59319238 -0.98913715\n",
            "   1.94135069  1.52554426 -1.45790474 -3.14307673  1.97612442 -1.09597747\n",
            "  -0.28110436  1.73929441  1.45153428 -0.42025495 -0.5418444   0.40452171\n",
            "  -1.51713186  0.31484335 -1.15983229  0.72387719  0.37425003  3.50728383\n",
            "   4.48061482 -1.46810014  1.74302755  0.20897229  2.08918323 -0.27478483\n",
            "  -0.36205925  0.28799123 -1.50922514]\n",
            " [ 0.80436409  1.3805403   3.60054489  0.08703482 -2.50560389 -0.58408981\n",
            "   1.97218824  3.94904305 -1.77583261 -2.98227962  1.19400874  0.83317975\n",
            "  -0.38014508  2.47552833  0.69966821 -1.001656   -0.19585979  1.17275876\n",
            "  -0.47744077 -0.01310558 -1.22527268  0.70501581  0.17344005  3.51750988\n",
            "   4.01830008 -0.22778125  2.1172998   2.14222307  3.12341412  0.04968331\n",
            "  -1.40440222  0.95330632 -0.87625857]]\n"
          ]
        }
      ]
    },
    {
      "cell_type": "code",
      "source": [
        "# For each second sets of 33 of the deep layer we need 33 bias values which will be added element wise,\n",
        "# Since for the previuos output we have a 3x33 ouput we will add a 3x33 matrix of biases\n",
        "np.random.seed(1)\n",
        "bias2 = np.random.randint(-5,5, (3,33))\n",
        "print(bias2)"
      ],
      "metadata": {
        "colab": {
          "base_uri": "https://localhost:8080/"
        },
        "id": "9r9g4MYEDigJ",
        "outputId": "a7d2086d-9f3c-49a5-a1e5-2a063f3705ff"
      },
      "execution_count": 70,
      "outputs": [
        {
          "output_type": "stream",
          "name": "stdout",
          "text": [
            "[[ 0  3  4  0 -5 -5 -4  2  1  4 -3 -1  0 -3 -1 -3 -1  2  2  4 -4  2 -5  1\n",
            "   4  4  2  1  4 -4 -5 -4  3]\n",
            " [ 3 -2  4  3  2 -2  1  0 -4  4 -2 -1  3 -4 -1 -5 -2  4 -3 -5 -1  4 -3  2\n",
            "   2  4  3  1  4 -2  2  2 -1]\n",
            " [ 0  4 -2  1  3 -5 -3  2  2  4  2 -2 -5  3  2  2 -4 -4 -2 -5  3  1 -1  0\n",
            "   1 -3  0  2  3 -1 -1  2  2]]\n"
          ]
        }
      ]
    },
    {
      "cell_type": "code",
      "source": [
        "#pre activation \n",
        "preactivation2 = np.add(inputBYweight2, bias2)\n",
        "print(preactivation2)"
      ],
      "metadata": {
        "colab": {
          "base_uri": "https://localhost:8080/"
        },
        "id": "RKL_rBFjDiyv",
        "outputId": "ca30f866-05e3-40e1-fb87-ddb9a8b7f8d4"
      },
      "execution_count": 71,
      "outputs": [
        {
          "output_type": "stream",
          "name": "stdout",
          "text": [
            "[[ 0.84910096  4.45097673  7.55299857  0.1683923  -7.54380836 -5.68445056\n",
            "  -2.09761614  5.93541595 -0.66571775  1.09435759 -1.95037015 -0.123128\n",
            "  -0.33773138 -0.57337004 -0.44691063 -4.02387207 -1.20079963  3.14761069\n",
            "   1.6107411   4.04287336 -5.20919307  2.72304894 -4.8482692   4.3974926\n",
            "   7.86516014  3.81498534  3.99710257  3.14673251  7.00307784 -3.95047669\n",
            "  -6.40935259 -3.08208721  2.15304513]\n",
            " [ 4.64239104 -1.66793694  7.20778991  0.83611524  1.40680762 -2.98913715\n",
            "   2.94135069  1.52554426 -5.45790474  0.85692327 -0.02387558 -2.09597747\n",
            "   2.71889564 -2.26070559  0.45153428 -5.42025495 -2.5418444   4.40452171\n",
            "  -4.51713186 -4.68515665 -2.15983229  4.72387719 -2.62574997  5.50728383\n",
            "   6.48061482  2.53189986  4.74302755  1.20897229  6.08918323 -2.27478483\n",
            "   1.63794075  2.28799123 -2.50922514]\n",
            " [ 0.80436409  5.3805403   1.60054489  1.08703482  0.49439611 -5.58408981\n",
            "  -1.02781176  5.94904305  0.22416739  1.01772038  3.19400874 -1.16682025\n",
            "  -5.38014508  5.47552833  2.69966821  0.998344   -4.19585979 -2.82724124\n",
            "  -2.47744077 -5.01310558  1.77472732  1.70501581 -0.82655995  3.51750988\n",
            "   5.01830008 -3.22778125  2.1172998   4.14222307  6.12341412 -0.95031669\n",
            "  -2.40440222  2.95330632  1.12374143]]\n"
          ]
        }
      ]
    },
    {
      "cell_type": "code",
      "source": [
        "# For the second sets of neurons of the deep layer we will use a ReLu function for activation\n",
        "def ReLu(x):\n",
        "  return max(0,x)\n",
        "\n",
        "# using pandas and apply lambda, then returning the data frame back to a numpy array\n",
        "postactivation2 = np.array(pd.DataFrame(preactivation2).applymap(lambda x: ReLu(x)))\n",
        "postactivation2"
      ],
      "metadata": {
        "colab": {
          "base_uri": "https://localhost:8080/"
        },
        "id": "U47_Y1giDi2X",
        "outputId": "87f3924d-b4b1-45cb-c430-4e4f8cdaeb79"
      },
      "execution_count": 72,
      "outputs": [
        {
          "output_type": "execute_result",
          "data": {
            "text/plain": [
              "array([[0.84910096, 4.45097673, 7.55299857, 0.1683923 , 0.        ,\n",
              "        0.        , 0.        , 5.93541595, 0.        , 1.09435759,\n",
              "        0.        , 0.        , 0.        , 0.        , 0.        ,\n",
              "        0.        , 0.        , 3.14761069, 1.6107411 , 4.04287336,\n",
              "        0.        , 2.72304894, 0.        , 4.3974926 , 7.86516014,\n",
              "        3.81498534, 3.99710257, 3.14673251, 7.00307784, 0.        ,\n",
              "        0.        , 0.        , 2.15304513],\n",
              "       [4.64239104, 0.        , 7.20778991, 0.83611524, 1.40680762,\n",
              "        0.        , 2.94135069, 1.52554426, 0.        , 0.85692327,\n",
              "        0.        , 0.        , 2.71889564, 0.        , 0.45153428,\n",
              "        0.        , 0.        , 4.40452171, 0.        , 0.        ,\n",
              "        0.        , 4.72387719, 0.        , 5.50728383, 6.48061482,\n",
              "        2.53189986, 4.74302755, 1.20897229, 6.08918323, 0.        ,\n",
              "        1.63794075, 2.28799123, 0.        ],\n",
              "       [0.80436409, 5.3805403 , 1.60054489, 1.08703482, 0.49439611,\n",
              "        0.        , 0.        , 5.94904305, 0.22416739, 1.01772038,\n",
              "        3.19400874, 0.        , 0.        , 5.47552833, 2.69966821,\n",
              "        0.998344  , 0.        , 0.        , 0.        , 0.        ,\n",
              "        1.77472732, 1.70501581, 0.        , 3.51750988, 5.01830008,\n",
              "        0.        , 2.1172998 , 4.14222307, 6.12341412, 0.        ,\n",
              "        0.        , 2.95330632, 1.12374143]])"
            ]
          },
          "metadata": {},
          "execution_count": 72
        }
      ]
    },
    {
      "cell_type": "code",
      "source": [
        "#Or the same ReLu function can be applied using a one line numpy code too\n",
        "postactivation2 =np.maximum(0, preactivation2)\n",
        "print(postactivation2)\n",
        "print(f\"\\n At the output of the second sets of neurons of the deep layer we have a {postactivation2.shape} matrix.\")"
      ],
      "metadata": {
        "colab": {
          "base_uri": "https://localhost:8080/"
        },
        "id": "QM8bTpqKtfR9",
        "outputId": "2e278702-238b-43f9-b0cc-b95ad6fd374b"
      },
      "execution_count": 73,
      "outputs": [
        {
          "output_type": "stream",
          "name": "stdout",
          "text": [
            "[[0.84910096 4.45097673 7.55299857 0.1683923  0.         0.\n",
            "  0.         5.93541595 0.         1.09435759 0.         0.\n",
            "  0.         0.         0.         0.         0.         3.14761069\n",
            "  1.6107411  4.04287336 0.         2.72304894 0.         4.3974926\n",
            "  7.86516014 3.81498534 3.99710257 3.14673251 7.00307784 0.\n",
            "  0.         0.         2.15304513]\n",
            " [4.64239104 0.         7.20778991 0.83611524 1.40680762 0.\n",
            "  2.94135069 1.52554426 0.         0.85692327 0.         0.\n",
            "  2.71889564 0.         0.45153428 0.         0.         4.40452171\n",
            "  0.         0.         0.         4.72387719 0.         5.50728383\n",
            "  6.48061482 2.53189986 4.74302755 1.20897229 6.08918323 0.\n",
            "  1.63794075 2.28799123 0.        ]\n",
            " [0.80436409 5.3805403  1.60054489 1.08703482 0.49439611 0.\n",
            "  0.         5.94904305 0.22416739 1.01772038 3.19400874 0.\n",
            "  0.         5.47552833 2.69966821 0.998344   0.         0.\n",
            "  0.         0.         1.77472732 1.70501581 0.         3.51750988\n",
            "  5.01830008 0.         2.1172998  4.14222307 6.12341412 0.\n",
            "  0.         2.95330632 1.12374143]]\n",
            "\n",
            " At the output of the second sets of neurons of the deep layer we have a (3, 33) matrix.\n"
          ]
        }
      ]
    },
    {
      "cell_type": "markdown",
      "source": [
        "---\n",
        "#### **The Third Neuron sets of the Deep Layer**"
      ],
      "metadata": {
        "id": "AAvXaPdd8ph5"
      }
    },
    {
      "cell_type": "code",
      "source": [
        "#The third sets of neurons of the deep layer is 21, hence we need 33x21 sets of weights\n",
        "np.random.seed(1)\n",
        "weights3 = np.random.randn(33, 21)\n",
        "inputBYweight3 = np.dot(postactivation2, weights3) # the input in this case is postactivation2, which is 3x33\n",
        "print(inputBYweight3)"
      ],
      "metadata": {
        "colab": {
          "base_uri": "https://localhost:8080/"
        },
        "id": "XjQ9oVbTtfN3",
        "outputId": "4ddf21e4-8dd3-4e6c-a332-4b7187909867"
      },
      "execution_count": 74,
      "outputs": [
        {
          "output_type": "stream",
          "name": "stdout",
          "text": [
            "[[  9.65145599   7.94248274   5.10728363  -1.53264199   6.39290893\n",
            "   31.95248638  31.0166038    0.95876436  19.49883145  -6.14903326\n",
            "  -12.57330506   4.04717516 -21.39005729  14.69721029 -12.63844812\n",
            "  -11.48090915  -3.48023319   1.38327213  -3.79097631  44.57247557\n",
            "  -21.75928771]\n",
            " [ -4.74780808  16.14264673   2.79700133 -11.05146606  25.85336367\n",
            "   17.92351264  26.43746559   0.15962003  20.19806203 -10.71463663\n",
            "   -5.66768308  -5.89853898 -29.50577205  20.0251934  -10.07174736\n",
            "   -2.68195466   9.67766109 -11.64054959  -3.79086602  42.59277253\n",
            "   -8.30682275]\n",
            " [ 16.19150393  -5.45235303   9.03058581  -7.64387712  -2.12400786\n",
            "   30.47399739  37.88033217  -1.71037722   9.98650258  -6.13439905\n",
            "    4.8860517    5.78051499 -17.57091622   5.33099276 -15.14309012\n",
            "  -12.04650379   9.22591893   1.1859063    1.80604282  26.43480521\n",
            "   -4.45520874]]\n"
          ]
        }
      ]
    },
    {
      "cell_type": "code",
      "source": [
        "# For each 21 neurons of the third sets of neurons of the deep layer we need 21 bias values of 3 batches to be added element wise, hence 3x21\n",
        "np.random.seed(1)\n",
        "bias3 = np.random.randint(-5,5, (3,21))\n",
        "print(bias3)"
      ],
      "metadata": {
        "colab": {
          "base_uri": "https://localhost:8080/"
        },
        "id": "g1wZx4XFte9f",
        "outputId": "40eaebe3-83d9-464c-b3a7-a733dc9816fb"
      },
      "execution_count": 75,
      "outputs": [
        {
          "output_type": "stream",
          "name": "stdout",
          "text": [
            "[[ 0  3  4  0 -5 -5 -4  2  1  4 -3 -1  0 -3 -1 -3 -1  2  2  4 -4]\n",
            " [ 2 -5  1  4  4  2  1  4 -4 -5 -4  3  3 -2  4  3  2 -2  1  0 -4]\n",
            " [ 4 -2 -1  3 -4 -1 -5 -2  4 -3 -5 -1  4 -3  2  2  4  3  1  4 -2]]\n"
          ]
        }
      ]
    },
    {
      "cell_type": "code",
      "source": [
        "#pre activation \n",
        "preactivation3 = np.add(inputBYweight3, bias3)\n",
        "print(preactivation3)"
      ],
      "metadata": {
        "colab": {
          "base_uri": "https://localhost:8080/"
        },
        "id": "rEY36VY_teCQ",
        "outputId": "dffbea95-6d8c-4ae4-a8ef-9ea614de20fd"
      },
      "execution_count": 76,
      "outputs": [
        {
          "output_type": "stream",
          "name": "stdout",
          "text": [
            "[[  9.65145599  10.94248274   9.10728363  -1.53264199   1.39290893\n",
            "   26.95248638  27.0166038    2.95876436  20.49883145  -2.14903326\n",
            "  -15.57330506   3.04717516 -21.39005729  11.69721029 -13.63844812\n",
            "  -14.48090915  -4.48023319   3.38327213  -1.79097631  48.57247557\n",
            "  -25.75928771]\n",
            " [ -2.74780808  11.14264673   3.79700133  -7.05146606  29.85336367\n",
            "   19.92351264  27.43746559   4.15962003  16.19806203 -15.71463663\n",
            "   -9.66768308  -2.89853898 -26.50577205  18.0251934   -6.07174736\n",
            "    0.31804534  11.67766109 -13.64054959  -2.79086602  42.59277253\n",
            "  -12.30682275]\n",
            " [ 20.19150393  -7.45235303   8.03058581  -4.64387712  -6.12400786\n",
            "   29.47399739  32.88033217  -3.71037722  13.98650258  -9.13439905\n",
            "   -0.1139483    4.78051499 -13.57091622   2.33099276 -13.14309012\n",
            "  -10.04650379  13.22591893   4.1859063    2.80604282  30.43480521\n",
            "   -6.45520874]]\n"
          ]
        }
      ]
    },
    {
      "cell_type": "code",
      "source": [
        "# For the third sets of neurons of the deep layer we will use a TanH function for activation\n",
        "postactivation3 = np.tanh(preactivation3)\n",
        "print(postactivation3)\n",
        "print(f\"\\n At the output of the third sets of neurons of the deep layer we have a {postactivation3.shape} matrix.\")"
      ],
      "metadata": {
        "colab": {
          "base_uri": "https://localhost:8080/"
        },
        "id": "CbQiC72CDi_n",
        "outputId": "2343f943-72ee-44ce-9a8f-342b3e7ac3c5"
      },
      "execution_count": 77,
      "outputs": [
        {
          "output_type": "stream",
          "name": "stdout",
          "text": [
            "[[ 0.99999999  1.          0.99999998 -0.91087562  0.88380924  1.\n",
            "   1.          0.99463076  1.         -0.97317504 -1.          0.995499\n",
            "  -1.          1.         -1.         -1.         -0.99974326  0.99769931\n",
            "  -0.94586351  1.         -1.        ]\n",
            " [-0.99182411  1.          0.99899358 -0.9999985   1.          1.\n",
            "   1.          0.99951256  1.         -1.         -0.99999999 -0.99394556\n",
            "  -1.          1.         -0.99998935  0.30773844  1.         -1.\n",
            "  -0.99249619  1.         -1.        ]\n",
            " [ 1.         -0.99999933  0.99999979 -0.99981492 -0.99999041  1.\n",
            "   1.         -0.99880332  1.         -0.99999998 -0.11345767  0.99985917\n",
            "  -1.          0.98128148 -1.         -1.          1.          0.99953752\n",
            "   0.99271971  1.         -0.99999506]]\n",
            "\n",
            " At the output of the third sets of neurons of the deep layer we have a (3, 21) matrix.\n"
          ]
        }
      ]
    },
    {
      "cell_type": "markdown",
      "source": [
        "---\n",
        "#### **The Output Layer**"
      ],
      "metadata": {
        "id": "Ljs-Ts-l8yT3"
      }
    },
    {
      "cell_type": "code",
      "source": [
        "#the ouput has 9 sets of output values, hence we need 21x9 sets of weights\n",
        "np.random.seed(1)\n",
        "weights4 = np.random.randn(21, 9)\n",
        "inputBYweight4 = np.dot(postactivation3, weights4) # the input in this case is postactivation3, which is 3x21\n",
        "print(inputBYweight4)"
      ],
      "metadata": {
        "colab": {
          "base_uri": "https://localhost:8080/"
        },
        "id": "kqpTOQNmDjCe",
        "outputId": "b4f08dc6-5e80-40db-e9fb-812f87e58721"
      },
      "execution_count": 78,
      "outputs": [
        {
          "output_type": "stream",
          "name": "stdout",
          "text": [
            "[[ 1.22872945  6.24038994  4.39754511 -1.80642748  0.84764017  6.85423473\n",
            "  -1.24841725  2.68715695 -4.90458196]\n",
            " [-7.57504485  8.48461237  1.98490341  2.24088534 -1.32293682 14.67922447\n",
            "  -3.70401638  0.36555547  1.41233782]\n",
            " [ 7.15640557  1.76189982  6.26399683 -4.42544893  1.74891468  3.79997641\n",
            "   8.49144473 -5.69064914 -2.02363496]]\n"
          ]
        }
      ]
    },
    {
      "cell_type": "code",
      "source": [
        "# For each 9 neurons of the output layer we need 9 bias values of 3 batches to be added element wise, hence 3x9\n",
        "np.random.seed(1)\n",
        "bias4 = np.random.randint(-2,2, (3,9))\n",
        "print(bias4)"
      ],
      "metadata": {
        "colab": {
          "base_uri": "https://localhost:8080/"
        },
        "id": "21PsIQ1cDjFd",
        "outputId": "c35c43c8-0c86-4c8b-f9e1-bd9dd345382e"
      },
      "execution_count": 79,
      "outputs": [
        {
          "output_type": "stream",
          "name": "stdout",
          "text": [
            "[[-1  1 -2 -2  1 -1  1 -1  1]\n",
            " [-2 -2 -1 -2  1 -1 -2  0 -1]\n",
            " [ 0 -2  0 -1  0 -2  1 -2  0]]\n"
          ]
        }
      ]
    },
    {
      "cell_type": "code",
      "source": [
        "#pre activation \n",
        "preactivation4 = np.add(inputBYweight4, bias4)\n",
        "print(preactivation4)"
      ],
      "metadata": {
        "colab": {
          "base_uri": "https://localhost:8080/"
        },
        "id": "v9cWQ6wA4BoK",
        "outputId": "3e9e5dab-416a-4293-a695-397a58517a5a"
      },
      "execution_count": 80,
      "outputs": [
        {
          "output_type": "stream",
          "name": "stdout",
          "text": [
            "[[ 0.22872945  7.24038994  2.39754511 -3.80642748  1.84764017  5.85423473\n",
            "  -0.24841725  1.68715695 -3.90458196]\n",
            " [-9.57504485  6.48461237  0.98490341  0.24088534 -0.32293682 13.67922447\n",
            "  -5.70401638  0.36555547  0.41233782]\n",
            " [ 7.15640557 -0.23810018  6.26399683 -5.42544893  1.74891468  1.79997641\n",
            "   9.49144473 -7.69064914 -2.02363496]]\n"
          ]
        }
      ]
    },
    {
      "cell_type": "code",
      "source": [
        "# For the ouput layer we will use a softmax function for activation\n",
        "def softmax(x):\n",
        "  return np.exp(x)/np.sum(np.exp(x))\n",
        "\n",
        "postactivation4 = softmax(preactivation4)\n",
        "print(postactivation4)\n",
        "print(f\"\\n The output layer has a {postactivation4.shape} matrix.\")"
      ],
      "metadata": {
        "colab": {
          "base_uri": "https://localhost:8080/"
        },
        "id": "frgjpKDK4ByZ",
        "outputId": "63870615-c456-4396-8531-2353ba8c4001"
      },
      "execution_count": 81,
      "outputs": [
        {
          "output_type": "stream",
          "name": "stdout",
          "text": [
            "[[1.41221890e-06 1.56685020e-03 1.23539743e-05 2.49721325e-08\n",
            "  7.12830074e-06 3.91767062e-04 8.76354537e-07 6.07140265e-06\n",
            "  2.26374594e-08]\n",
            " [7.80147895e-11 7.35863822e-04 3.00818264e-06 1.42949045e-06\n",
            "  8.13422916e-07 9.80342400e-01 3.74406381e-09 1.61929065e-06\n",
            "  1.69684481e-06]\n",
            " [1.44063357e-03 8.85442749e-07 5.90181156e-04 4.94679086e-09\n",
            "  6.45817898e-06 6.79650915e-06 1.48815496e-02 5.13522643e-10\n",
            "  1.48495258e-07]]\n",
            "\n",
            " The output layer has a (3, 9) matrix.\n"
          ]
        }
      ]
    }
  ]
}