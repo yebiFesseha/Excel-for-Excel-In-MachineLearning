{
  "nbformat": 4,
  "nbformat_minor": 0,
  "metadata": {
    "colab": {
      "name": "Gradient Descent from Scratch.ipynb",
      "provenance": [],
      "collapsed_sections": [],
      "authorship_tag": "ABX9TyPswoRHV9+4CSGG58LomTLc",
      "include_colab_link": true
    },
    "kernelspec": {
      "name": "python3",
      "display_name": "Python 3"
    }
  },
  "cells": [
    {
      "cell_type": "markdown",
      "metadata": {
        "id": "view-in-github",
        "colab_type": "text"
      },
      "source": [
        "<a href=\"https://colab.research.google.com/github/yebiFesseha/Excel-for-Excel-In-MachineLearning/blob/main/Gradient_Descent_from_Scratch.ipynb\" target=\"_parent\"><img src=\"https://colab.research.google.com/assets/colab-badge.svg\" alt=\"Open In Colab\"/></a>"
      ]
    },
    {
      "cell_type": "code",
      "metadata": {
        "id": "TBWwZywPp01F"
      },
      "source": [
        "import pandas as pd\r\n",
        "import numpy as np\r\n",
        "import math\r\n",
        "import os\r\n",
        "import matplotlib.pyplot as plt\r\n",
        "import bokeh as bk\r\n",
        "import seaborn as sns\r\n",
        "from matplotlib import style\r\n",
        "style.use('fivethirtyeight')"
      ],
      "execution_count": null,
      "outputs": []
    },
    {
      "cell_type": "code",
      "metadata": {
        "colab": {
          "base_uri": "https://localhost:8080/"
        },
        "id": "UjOwRpZ2p4oe",
        "outputId": "c8de4b44-592e-41e5-8b25-733e0b66a95b"
      },
      "source": [
        "print (pd.Series(4, index=[0, 1, 2]))  "
      ],
      "execution_count": null,
      "outputs": [
        {
          "output_type": "stream",
          "text": [
            "0    4\n",
            "1    4\n",
            "2    4\n",
            "dtype: int64\n"
          ],
          "name": "stdout"
        }
      ]
    },
    {
      "cell_type": "code",
      "metadata": {
        "colab": {
          "base_uri": "https://localhost:8080/"
        },
        "id": "2a2foboRp5AG",
        "outputId": "f12a4bc9-7207-4df9-b22b-d20fe4508099"
      },
      "source": [
        "x = np.arange(11)\r\n",
        "y = 0.9*np.random.randint(1,10, size=11)\r\n",
        "z = np.sin(x)\r\n",
        "print(x)\r\n",
        "print(y)"
      ],
      "execution_count": null,
      "outputs": [
        {
          "output_type": "stream",
          "text": [
            "[ 0  1  2  3  4  5  6  7  8  9 10]\n",
            "[6.3 5.4 7.2 0.9 3.6 4.5 5.4 4.5 0.9 6.3 8.1]\n"
          ],
          "name": "stdout"
        }
      ]
    },
    {
      "cell_type": "code",
      "metadata": {
        "colab": {
          "base_uri": "https://localhost:8080/",
          "height": 358
        },
        "id": "z0sNhNHrp5JW",
        "outputId": "1d0b3ac2-5531-461a-fd6b-8e46cb672ce4"
      },
      "source": [
        "sns.regplot(x,y, color='green', scatter_kws={'s':100})\r\n",
        "plt.ylabel(\"speed\")\r\n",
        "plt.xlabel(\"distance\")\r\n",
        "plt.show()"
      ],
      "execution_count": null,
      "outputs": [
        {
          "output_type": "stream",
          "text": [
            "/usr/local/lib/python3.6/dist-packages/seaborn/_decorators.py:43: FutureWarning: Pass the following variables as keyword args: x, y. From version 0.12, the only valid positional argument will be `data`, and passing other arguments without an explicit keyword will result in an error or misinterpretation.\n",
            "  FutureWarning\n"
          ],
          "name": "stderr"
        },
        {
          "output_type": "display_data",
          "data": {
            "image/png": "[encoded data removed]",
            "text/plain": [
              "<Figure size 432x288 with 1 Axes>"
            ]
          },
          "metadata": {
            "tags": []
          }
        }
      ]
    },
    {
      "cell_type": "markdown",
      "metadata": {
        "id": "WknVbPzBu9WB"
      },
      "source": [
        "### Getting Sum Squared Error or Cost Function"
      ]
    },
    {
      "cell_type": "code",
      "metadata": {
        "id": "7kHxsjOup5Uu"
      },
      "source": [
        "# Getting slope and intercept(bias) in y = mx + b\r\n",
        "from sklearn.linear_model import LinearRegression"
      ],
      "execution_count": null,
      "outputs": []
    },
    {
      "cell_type": "code",
      "metadata": {
        "id": "_uiD3z3Vp5ZX"
      },
      "source": [
        "lr = LinearRegression()"
      ],
      "execution_count": null,
      "outputs": []
    },
    {
      "cell_type": "code",
      "metadata": {
        "colab": {
          "base_uri": "https://localhost:8080/"
        },
        "id": "M_BUE28Xp5de",
        "outputId": "ef1f263e-1cea-45de-f079-497e3f29b558"
      },
      "source": [
        "lr.fit(x.reshape(-1,1),y.reshape(-1,1))"
      ],
      "execution_count": null,
      "outputs": [
        {
          "output_type": "execute_result",
          "data": {
            "text/plain": [
              "LinearRegression(copy_X=True, fit_intercept=True, n_jobs=None, normalize=False)"
            ]
          },
          "metadata": {
            "tags": []
          },
          "execution_count": 12
        }
      ]
    },
    {
      "cell_type": "code",
      "metadata": {
        "colab": {
          "base_uri": "https://localhost:8080/"
        },
        "id": "GTep_vg6p5g-",
        "outputId": "0c7fa4de-3b08-4307-a019-c72955494149"
      },
      "source": [
        "# run a prediction as an example\r\n",
        "lr.predict(np.array(8).reshape(-1,1))"
      ],
      "execution_count": null,
      "outputs": [
        {
          "output_type": "execute_result",
          "data": {
            "text/plain": [
              "array([[4.90090909]])"
            ]
          },
          "metadata": {
            "tags": []
          },
          "execution_count": 13
        }
      ]
    },
    {
      "cell_type": "code",
      "metadata": {
        "colab": {
          "base_uri": "https://localhost:8080/"
        },
        "id": "LqlIjEG2p5ke",
        "outputId": "192d775e-8cb2-473e-974e-3ff4b43db0e3"
      },
      "source": [
        "m = lr.coef_\r\n",
        "b = lr.intercept_\r\n",
        "print(f\"m={m}, and the intercept or the bias in NNML is b={b}\")"
      ],
      "execution_count": null,
      "outputs": [
        {
          "output_type": "stream",
          "text": [
            "m=[[0.02454545]], and the intercept or the bias in NNML is b=[4.70454545]\n"
          ],
          "name": "stdout"
        }
      ]
    },
    {
      "cell_type": "code",
      "metadata": {
        "colab": {
          "base_uri": "https://localhost:8080/"
        },
        "id": "UoNDEVufp5ny",
        "outputId": "4ac99af2-e53a-4982-e7ee-34ab51ab4cb5"
      },
      "source": [
        "# get predicted values from X\r\n",
        "y_pred = lr.predict(x.reshape(-1,1))\r\n",
        "print(y_pred)"
      ],
      "execution_count": null,
      "outputs": [
        {
          "output_type": "stream",
          "text": [
            "[[4.70454545]\n",
            " [4.72909091]\n",
            " [4.75363636]\n",
            " [4.77818182]\n",
            " [4.80272727]\n",
            " [4.82727273]\n",
            " [4.85181818]\n",
            " [4.87636364]\n",
            " [4.90090909]\n",
            " [4.92545455]\n",
            " [4.95      ]]\n"
          ],
          "name": "stdout"
        }
      ]
    },
    {
      "cell_type": "code",
      "metadata": {
        "colab": {
          "base_uri": "https://localhost:8080/"
        },
        "id": "iXFQBVmtp5q2",
        "outputId": "05d5cd91-838e-4eff-c9d0-313b70ea8d24"
      },
      "source": [
        "sse = 0 # sum sqaured error for this particular line is the following\r\n",
        "for i in range(len(y_pred)):\r\n",
        "    sse = (y[i]-y_pred[i])**2 + sse\r\n",
        "print(sse)"
      ],
      "execution_count": null,
      "outputs": [
        {
          "output_type": "stream",
          "text": [
            "[53.83554545]\n"
          ],
          "name": "stdout"
        }
      ]
    },
    {
      "cell_type": "code",
      "metadata": {
        "colab": {
          "base_uri": "https://localhost:8080/"
        },
        "id": "JoGp67_pp5uW",
        "outputId": "e5e17a40-2f1a-4829-e88a-dc3825afb60e"
      },
      "source": [
        "#generate intercept between 3 and 5 to plot the graph sse per intercept, dont forget the slope\r\n",
        "#is the same they are parallel lines, so change intercept to find the best fit line\r\n",
        "intercepts = np.random.uniform(5,7, size=10)\r\n",
        "intercepts"
      ],
      "execution_count": null,
      "outputs": [
        {
          "output_type": "execute_result",
          "data": {
            "text/plain": [
              "array([6.98649496, 6.6483407 , 6.38460567, 6.99455471, 6.33507737,\n",
              "       5.25793914, 6.80309432, 5.22864422, 6.978071  , 6.56614664])"
            ]
          },
          "metadata": {
            "tags": []
          },
          "execution_count": 24
        }
      ]
    },
    {
      "cell_type": "code",
      "metadata": {
        "id": "9LV4krwHwgg3"
      },
      "source": [
        "m = -0.16363636 #the intercepts will change but the slope is the same \r\n",
        "def y_liner(b):\r\n",
        "    \"\"\"takes an intercept and generate a single line based on the slope and x values\"\"\"\r\n",
        "    y_lining=[]\r\n",
        "    for i in x:\r\n",
        "        y_lining.append(m*i+b)  \r\n",
        "    return y_lining \r\n",
        "\r\n",
        "y_lines = np.zeros((10), dtype=object) #initialise my 10 temp array values, then each value will be overwritten with the new  \r\n",
        "for i, j in enumerate(intercepts): # send the intercept one by one to y_liner above\r\n",
        "    y_lines[i] = y_liner(j) "
      ],
      "execution_count": null,
      "outputs": []
    },
    {
      "cell_type": "code",
      "metadata": {
        "colab": {
          "base_uri": "https://localhost:8080/"
        },
        "id": "nHKiykw5whT8",
        "outputId": "64b5d2f6-4b0a-4ae8-b81a-ecebdf1b0b0c"
      },
      "source": [
        "y_lines"
      ],
      "execution_count": null,
      "outputs": [
        {
          "output_type": "execute_result",
          "data": {
            "text/plain": [
              "array([list([6.986494958938886, 6.822858598938886, 6.659222238938886, 6.495585878938886, 6.331949518938886, 6.168313158938886, 6.0046767989388865, 5.841040438938886, 5.677404078938886, 5.513767718938886, 5.350131358938886]),\n",
              "       list([6.648340698624082, 6.484704338624082, 6.321067978624082, 6.1574316186240825, 5.993795258624083, 5.830158898624083, 5.666522538624083, 5.502886178624082, 5.339249818624082, 5.175613458624082, 5.011977098624082]),\n",
              "       list([6.3846056706539045, 6.220969310653905, 6.057332950653905, 5.893696590653905, 5.730060230653905, 5.566423870653905, 5.402787510653905, 5.239151150653904, 5.075514790653904, 4.911878430653904, 4.748242070653904]),\n",
              "       list([6.994554711618586, 6.830918351618586, 6.667281991618586, 6.503645631618586, 6.3400092716185865, 6.176372911618586, 6.012736551618586, 5.849100191618586, 5.685463831618586, 5.521827471618586, 5.358191111618586]),\n",
              "       list([6.335077372472057, 6.171441012472057, 6.007804652472057, 5.844168292472057, 5.680531932472057, 5.516895572472057, 5.353259212472057, 5.1896228524720565, 5.0259864924720565, 4.862350132472057, 4.698713772472057]),\n",
              "       list([5.257939144566836, 5.094302784566836, 4.930666424566836, 4.767030064566836, 4.6033937045668365, 4.439757344566836, 4.276120984566836, 4.112484624566836, 3.948848264566836, 3.785211904566836, 3.621575544566836]),\n",
              "       list([6.803094317454237, 6.639457957454237, 6.475821597454237, 6.312185237454237, 6.148548877454237, 5.984912517454237, 5.821276157454237, 5.6576397974542365, 5.494003437454237, 5.330367077454237, 5.166730717454237]),\n",
              "       list([5.228644223360119, 5.065007863360119, 4.901371503360119, 4.737735143360119, 4.574098783360119, 4.410462423360119, 4.246826063360119, 4.0831897033601185, 3.9195533433601186, 3.7559169833601187, 3.5922806233601188]),\n",
              "       list([6.978071001738069, 6.814434641738069, 6.650798281738069, 6.487161921738069, 6.3235255617380695, 6.1598892017380695, 5.99625284173807, 5.832616481738069, 5.668980121738069, 5.505343761738069, 5.341707401738069]),\n",
              "       list([6.566146644521023, 6.402510284521023, 6.238873924521023, 6.075237564521023, 5.911601204521023, 5.747964844521023, 5.5843284845210235, 5.420692124521023, 5.257055764521023, 5.093419404521023, 4.929783044521023])],\n",
              "      dtype=object)"
            ]
          },
          "metadata": {
            "tags": []
          },
          "execution_count": 26
        }
      ]
    },
    {
      "cell_type": "code",
      "metadata": {
        "colab": {
          "base_uri": "https://localhost:8080/",
          "height": 1000
        },
        "id": "IhJOfzoUwhcV",
        "outputId": "5acba32b-53af-42bb-cfe8-3868370b95f9"
      },
      "source": [
        "#plot all the parrallel lines with different intercepts\r\n",
        "plt.figure(figsize=(18,8))\r\n",
        "for i in range(len(y_lines)):\r\n",
        "    sns.scatterplot(x,y, color='black', s=200)\r\n",
        "    sns.regplot(x,y_lines[i], color='green', scatter_kws={'s':10})\r\n",
        "plt.ylabel(\"speed\")\r\n",
        "plt.xlabel(\"distance\")\r\n",
        "plt.title(\"speed per distance\")\r\n",
        "plt.show()"
      ],
      "execution_count": null,
      "outputs": [
        {
          "output_type": "stream",
          "text": [
            "/usr/local/lib/python3.6/dist-packages/seaborn/_decorators.py:43: FutureWarning: Pass the following variables as keyword args: x, y. From version 0.12, the only valid positional argument will be `data`, and passing other arguments without an explicit keyword will result in an error or misinterpretation.\n",
            "  FutureWarning\n",
            "/usr/local/lib/python3.6/dist-packages/seaborn/_decorators.py:43: FutureWarning: Pass the following variables as keyword args: x, y. From version 0.12, the only valid positional argument will be `data`, and passing other arguments without an explicit keyword will result in an error or misinterpretation.\n",
            "  FutureWarning\n",
            "/usr/local/lib/python3.6/dist-packages/seaborn/_decorators.py:43: FutureWarning: Pass the following variables as keyword args: x, y. From version 0.12, the only valid positional argument will be `data`, and passing other arguments without an explicit keyword will result in an error or misinterpretation.\n",
            "  FutureWarning\n",
            "/usr/local/lib/python3.6/dist-packages/seaborn/_decorators.py:43: FutureWarning: Pass the following variables as keyword args: x, y. From version 0.12, the only valid positional argument will be `data`, and passing other arguments without an explicit keyword will result in an error or misinterpretation.\n",
            "  FutureWarning\n",
            "/usr/local/lib/python3.6/dist-packages/seaborn/_decorators.py:43: FutureWarning: Pass the following variables as keyword args: x, y. From version 0.12, the only valid positional argument will be `data`, and passing other arguments without an explicit keyword will result in an error or misinterpretation.\n",
            "  FutureWarning\n",
            "/usr/local/lib/python3.6/dist-packages/seaborn/_decorators.py:43: FutureWarning: Pass the following variables as keyword args: x, y. From version 0.12, the only valid positional argument will be `data`, and passing other arguments without an explicit keyword will result in an error or misinterpretation.\n",
            "  FutureWarning\n",
            "/usr/local/lib/python3.6/dist-packages/seaborn/_decorators.py:43: FutureWarning: Pass the following variables as keyword args: x, y. From version 0.12, the only valid positional argument will be `data`, and passing other arguments without an explicit keyword will result in an error or misinterpretation.\n",
            "  FutureWarning\n",
            "/usr/local/lib/python3.6/dist-packages/seaborn/_decorators.py:43: FutureWarning: Pass the following variables as keyword args: x, y. From version 0.12, the only valid positional argument will be `data`, and passing other arguments without an explicit keyword will result in an error or misinterpretation.\n",
            "  FutureWarning\n",
            "/usr/local/lib/python3.6/dist-packages/seaborn/_decorators.py:43: FutureWarning: Pass the following variables as keyword args: x, y. From version 0.12, the only valid positional argument will be `data`, and passing other arguments without an explicit keyword will result in an error or misinterpretation.\n",
            "  FutureWarning\n",
            "/usr/local/lib/python3.6/dist-packages/seaborn/_decorators.py:43: FutureWarning: Pass the following variables as keyword args: x, y. From version 0.12, the only valid positional argument will be `data`, and passing other arguments without an explicit keyword will result in an error or misinterpretation.\n",
            "  FutureWarning\n",
            "/usr/local/lib/python3.6/dist-packages/seaborn/_decorators.py:43: FutureWarning: Pass the following variables as keyword args: x, y. From version 0.12, the only valid positional argument will be `data`, and passing other arguments without an explicit keyword will result in an error or misinterpretation.\n",
            "  FutureWarning\n",
            "/usr/local/lib/python3.6/dist-packages/seaborn/_decorators.py:43: FutureWarning: Pass the following variables as keyword args: x, y. From version 0.12, the only valid positional argument will be `data`, and passing other arguments without an explicit keyword will result in an error or misinterpretation.\n",
            "  FutureWarning\n",
            "/usr/local/lib/python3.6/dist-packages/seaborn/_decorators.py:43: FutureWarning: Pass the following variables as keyword args: x, y. From version 0.12, the only valid positional argument will be `data`, and passing other arguments without an explicit keyword will result in an error or misinterpretation.\n",
            "  FutureWarning\n",
            "/usr/local/lib/python3.6/dist-packages/seaborn/_decorators.py:43: FutureWarning: Pass the following variables as keyword args: x, y. From version 0.12, the only valid positional argument will be `data`, and passing other arguments without an explicit keyword will result in an error or misinterpretation.\n",
            "  FutureWarning\n",
            "/usr/local/lib/python3.6/dist-packages/seaborn/_decorators.py:43: FutureWarning: Pass the following variables as keyword args: x, y. From version 0.12, the only valid positional argument will be `data`, and passing other arguments without an explicit keyword will result in an error or misinterpretation.\n",
            "  FutureWarning\n",
            "/usr/local/lib/python3.6/dist-packages/seaborn/_decorators.py:43: FutureWarning: Pass the following variables as keyword args: x, y. From version 0.12, the only valid positional argument will be `data`, and passing other arguments without an explicit keyword will result in an error or misinterpretation.\n",
            "  FutureWarning\n",
            "/usr/local/lib/python3.6/dist-packages/seaborn/_decorators.py:43: FutureWarning: Pass the following variables as keyword args: x, y. From version 0.12, the only valid positional argument will be `data`, and passing other arguments without an explicit keyword will result in an error or misinterpretation.\n",
            "  FutureWarning\n",
            "/usr/local/lib/python3.6/dist-packages/seaborn/_decorators.py:43: FutureWarning: Pass the following variables as keyword args: x, y. From version 0.12, the only valid positional argument will be `data`, and passing other arguments without an explicit keyword will result in an error or misinterpretation.\n",
            "  FutureWarning\n",
            "/usr/local/lib/python3.6/dist-packages/seaborn/_decorators.py:43: FutureWarning: Pass the following variables as keyword args: x, y. From version 0.12, the only valid positional argument will be `data`, and passing other arguments without an explicit keyword will result in an error or misinterpretation.\n",
            "  FutureWarning\n",
            "/usr/local/lib/python3.6/dist-packages/seaborn/_decorators.py:43: FutureWarning: Pass the following variables as keyword args: x, y. From version 0.12, the only valid positional argument will be `data`, and passing other arguments without an explicit keyword will result in an error or misinterpretation.\n",
            "  FutureWarning\n"
          ],
          "name": "stderr"
        },
        {
          "output_type": "display_data",
          "data": {
            "image/png": "[encoded data removed]",
            "text/plain": [
              "<Figure size 1296x576 with 1 Axes>"
            ]
          },
          "metadata": {
            "tags": []
          }
        }
      ]
    },
    {
      "cell_type": "code",
      "metadata": {
        "colab": {
          "base_uri": "https://localhost:8080/"
        },
        "id": "re4KMwZ7whjS",
        "outputId": "b459d797-274f-42ac-e854-df0f4ee1ed87"
      },
      "source": [
        "#fitting with different lines starting with the first\r\n",
        "lr.fit(x.reshape(-1,1),y_lines[0]) "
      ],
      "execution_count": null,
      "outputs": [
        {
          "output_type": "execute_result",
          "data": {
            "text/plain": [
              "LinearRegression(copy_X=True, fit_intercept=True, n_jobs=None, normalize=False)"
            ]
          },
          "metadata": {
            "tags": []
          },
          "execution_count": 28
        }
      ]
    },
    {
      "cell_type": "code",
      "metadata": {
        "colab": {
          "base_uri": "https://localhost:8080/"
        },
        "id": "WUCq5v0xwhpV",
        "outputId": "62bffc98-c21c-4b49-e977-cfdcd37f22a2"
      },
      "source": [
        "#the slope is the same as above: m=[[-0.16363636]] and the intercept or the bias in NN ML b=[4.33636364]\r\n",
        "print(f\"m={lr.coef_}, and the intercept or the bias in NNML is b={lr.intercept_}\")"
      ],
      "execution_count": null,
      "outputs": [
        {
          "output_type": "stream",
          "text": [
            "m=[-0.16363636], and the intercept or the bias in NNML is b=6.986494958938886\n"
          ],
          "name": "stdout"
        }
      ]
    },
    {
      "cell_type": "code",
      "metadata": {
        "colab": {
          "base_uri": "https://localhost:8080/"
        },
        "id": "bVwrk8giwhwF",
        "outputId": "d082eb1e-4d34-456e-b6f5-adb4cc5735a2"
      },
      "source": [
        "y_pred = lr.predict(x.reshape(-1,1))\r\n",
        "print(y_pred)\r\n",
        "print(y)"
      ],
      "execution_count": null,
      "outputs": [
        {
          "output_type": "stream",
          "text": [
            "[6.98649496 6.8228586  6.65922224 6.49558588 6.33194952 6.16831316\n",
            " 6.0046768  5.84104044 5.67740408 5.51376772 5.35013136]\n",
            "[6.3 5.4 7.2 0.9 3.6 4.5 5.4 4.5 0.9 6.3 8.1]\n"
          ],
          "name": "stdout"
        }
      ]
    },
    {
      "cell_type": "code",
      "metadata": {
        "colab": {
          "base_uri": "https://localhost:8080/"
        },
        "id": "RYu7qVEnwh1O",
        "outputId": "5c04f063-e075-44ed-a77e-b4364e48e2c7"
      },
      "source": [
        "#the SSE for the first line\r\n",
        "sse = 0 # sum sqaured error for this particular line is the following\r\n",
        "for i in range(len(y_pred)):\r\n",
        "    sse = (y[i]-y_pred[i])**2 + sse\r\n",
        "print(sse)"
      ],
      "execution_count": null,
      "outputs": [
        {
          "output_type": "stream",
          "text": [
            "77.51319277336053\n"
          ],
          "name": "stdout"
        }
      ]
    },
    {
      "cell_type": "code",
      "metadata": {
        "colab": {
          "base_uri": "https://localhost:8080/"
        },
        "id": "w2YfsK-Awh49",
        "outputId": "555ede4f-c48c-415f-b1fe-bdf23876e389"
      },
      "source": [
        "sse = 0\r\n",
        "j=0\r\n",
        "for i in range(10):\r\n",
        "    lr.fit(x.reshape(-1,1), y_lines[j])\r\n",
        "    y_pred = lr.predict(x.reshape(-1,1))\r\n",
        "    sse = (y[i]-y_pred[i])**2 + sse\r\n",
        "    j+=1\r\n",
        "    print(sse)"
      ],
      "execution_count": null,
      "outputs": [
        {
          "output_type": "stream",
          "text": [
            "0.4712753286485031\n",
            "1.6478588308784121\n",
            "2.9535468165397245\n",
            "34.35439118129778\n",
            "38.68300430333369\n",
            "38.68663348086733\n",
            "38.864107081706734\n",
            "39.03783790509176\n",
            "61.7810093066246\n",
            "63.236846040011\n"
          ],
          "name": "stdout"
        }
      ]
    },
    {
      "cell_type": "code",
      "metadata": {
        "colab": {
          "base_uri": "https://localhost:8080/"
        },
        "id": "vI-NH-y6wh9l",
        "outputId": "e1973758-1828-48e9-8768-2002ba4ab944"
      },
      "source": [
        "print(intercepts)"
      ],
      "execution_count": null,
      "outputs": [
        {
          "output_type": "stream",
          "text": [
            "[6.98649496 6.6483407  6.38460567 6.99455471 6.33507737 5.25793914\n",
            " 6.80309432 5.22864422 6.978071   6.56614664]\n"
          ],
          "name": "stdout"
        }
      ]
    },
    {
      "cell_type": "code",
      "metadata": {
        "id": "UFmMzIIpwiBl"
      },
      "source": [
        "m = -0.16363636 #the intercepts will change but the slope is the same \r\n",
        "def y_liner(b):\r\n",
        "    \"\"\"takes an intercept and generate a single line based on the slope and x values\"\"\"\r\n",
        "    y_lining=[]\r\n",
        "    for i in x:\r\n",
        "        y_lining.append(m*i+b)  \r\n",
        "    return y_lining \r\n",
        "\r\n",
        "y_lines = np.zeros((10), dtype=object) #initialise my 10 temp array values, then each value will be overwritten with the new  \r\n",
        "for i, j in enumerate(intercepts): # send the intercept one by one to y_liner above\r\n",
        "    y_lines[i] = y_liner(j) "
      ],
      "execution_count": null,
      "outputs": []
    },
    {
      "cell_type": "code",
      "metadata": {
        "colab": {
          "base_uri": "https://localhost:8080/"
        },
        "id": "pV_M3kV-wiFN",
        "outputId": "f5663f4b-20bc-4980-c0f7-2feedbc438da"
      },
      "source": [
        "sse=[]\r\n",
        "for j in range(10):\r\n",
        "    lr.fit(x.reshape(-1,1), y_lines[j])\r\n",
        "    y_pred = lr.predict(x.reshape(-1,1))\r\n",
        "    sse_single = 0 #inital value for a single array SSE\r\n",
        "    for i in range(10):\r\n",
        "        sse_single+=(y[i]-y_pred[i])**2\r\n",
        "    sse.append(sse_single)\r\n",
        "print(sse)"
      ],
      "execution_count": null,
      "outputs": [
        {
          "output_type": "stream",
          "text": [
            "[69.95141523026923, 59.258610900507065, 52.506416263807914, 70.23417734137861, 51.39353729362134, 39.32647322751243, 63.86826897836346, 39.32241408575393, 69.65726423091783, 57.00504711795186]\n"
          ],
          "name": "stdout"
        }
      ]
    },
    {
      "cell_type": "code",
      "metadata": {
        "colab": {
          "base_uri": "https://localhost:8080/",
          "height": 495
        },
        "id": "6LqHVR_kyeru",
        "outputId": "dd72f545-4582-45c1-f80b-bf66a49304a0"
      },
      "source": [
        "plt.figure(figsize=(18,6))\r\n",
        "sns.lineplot(intercepts, sse, color='blue')\r\n",
        "plt.title(\"Sum Squared Error Versus intercepts\")\r\n",
        "plt.xlabel(\"intercepts\")\r\n",
        "plt.ylabel(\"SSE\")\r\n",
        "plt.show()"
      ],
      "execution_count": null,
      "outputs": [
        {
          "output_type": "stream",
          "text": [
            "/usr/local/lib/python3.6/dist-packages/seaborn/_decorators.py:43: FutureWarning: Pass the following variables as keyword args: x, y. From version 0.12, the only valid positional argument will be `data`, and passing other arguments without an explicit keyword will result in an error or misinterpretation.\n",
            "  FutureWarning\n"
          ],
          "name": "stderr"
        },
        {
          "output_type": "display_data",
          "data": {
            "image/png": "[encoded data removed]",
            "text/plain": [
              "<Figure size 1296x432 with 1 Axes>"
            ]
          },
          "metadata": {
            "tags": []
          }
        }
      ]
    }
  ]
}
