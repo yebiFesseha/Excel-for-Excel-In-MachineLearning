{
  "nbformat": 4,
  "nbformat_minor": 0,
  "metadata": {
    "colab": {
      "name": "GradientDescentFromScratch.ipynb",
      "provenance": [],
      "collapsed_sections": [],
      "authorship_tag": "ABX9TyO8a9kQZacqR+NxRWdh9q8m"
    },
    "kernelspec": {
      "name": "python3",
      "display_name": "Python 3"
    },
    "language_info": {
      "name": "python"
    }
  },
  "cells": [
    {
      "cell_type": "markdown",
      "source": [
        "* Before tackling Back propagation in Neural Network an understanding of Gradient Descent is crucial. Therefore, I will work out the best fit line using Gradient Descent, an iterative optimization algorithm, to get to a slope and intercept of a line with a goal of minimizing the cost function (error). \n",
        "* But before that I will calculate the parameters using linear algebra from scratch and the Sklearn library.\n"
      ],
      "metadata": {
        "id": "7l2-eiODr9ZJ"
      }
    },
    {
      "cell_type": "code",
      "source": [
        "import numpy as np\n",
        "import pandas as pd\n",
        "import math\n",
        "import seaborn as sns\n",
        "import matplotlib.pyplot as plt\n",
        "sns.set_theme(style='darkgrid')"
      ],
      "metadata": {
        "id": "kkoHqxvWsKbg"
      },
      "execution_count": 1,
      "outputs": []
    },
    {
      "cell_type": "code",
      "source": [
        "#First lets see the linear regression line using regplot from seaborn\n",
        "X = np.arange(10)\n",
        "y = [43.13, 40.98, 53.52, 67.88, 56.31, 67.5 , 77.25, 79.21, 74.97, 73.84]\n",
        "sns.regplot(x=X, y = y, color='g')\n",
        "plt.show()"
      ],
      "metadata": {
        "colab": {
          "base_uri": "https://localhost:8080/",
          "height": 268
        },
        "id": "x_vDQymWsKfe",
        "outputId": "373025f0-9ac8-414b-89da-657629088052"
      },
      "execution_count": 2,
      "outputs": [
        {
          "output_type": "display_data",
          "data": {
            "text/plain": [
              "<Figure size 432x288 with 1 Axes>"
            ],
            "image/png": "[encoded data removed]"
          },
          "metadata": {}
        }
      ]
    },
    {
      "cell_type": "markdown",
      "source": [
        "#### First Method: lets calculate the slope m and intercept b of the best Line Fit using Least Square Method as shown in Khan's Academy.\n",
        "* m = sum((xi - Avg(x))(yi - Avg(y))) / sum((xi - avg(xi))**2)\n",
        "* b = avg(yi) -  m*avg(xi)"
      ],
      "metadata": {
        "id": "dWVf4qL8m8nf"
      }
    },
    {
      "cell_type": "code",
      "source": [
        "avgX = np.average(X)\n",
        "avgy = np.average(y)\n",
        "\n",
        "m = np.sum(np.multiply(X -avgX, y - avgy)) / np.sum((X-avgX)**2)\n",
        "\n",
        "b = avgy - m * avgX\n",
        "\n",
        "print(f\"The rate of change and the Intercept using the Least sqaure method for\\n X = {X} \\nand\\n y= {y} are: \\n\\t m = {round(m,2)} and b = {np.round(b,2)} respectively\")\n"
      ],
      "metadata": {
        "colab": {
          "base_uri": "https://localhost:8080/"
        },
        "id": "5xaqeGvQm74Q",
        "outputId": "af1ccd6a-8b44-4437-d86a-6b262ac0162d"
      },
      "execution_count": 3,
      "outputs": [
        {
          "output_type": "stream",
          "name": "stdout",
          "text": [
            "The rate of change and the Intercept using the Least sqaure method for\n",
            " X = [0 1 2 3 4 5 6 7 8 9] \n",
            "and\n",
            " y= [43.13, 40.98, 53.52, 67.88, 56.31, 67.5, 77.25, 79.21, 74.97, 73.84] are: \n",
            "\t m = 4.13 and b = 44.86 respectively\n"
          ]
        }
      ]
    },
    {
      "cell_type": "code",
      "source": [],
      "metadata": {
        "id": "co5vRCrlDFk0"
      },
      "execution_count": null,
      "outputs": []
    },
    {
      "cell_type": "markdown",
      "source": [
        "### Second method: Using the sklearn library"
      ],
      "metadata": {
        "id": "-b7S5-M-J54U"
      }
    },
    {
      "cell_type": "code",
      "source": [
        "from sklearn.linear_model import LinearRegression\n",
        "\n",
        "# instantiate and fit the model\n",
        "lin = LinearRegression()\n",
        "lin.fit(X.reshape(-1,1), y) # the 1D array of the input value X has to be converted to a 2D array\n",
        "\n",
        "m = lin.coef_\n",
        "b = lin.intercept_\n",
        "\n",
        "print(f\"The slope and the Intercept using Linear Regression from the sklearn library for \\nX = {X} \\nand \\ny= {y} are: \\n\\t m = {round(m[0],2)} and b = {np.round(b,2)} respectively\")\n",
        "print(f\"\\nThe acuracy of the best fit line is: \\n\\t Score = {round(lin.score(X.reshape(-1,1), y)*100, 2)}% \")"
      ],
      "metadata": {
        "colab": {
          "base_uri": "https://localhost:8080/"
        },
        "id": "JXV9P5UHKJv6",
        "outputId": "89a1a257-8181-415f-9c00-c8d1151d5c15"
      },
      "execution_count": 6,
      "outputs": [
        {
          "output_type": "stream",
          "name": "stdout",
          "text": [
            "The slope and the Intercept using Linear Regression from the sklearn library for \n",
            "X = [0 1 2 3 4 5 6 7 8 9] \n",
            "and \n",
            "y= [43.13, 40.98, 53.52, 67.88, 56.31, 67.5, 77.25, 79.21, 74.97, 73.84] are: \n",
            "\t m = 4.13 and b = 44.86 respectively\n",
            "\n",
            "The acuracy of the best fit line is: \n",
            "\t Score = 79.07% \n"
          ]
        }
      ]
    },
    {
      "cell_type": "code",
      "source": [],
      "metadata": {
        "id": "Hf8zO2caDEUp"
      },
      "execution_count": null,
      "outputs": []
    },
    {
      "cell_type": "markdown",
      "source": [
        "### Third Method: Gradient Descent: an iterative optimization algorithm for miniizing the cost function, i.e. in this case the Mean Sqaure Error(MSE):\n",
        "\n",
        "* We use partial derivative to figure out which direction to descend to and find the minima,\n",
        " * Partial derivative of the MSE with respect to m is:\n",
        "> dmse/dm = sum ((yi) - (mxi + b))**2 / 2*n = 2(Sum((yi) - (mxi + b))*-xi)/2n = sum(-xi*((yi) - (mxi + b)))/n\n",
        " * Partial Derivative of the MSE with respect to b is:\n",
        "\n",
        " > dmse/db = sum ((yi) - (mxi + b))**2 / 2*n = 2(Sum((yi) - (mxi + b))*-1)/2n = sum(-((yi) - (mxi + b)))/n\n",
        " * Where: \n",
        "> MSE = sum ((yi) - (y_predi))***2 / 2 times the number of samples \n",
        " \n",
        "* To reach the minima we apply a learning rate and then calculate the difference between old and new values iteratively until we reach it,\n"
      ],
      "metadata": {
        "id": "257sU9BnX83w"
      }
    },
    {
      "cell_type": "code",
      "source": [
        "# First without a function\n",
        "m, b = 0, 0 # we assign a random initial values for m and b\n",
        "lr = 0.01 # best optimal learning rate of 0.01"
      ],
      "metadata": {
        "id": "h7MR2Fjvm7AY"
      },
      "execution_count": 7,
      "outputs": []
    },
    {
      "cell_type": "code",
      "source": [
        "mDerivative = np.sum(np.multiply( -X , \n",
        "                   np.subtract(\n",
        "                                y, \n",
        "                                (m * X + b)\n",
        "                               )\n",
        "                   )\n",
        "      )/ len(X)\n",
        "\n",
        "bDerivative = np.sum(-1 * np.subtract(\n",
        "                                      y, \n",
        "                                      (m * X + b)\n",
        "                                      )\n",
        "      )/len(X)\n",
        "\n",
        "#new m and b\n",
        "m = m - lr * mDerivative\n",
        "b = b - lr * bDerivative\n",
        "print(f\"Inital value of m is: {round(m,2)}, and be is: {round(b,2)}\")"
      ],
      "metadata": {
        "colab": {
          "base_uri": "https://localhost:8080/"
        },
        "id": "0wmR9scem7Ds",
        "outputId": "30c324bf-47e5-44ac-ee4d-f10fa3298287"
      },
      "execution_count": 8,
      "outputs": [
        {
          "output_type": "stream",
          "name": "stdout",
          "text": [
            "Inital value of m is: 3.2, and be is: 0.63\n"
          ]
        }
      ]
    },
    {
      "cell_type": "code",
      "source": [
        " #use a function and put everything above in the function\n",
        "def gradientDescent(x, y, m, b, lr):\n",
        "    \"\"\" \"\"\"\n",
        "    mDerivative = np.sum(np.multiply( -x , \n",
        "                   np.subtract(\n",
        "                                y, \n",
        "                                (m * x + b)\n",
        "                               )\n",
        "                   )\n",
        "      )/ len(x)\n",
        "\n",
        "    bDerivative = np.sum(-1 * np.subtract(\n",
        "                                      y, \n",
        "                                      (m * x + b)\n",
        "                                      )\n",
        "      )/len(x)\n",
        "\n",
        "    m -= lr * mDerivative\n",
        "    b -= lr * bDerivative\n",
        "    return m, b"
      ],
      "metadata": {
        "id": "5Ip65mvBm7G2"
      },
      "execution_count": 9,
      "outputs": []
    },
    {
      "cell_type": "code",
      "source": [
        "m, b = 0, 0\n",
        "lr = 0.01 # learning rate\n",
        "mlist = []\n",
        "blist = []\n",
        "mselist = []\n",
        "epochs = 5000\n",
        "n = len(X)\n",
        "for i in range(epochs):\n",
        "  m, b = gradientDescent(X, y, m, b, lr)\n",
        "  yhut = m*X + b\n",
        "  mse =  np.sum(np.subtract(y, yhut)**2)/len(X)\n",
        "  blist.append(b)\n",
        "  mlist.append(m)\n",
        "  mselist.append(mse)\n",
        "\n",
        "blist.sort()\n",
        "mlist.sort()\n",
        "print(f\"The slope and the Intercept where the MSE is at a minima using Grasdient Descent is: m = {round(m,2)}, b = {round(b,2)}\")"
      ],
      "metadata": {
        "colab": {
          "base_uri": "https://localhost:8080/"
        },
        "id": "XdQXob9Tm7KJ",
        "outputId": "fad3acdc-5b86-4024-d796-7d56c27c7490"
      },
      "execution_count": 11,
      "outputs": [
        {
          "output_type": "stream",
          "name": "stdout",
          "text": [
            "The slope and the Intercept where the MSE is at a minima using Grasdient Descent is: m = 4.13, b = 44.86\n"
          ]
        }
      ]
    },
    {
      "cell_type": "code",
      "source": [
        "fig, axes = plt.subplots(1, 3, sharex=True, figsize=(21,5))\n",
        "\n",
        "axes[0].set_title(f\"MSE minima with respect to Weight/Slope: {round(m,2)}\")\n",
        "axes[1].set_title(f\"MSE minima with respect to Bias/Intercept: {round(b,2)}\")\n",
        "axes[2].set_title(f\"Gradient Desent Best Line fit based on: m={round(m,2)}, b={round(b,2)}\")\n",
        "sns.lineplot(ax = axes[0], x = mlist, y = mselist, color='g')\n",
        "\n",
        "sns.lineplot(ax = axes[1], x = blist, y = mselist, color='r')\n",
        "sns.lineplot(ax = axes[2], x = X, y = X*m + b, color='b')\n",
        "sns.scatterplot(ax = axes[2], x = X, y = y, color='black')\n",
        "\n",
        "axes[0].set_xlabel(\"m\")\n",
        "axes[1].set_xlabel(\"b\")\n",
        "axes[2].set_xlabel(\"x\")\n",
        "plt.show()"
      ],
      "metadata": {
        "colab": {
          "base_uri": "https://localhost:8080/",
          "height": 355
        },
        "id": "GcuBFOGhtXeP",
        "outputId": "6d78a481-d23e-4f4d-f67e-8ef78904a943"
      },
      "execution_count": 12,
      "outputs": [
        {
          "output_type": "display_data",
          "data": {
            "text/plain": [
              "<Figure size 1512x360 with 3 Axes>"
            ],
            "image/png": "[encoded data removed]"
          },
          "metadata": {}
        }
      ]
    }
  ]
}