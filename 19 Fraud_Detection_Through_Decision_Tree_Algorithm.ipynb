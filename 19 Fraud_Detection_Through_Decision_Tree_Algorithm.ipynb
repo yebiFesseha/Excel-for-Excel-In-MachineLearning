{
  "nbformat": 4,
  "nbformat_minor": 0,
  "metadata": {
    "colab": {
      "provenance": [],
      "collapsed_sections": [],
      "authorship_tag": "ABX9TyOaarbIh6dbW0dGkOR+ztr7"
    },
    "kernelspec": {
      "name": "python3",
      "display_name": "Python 3"
    },
    "language_info": {
      "name": "python"
    }
  },
  "cells": [
    {
      "cell_type": "code",
      "execution_count": 1,
      "metadata": {
        "id": "afr7IHnHRxKB"
      },
      "outputs": [],
      "source": [
        "import numpy as np\n",
        "import pandas as pd\n",
        "import os\n",
        "import seaborn as sns\n",
        "import matplotlib.pyplot as plt\n",
        "import re\n",
        "%matplotlib inline\n",
        "plt.style.use('seaborn-notebook')"
      ]
    },
    {
      "cell_type": "code",
      "source": [
        "os.chdir('sample_data')\n",
        "df = pd.read_csv('fraudData.csv',index_col=None)\n",
        "print(df.shape)\n",
        "df.sample(3)"
      ],
      "metadata": {
        "colab": {
          "base_uri": "https://localhost:8080/",
          "height": 161
        },
        "id": "wdr70QQZS1Xb",
        "outputId": "efd94ac2-7dd9-4ad0-f218-77c71e7d43b7"
      },
      "execution_count": 4,
      "outputs": [
        {
          "output_type": "stream",
          "name": "stdout",
          "text": [
            "(7175, 12)\n"
          ]
        },
        {
          "output_type": "execute_result",
          "data": {
            "text/plain": [
              "      index  step     type     amount     nameOrig  oldbalanceOrg  \\\n",
              "4848   4848   262  PAYMENT    1427.50  C1728471215            0.0   \n",
              "554     554   187  PAYMENT     175.85   C918964890       115326.0   \n",
              "2136   2136   185  CASH_IN  160177.40   C649986360        18954.0   \n",
              "\n",
              "      newbalanceOrig    nameDest  oldbalanceDest  newbalanceDest  isFraud  \\\n",
              "4848            0.00  M186179212             0.0             0.0        0   \n",
              "554        115150.15  M889288232             0.0             0.0        0   \n",
              "2136       179131.40  C645140627             0.0             0.0        0   \n",
              "\n",
              "      isFlaggedFraud  \n",
              "4848               0  \n",
              "554                0  \n",
              "2136               0  "
            ],
            "text/html": [
              "\n",
              "  <div id=\"df-fcf49885-818c-4d75-9540-45c5256e0432\">\n",
              "    <div class=\"colab-df-container\">\n",
              "      <div>\n",
              "<style scoped>\n",
              "    .dataframe tbody tr th:only-of-type {\n",
              "        vertical-align: middle;\n",
              "    }\n",
              "\n",
              "    .dataframe tbody tr th {\n",
              "        vertical-align: top;\n",
              "    }\n",
              "\n",
              "    .dataframe thead th {\n",
              "        text-align: right;\n",
              "    }\n",
              "</style>\n",
              "<table border=\"1\" class=\"dataframe\">\n",
              "  <thead>\n",
              "    <tr style=\"text-align: right;\">\n",
              "      <th></th>\n",
              "      <th>index</th>\n",
              "      <th>step</th>\n",
              "      <th>type</th>\n",
              "      <th>amount</th>\n",
              "      <th>nameOrig</th>\n",
              "      <th>oldbalanceOrg</th>\n",
              "      <th>newbalanceOrig</th>\n",
              "      <th>nameDest</th>\n",
              "      <th>oldbalanceDest</th>\n",
              "      <th>newbalanceDest</th>\n",
              "      <th>isFraud</th>\n",
              "      <th>isFlaggedFraud</th>\n",
              "    </tr>\n",
              "  </thead>\n",
              "  <tbody>\n",
              "    <tr>\n",
              "      <th>4848</th>\n",
              "      <td>4848</td>\n",
              "      <td>262</td>\n",
              "      <td>PAYMENT</td>\n",
              "      <td>1427.50</td>\n",
              "      <td>C1728471215</td>\n",
              "      <td>0.0</td>\n",
              "      <td>0.00</td>\n",
              "      <td>M186179212</td>\n",
              "      <td>0.0</td>\n",
              "      <td>0.0</td>\n",
              "      <td>0</td>\n",
              "      <td>0</td>\n",
              "    </tr>\n",
              "    <tr>\n",
              "      <th>554</th>\n",
              "      <td>554</td>\n",
              "      <td>187</td>\n",
              "      <td>PAYMENT</td>\n",
              "      <td>175.85</td>\n",
              "      <td>C918964890</td>\n",
              "      <td>115326.0</td>\n",
              "      <td>115150.15</td>\n",
              "      <td>M889288232</td>\n",
              "      <td>0.0</td>\n",
              "      <td>0.0</td>\n",
              "      <td>0</td>\n",
              "      <td>0</td>\n",
              "    </tr>\n",
              "    <tr>\n",
              "      <th>2136</th>\n",
              "      <td>2136</td>\n",
              "      <td>185</td>\n",
              "      <td>CASH_IN</td>\n",
              "      <td>160177.40</td>\n",
              "      <td>C649986360</td>\n",
              "      <td>18954.0</td>\n",
              "      <td>179131.40</td>\n",
              "      <td>C645140627</td>\n",
              "      <td>0.0</td>\n",
              "      <td>0.0</td>\n",
              "      <td>0</td>\n",
              "      <td>0</td>\n",
              "    </tr>\n",
              "  </tbody>\n",
              "</table>\n",
              "</div>\n",
              "      <button class=\"colab-df-convert\" onclick=\"convertToInteractive('df-fcf49885-818c-4d75-9540-45c5256e0432')\"\n",
              "              title=\"Convert this dataframe to an interactive table.\"\n",
              "              style=\"display:none;\">\n",
              "        \n",
              "  <svg xmlns=\"http://www.w3.org/2000/svg\" height=\"24px\"viewBox=\"0 0 24 24\"\n",
              "       width=\"24px\">\n",
              "    <path d=\"M0 0h24v24H0V0z\" fill=\"none\"/>\n",
              "    <path d=\"M18.56 5.44l.94 2.06.94-2.06 2.06-.94-2.06-.94-.94-2.06-.94 2.06-2.06.94zm-11 1L8.5 8.5l.94-2.06 2.06-.94-2.06-.94L8.5 2.5l-.94 2.06-2.06.94zm10 10l.94 2.06.94-2.06 2.06-.94-2.06-.94-.94-2.06-.94 2.06-2.06.94z\"/><path d=\"M17.41 7.96l-1.37-1.37c-.4-.4-.92-.59-1.43-.59-.52 0-1.04.2-1.43.59L10.3 9.45l-7.72 7.72c-.78.78-.78 2.05 0 2.83L4 21.41c.39.39.9.59 1.41.59.51 0 1.02-.2 1.41-.59l7.78-7.78 2.81-2.81c.8-.78.8-2.07 0-2.86zM5.41 20L4 18.59l7.72-7.72 1.47 1.35L5.41 20z\"/>\n",
              "  </svg>\n",
              "      </button>\n",
              "      \n",
              "  <style>\n",
              "    .colab-df-container {\n",
              "      display:flex;\n",
              "      flex-wrap:wrap;\n",
              "      gap: 12px;\n",
              "    }\n",
              "\n",
              "    .colab-df-convert {\n",
              "      background-color: #E8F0FE;\n",
              "      border: none;\n",
              "      border-radius: 50%;\n",
              "      cursor: pointer;\n",
              "      display: none;\n",
              "      fill: #1967D2;\n",
              "      height: 32px;\n",
              "      padding: 0 0 0 0;\n",
              "      width: 32px;\n",
              "    }\n",
              "\n",
              "    .colab-df-convert:hover {\n",
              "      background-color: #E2EBFA;\n",
              "      box-shadow: 0px 1px 2px rgba(60, 64, 67, 0.3), 0px 1px 3px 1px rgba(60, 64, 67, 0.15);\n",
              "      fill: #174EA6;\n",
              "    }\n",
              "\n",
              "    [theme=dark] .colab-df-convert {\n",
              "      background-color: #3B4455;\n",
              "      fill: #D2E3FC;\n",
              "    }\n",
              "\n",
              "    [theme=dark] .colab-df-convert:hover {\n",
              "      background-color: #434B5C;\n",
              "      box-shadow: 0px 1px 3px 1px rgba(0, 0, 0, 0.15);\n",
              "      filter: drop-shadow(0px 1px 2px rgba(0, 0, 0, 0.3));\n",
              "      fill: #FFFFFF;\n",
              "    }\n",
              "  </style>\n",
              "\n",
              "      <script>\n",
              "        const buttonEl =\n",
              "          document.querySelector('#df-fcf49885-818c-4d75-9540-45c5256e0432 button.colab-df-convert');\n",
              "        buttonEl.style.display =\n",
              "          google.colab.kernel.accessAllowed ? 'block' : 'none';\n",
              "\n",
              "        async function convertToInteractive(key) {\n",
              "          const element = document.querySelector('#df-fcf49885-818c-4d75-9540-45c5256e0432');\n",
              "          const dataTable =\n",
              "            await google.colab.kernel.invokeFunction('convertToInteractive',\n",
              "                                                     [key], {});\n",
              "          if (!dataTable) return;\n",
              "\n",
              "          const docLinkHtml = 'Like what you see? Visit the ' +\n",
              "            '<a target=\"_blank\" href=https://colab.research.google.com/notebooks/data_table.ipynb>data table notebook</a>'\n",
              "            + ' to learn more about interactive tables.';\n",
              "          element.innerHTML = '';\n",
              "          dataTable['output_type'] = 'display_data';\n",
              "          await google.colab.output.renderOutput(dataTable, element);\n",
              "          const docLink = document.createElement('div');\n",
              "          docLink.innerHTML = docLinkHtml;\n",
              "          element.appendChild(docLink);\n",
              "        }\n",
              "      </script>\n",
              "    </div>\n",
              "  </div>\n",
              "  "
            ]
          },
          "metadata": {},
          "execution_count": 4
        }
      ]
    },
    {
      "cell_type": "markdown",
      "source": [
        "# ENA"
      ],
      "metadata": {
        "id": "QMZAiwPA-zeH"
      }
    },
    {
      "cell_type": "code",
      "source": [
        "df.info()"
      ],
      "metadata": {
        "colab": {
          "base_uri": "https://localhost:8080/"
        },
        "id": "DtktwXc6S1fz",
        "outputId": "212ff907-6f1e-46f0-b701-d0c93a126abb"
      },
      "execution_count": null,
      "outputs": [
        {
          "output_type": "stream",
          "name": "stdout",
          "text": [
            "<class 'pandas.core.frame.DataFrame'>\n",
            "RangeIndex: 7175 entries, 0 to 7174\n",
            "Data columns (total 12 columns):\n",
            " #   Column          Non-Null Count  Dtype  \n",
            "---  ------          --------------  -----  \n",
            " 0   index           7175 non-null   int64  \n",
            " 1   step            7175 non-null   int64  \n",
            " 2   type            7175 non-null   object \n",
            " 3   amount          7175 non-null   float64\n",
            " 4   nameOrig        7175 non-null   object \n",
            " 5   oldbalanceOrg   7175 non-null   float64\n",
            " 6   newbalanceOrig  7175 non-null   float64\n",
            " 7   nameDest        7175 non-null   object \n",
            " 8   oldbalanceDest  7175 non-null   float64\n",
            " 9   newbalanceDest  7175 non-null   float64\n",
            " 10  isFraud         7175 non-null   int64  \n",
            " 11  isFlaggedFraud  7175 non-null   int64  \n",
            "dtypes: float64(5), int64(4), object(3)\n",
            "memory usage: 672.8+ KB\n"
          ]
        }
      ]
    },
    {
      "cell_type": "code",
      "source": [
        "# check for null values\n",
        "df.isna().sum()"
      ],
      "metadata": {
        "colab": {
          "base_uri": "https://localhost:8080/"
        },
        "id": "voK9GTVYS1jT",
        "outputId": "7a90bb49-3264-4bd8-803c-2e1660e2cc83"
      },
      "execution_count": null,
      "outputs": [
        {
          "output_type": "execute_result",
          "data": {
            "text/plain": [
              "index             0\n",
              "step              0\n",
              "type              0\n",
              "amount            0\n",
              "nameOrig          0\n",
              "oldbalanceOrg     0\n",
              "newbalanceOrig    0\n",
              "nameDest          0\n",
              "oldbalanceDest    0\n",
              "newbalanceDest    0\n",
              "isFraud           0\n",
              "isFlaggedFraud    0\n",
              "dtype: int64"
            ]
          },
          "metadata": {},
          "execution_count": 12
        }
      ]
    },
    {
      "cell_type": "code",
      "source": [
        "df.describe().round(2)"
      ],
      "metadata": {
        "colab": {
          "base_uri": "https://localhost:8080/",
          "height": 300
        },
        "id": "AxCERkBwS1mp",
        "outputId": "599b9115-be79-410d-f1b9-05917f2bcd2d"
      },
      "execution_count": null,
      "outputs": [
        {
          "output_type": "execute_result",
          "data": {
            "text/plain": [
              "         index     step       amount  oldbalanceOrg  newbalanceOrig  \\\n",
              "count  7175.00  7175.00      7175.00        7175.00         7175.00   \n",
              "mean   3587.00   259.24    336189.61      895486.46       732399.48   \n",
              "std    2071.39   156.59   1096537.82     2945336.84      2757362.04   \n",
              "min       0.00     1.00         0.00           0.00            0.00   \n",
              "25%    1793.50   158.00     15671.77           0.00            0.00   \n",
              "50%    3587.00   253.00     90749.53       20768.00            0.00   \n",
              "75%    5380.50   353.00    245224.74      186499.82        84654.97   \n",
              "max    7174.00   743.00  15450012.64    50399045.08     40399045.08   \n",
              "\n",
              "       oldbalanceDest  newbalanceDest  isFraud  isFlaggedFraud  \n",
              "count    7.175000e+03    7.175000e+03  7175.00         7175.00  \n",
              "mean     1.042056e+06    1.245990e+06     0.11            0.00  \n",
              "std      3.246959e+06    3.513250e+06     0.32            0.02  \n",
              "min      0.000000e+00    0.000000e+00     0.00            0.00  \n",
              "25%      0.000000e+00    0.000000e+00     0.00            0.00  \n",
              "50%      9.182853e+04    1.934395e+05     0.00            0.00  \n",
              "75%      8.544709e+05    1.100640e+06     0.00            0.00  \n",
              "max      1.019156e+08    1.020622e+08     1.00            1.00  "
            ],
            "text/html": [
              "\n",
              "  <div id=\"df-0ff593f1-5263-47d3-8910-f0fe25c9b9fe\">\n",
              "    <div class=\"colab-df-container\">\n",
              "      <div>\n",
              "<style scoped>\n",
              "    .dataframe tbody tr th:only-of-type {\n",
              "        vertical-align: middle;\n",
              "    }\n",
              "\n",
              "    .dataframe tbody tr th {\n",
              "        vertical-align: top;\n",
              "    }\n",
              "\n",
              "    .dataframe thead th {\n",
              "        text-align: right;\n",
              "    }\n",
              "</style>\n",
              "<table border=\"1\" class=\"dataframe\">\n",
              "  <thead>\n",
              "    <tr style=\"text-align: right;\">\n",
              "      <th></th>\n",
              "      <th>index</th>\n",
              "      <th>step</th>\n",
              "      <th>amount</th>\n",
              "      <th>oldbalanceOrg</th>\n",
              "      <th>newbalanceOrig</th>\n",
              "      <th>oldbalanceDest</th>\n",
              "      <th>newbalanceDest</th>\n",
              "      <th>isFraud</th>\n",
              "      <th>isFlaggedFraud</th>\n",
              "    </tr>\n",
              "  </thead>\n",
              "  <tbody>\n",
              "    <tr>\n",
              "      <th>count</th>\n",
              "      <td>7175.00</td>\n",
              "      <td>7175.00</td>\n",
              "      <td>7175.00</td>\n",
              "      <td>7175.00</td>\n",
              "      <td>7175.00</td>\n",
              "      <td>7.175000e+03</td>\n",
              "      <td>7.175000e+03</td>\n",
              "      <td>7175.00</td>\n",
              "      <td>7175.00</td>\n",
              "    </tr>\n",
              "    <tr>\n",
              "      <th>mean</th>\n",
              "      <td>3587.00</td>\n",
              "      <td>259.24</td>\n",
              "      <td>336189.61</td>\n",
              "      <td>895486.46</td>\n",
              "      <td>732399.48</td>\n",
              "      <td>1.042056e+06</td>\n",
              "      <td>1.245990e+06</td>\n",
              "      <td>0.11</td>\n",
              "      <td>0.00</td>\n",
              "    </tr>\n",
              "    <tr>\n",
              "      <th>std</th>\n",
              "      <td>2071.39</td>\n",
              "      <td>156.59</td>\n",
              "      <td>1096537.82</td>\n",
              "      <td>2945336.84</td>\n",
              "      <td>2757362.04</td>\n",
              "      <td>3.246959e+06</td>\n",
              "      <td>3.513250e+06</td>\n",
              "      <td>0.32</td>\n",
              "      <td>0.02</td>\n",
              "    </tr>\n",
              "    <tr>\n",
              "      <th>min</th>\n",
              "      <td>0.00</td>\n",
              "      <td>1.00</td>\n",
              "      <td>0.00</td>\n",
              "      <td>0.00</td>\n",
              "      <td>0.00</td>\n",
              "      <td>0.000000e+00</td>\n",
              "      <td>0.000000e+00</td>\n",
              "      <td>0.00</td>\n",
              "      <td>0.00</td>\n",
              "    </tr>\n",
              "    <tr>\n",
              "      <th>25%</th>\n",
              "      <td>1793.50</td>\n",
              "      <td>158.00</td>\n",
              "      <td>15671.77</td>\n",
              "      <td>0.00</td>\n",
              "      <td>0.00</td>\n",
              "      <td>0.000000e+00</td>\n",
              "      <td>0.000000e+00</td>\n",
              "      <td>0.00</td>\n",
              "      <td>0.00</td>\n",
              "    </tr>\n",
              "    <tr>\n",
              "      <th>50%</th>\n",
              "      <td>3587.00</td>\n",
              "      <td>253.00</td>\n",
              "      <td>90749.53</td>\n",
              "      <td>20768.00</td>\n",
              "      <td>0.00</td>\n",
              "      <td>9.182853e+04</td>\n",
              "      <td>1.934395e+05</td>\n",
              "      <td>0.00</td>\n",
              "      <td>0.00</td>\n",
              "    </tr>\n",
              "    <tr>\n",
              "      <th>75%</th>\n",
              "      <td>5380.50</td>\n",
              "      <td>353.00</td>\n",
              "      <td>245224.74</td>\n",
              "      <td>186499.82</td>\n",
              "      <td>84654.97</td>\n",
              "      <td>8.544709e+05</td>\n",
              "      <td>1.100640e+06</td>\n",
              "      <td>0.00</td>\n",
              "      <td>0.00</td>\n",
              "    </tr>\n",
              "    <tr>\n",
              "      <th>max</th>\n",
              "      <td>7174.00</td>\n",
              "      <td>743.00</td>\n",
              "      <td>15450012.64</td>\n",
              "      <td>50399045.08</td>\n",
              "      <td>40399045.08</td>\n",
              "      <td>1.019156e+08</td>\n",
              "      <td>1.020622e+08</td>\n",
              "      <td>1.00</td>\n",
              "      <td>1.00</td>\n",
              "    </tr>\n",
              "  </tbody>\n",
              "</table>\n",
              "</div>\n",
              "      <button class=\"colab-df-convert\" onclick=\"convertToInteractive('df-0ff593f1-5263-47d3-8910-f0fe25c9b9fe')\"\n",
              "              title=\"Convert this dataframe to an interactive table.\"\n",
              "              style=\"display:none;\">\n",
              "        \n",
              "  <svg xmlns=\"http://www.w3.org/2000/svg\" height=\"24px\"viewBox=\"0 0 24 24\"\n",
              "       width=\"24px\">\n",
              "    <path d=\"M0 0h24v24H0V0z\" fill=\"none\"/>\n",
              "    <path d=\"M18.56 5.44l.94 2.06.94-2.06 2.06-.94-2.06-.94-.94-2.06-.94 2.06-2.06.94zm-11 1L8.5 8.5l.94-2.06 2.06-.94-2.06-.94L8.5 2.5l-.94 2.06-2.06.94zm10 10l.94 2.06.94-2.06 2.06-.94-2.06-.94-.94-2.06-.94 2.06-2.06.94z\"/><path d=\"M17.41 7.96l-1.37-1.37c-.4-.4-.92-.59-1.43-.59-.52 0-1.04.2-1.43.59L10.3 9.45l-7.72 7.72c-.78.78-.78 2.05 0 2.83L4 21.41c.39.39.9.59 1.41.59.51 0 1.02-.2 1.41-.59l7.78-7.78 2.81-2.81c.8-.78.8-2.07 0-2.86zM5.41 20L4 18.59l7.72-7.72 1.47 1.35L5.41 20z\"/>\n",
              "  </svg>\n",
              "      </button>\n",
              "      \n",
              "  <style>\n",
              "    .colab-df-container {\n",
              "      display:flex;\n",
              "      flex-wrap:wrap;\n",
              "      gap: 12px;\n",
              "    }\n",
              "\n",
              "    .colab-df-convert {\n",
              "      background-color: #E8F0FE;\n",
              "      border: none;\n",
              "      border-radius: 50%;\n",
              "      cursor: pointer;\n",
              "      display: none;\n",
              "      fill: #1967D2;\n",
              "      height: 32px;\n",
              "      padding: 0 0 0 0;\n",
              "      width: 32px;\n",
              "    }\n",
              "\n",
              "    .colab-df-convert:hover {\n",
              "      background-color: #E2EBFA;\n",
              "      box-shadow: 0px 1px 2px rgba(60, 64, 67, 0.3), 0px 1px 3px 1px rgba(60, 64, 67, 0.15);\n",
              "      fill: #174EA6;\n",
              "    }\n",
              "\n",
              "    [theme=dark] .colab-df-convert {\n",
              "      background-color: #3B4455;\n",
              "      fill: #D2E3FC;\n",
              "    }\n",
              "\n",
              "    [theme=dark] .colab-df-convert:hover {\n",
              "      background-color: #434B5C;\n",
              "      box-shadow: 0px 1px 3px 1px rgba(0, 0, 0, 0.15);\n",
              "      filter: drop-shadow(0px 1px 2px rgba(0, 0, 0, 0.3));\n",
              "      fill: #FFFFFF;\n",
              "    }\n",
              "  </style>\n",
              "\n",
              "      <script>\n",
              "        const buttonEl =\n",
              "          document.querySelector('#df-0ff593f1-5263-47d3-8910-f0fe25c9b9fe button.colab-df-convert');\n",
              "        buttonEl.style.display =\n",
              "          google.colab.kernel.accessAllowed ? 'block' : 'none';\n",
              "\n",
              "        async function convertToInteractive(key) {\n",
              "          const element = document.querySelector('#df-0ff593f1-5263-47d3-8910-f0fe25c9b9fe');\n",
              "          const dataTable =\n",
              "            await google.colab.kernel.invokeFunction('convertToInteractive',\n",
              "                                                     [key], {});\n",
              "          if (!dataTable) return;\n",
              "\n",
              "          const docLinkHtml = 'Like what you see? Visit the ' +\n",
              "            '<a target=\"_blank\" href=https://colab.research.google.com/notebooks/data_table.ipynb>data table notebook</a>'\n",
              "            + ' to learn more about interactive tables.';\n",
              "          element.innerHTML = '';\n",
              "          dataTable['output_type'] = 'display_data';\n",
              "          await google.colab.output.renderOutput(dataTable, element);\n",
              "          const docLink = document.createElement('div');\n",
              "          docLink.innerHTML = docLinkHtml;\n",
              "          element.appendChild(docLink);\n",
              "        }\n",
              "      </script>\n",
              "    </div>\n",
              "  </div>\n",
              "  "
            ]
          },
          "metadata": {},
          "execution_count": 14
        }
      ]
    },
    {
      "cell_type": "code",
      "source": [
        "df['isFraud'].value_counts()"
      ],
      "metadata": {
        "colab": {
          "base_uri": "https://localhost:8080/"
        },
        "id": "EYMhjwp4S1p-",
        "outputId": "25a58fd0-f9a3-4364-ed03-31d66d69615c"
      },
      "execution_count": null,
      "outputs": [
        {
          "output_type": "execute_result",
          "data": {
            "text/plain": [
              "0    6354\n",
              "1     821\n",
              "Name: isFraud, dtype: int64"
            ]
          },
          "metadata": {},
          "execution_count": 16
        }
      ]
    },
    {
      "cell_type": "code",
      "source": [
        "df['isFlaggedFraud'].value_counts()"
      ],
      "metadata": {
        "colab": {
          "base_uri": "https://localhost:8080/"
        },
        "id": "WSPBGvPVU60N",
        "outputId": "3104f0fa-ae15-4e95-cf55-5bfbe34e8cb3"
      },
      "execution_count": null,
      "outputs": [
        {
          "output_type": "execute_result",
          "data": {
            "text/plain": [
              "0    7173\n",
              "1       2\n",
              "Name: isFlaggedFraud, dtype: int64"
            ]
          },
          "metadata": {},
          "execution_count": 17
        }
      ]
    },
    {
      "cell_type": "code",
      "source": [
        "df['type'].value_counts()"
      ],
      "metadata": {
        "colab": {
          "base_uri": "https://localhost:8080/"
        },
        "id": "TQEOjFKhU6-F",
        "outputId": "470341cb-dc6d-4842-d1df-0368606c79a3"
      },
      "execution_count": null,
      "outputs": [
        {
          "output_type": "execute_result",
          "data": {
            "text/plain": [
              "CASH_OUT    2716\n",
              "PAYMENT     2142\n",
              "CASH_IN     1344\n",
              "TRANSFER     931\n",
              "DEBIT         42\n",
              "Name: type, dtype: int64"
            ]
          },
          "metadata": {},
          "execution_count": 18
        }
      ]
    },
    {
      "cell_type": "code",
      "source": [
        "#Transaction types distribution\n",
        "data = round((df['type'].value_counts()/len(df))*100, 2).values\n",
        "labels = round((df['type'].value_counts()/len(df))*100, 2).index\n",
        "\n",
        "plt.figure(figsize=(12,6))\n",
        "plt.pie(data, labels=labels, colors=sns.color_palette('pastel'), autopct='%.0f%%')\n",
        "plt.title('Transaction Types', fontsize=20)\n",
        "plt.show()"
      ],
      "metadata": {
        "colab": {
          "base_uri": "https://localhost:8080/",
          "height": 378
        },
        "id": "RtWPSQ8HU7Bw",
        "outputId": "b686e0b8-4cce-454e-cb41-1218970d505b"
      },
      "execution_count": null,
      "outputs": [
        {
          "output_type": "display_data",
          "data": {
            "text/plain": [
              "<Figure size 864x432 with 1 Axes>"
            ],
            "image/png": "[encoded data removed]"
          },
          "metadata": {}
        }
      ]
    },
    {
      "cell_type": "code",
      "source": [
        "#check for feature correlations\n",
        "plt.figure(figsize=(16,8))\n",
        "sns.heatmap(df.corr().round(2), annot=True, center=0, vmin=-1, vmax=1, cmap='vlag')\n",
        "plt.show()"
      ],
      "metadata": {
        "colab": {
          "base_uri": "https://localhost:8080/",
          "height": 563
        },
        "id": "Ytn88uWNU7FH",
        "outputId": "3ca7321b-3cac-481e-d359-0bb1aa3ab277"
      },
      "execution_count": null,
      "outputs": [
        {
          "output_type": "display_data",
          "data": {
            "text/plain": [
              "<Figure size 1152x576 with 2 Axes>"
            ],
            "image/png": "[encoded data removed]"
          },
          "metadata": {
            "needs_background": "light"
          }
        }
      ]
    },
    {
      "cell_type": "markdown",
      "source": [
        "# ML Steps\n",
        "* Drop unnecessary columns ['step', 'nameOrig', 'nameDest', 'isFlaggedFraud']\n",
        "* define label features and a target feature\n",
        "* One hot encode categorical feature: 'type'\n",
        "* Scale and normalise the remaining columns\n",
        "* Use cross validation to shuffle the data\n",
        "* Use train test split to divide the data between training and testing dataset\n",
        "* use column transformers to achive the above\n",
        "* Use DecisionTree algorithm for prediction\n",
        "* Run accuracy to check the result"
      ],
      "metadata": {
        "id": "p1C_kE_hAahG"
      }
    },
    {
      "cell_type": "code",
      "source": [
        "from sklearn.preprocessing import OneHotEncoder, MinMaxScaler, StandardScaler\n",
        "from sklearn.compose import ColumnTransformer, make_column_transformer\n",
        "from sklearn.model_selection import train_test_split, cross_val_score\n",
        "from sklearn.impute import SimpleImputer\n",
        "from sklearn.pipeline import make_pipeline\n",
        "from sklearn.tree import DecisionTreeClassifier\n",
        "from sklearn.utils import shuffle\n",
        "from sklearn.metrics import accuracy_score"
      ],
      "metadata": {
        "id": "RSU9-EK2U7K7"
      },
      "execution_count": 5,
      "outputs": []
    },
    {
      "cell_type": "code",
      "source": [
        "#  Drop unnecessary columns ['step', 'nameOrig', 'nameDest']\n",
        "df = df.drop(['step', 'nameOrig', 'nameDest', 'isFlaggedFraud'], axis=1)\n",
        "print(df.shape)\n",
        "df.head(5)"
      ],
      "metadata": {
        "id": "Sa9rnYwLU7Nl",
        "colab": {
          "base_uri": "https://localhost:8080/",
          "height": 224
        },
        "outputId": "37d1456c-f82d-4731-ca97-519935a835ce"
      },
      "execution_count": 8,
      "outputs": [
        {
          "output_type": "stream",
          "name": "stdout",
          "text": [
            "(7175, 8)\n"
          ]
        },
        {
          "output_type": "execute_result",
          "data": {
            "text/plain": [
              "   index      type     amount  oldbalanceOrg  newbalanceOrig  oldbalanceDest  \\\n",
              "0      0   PAYMENT    8245.19            0.0             0.0            0.00   \n",
              "1      1   CASH_IN   66768.90         5558.0         72326.9       852994.85   \n",
              "2      2  CASH_OUT  262789.15            0.0             0.0      1112055.66   \n",
              "3      3  CASH_OUT   81398.43        41708.0             0.0       333197.80   \n",
              "4      4  CASH_OUT  250712.64            0.0             0.0      2697076.75   \n",
              "\n",
              "   newbalanceDest  isFraud  \n",
              "0            0.00        0  \n",
              "1       786225.94        0  \n",
              "2      1374844.81        0  \n",
              "3       414596.23        0  \n",
              "4      2947789.39        0  "
            ],
            "text/html": [
              "\n",
              "  <div id=\"df-ec1b95c7-dc2e-4a25-9545-ce811a551e4c\">\n",
              "    <div class=\"colab-df-container\">\n",
              "      <div>\n",
              "<style scoped>\n",
              "    .dataframe tbody tr th:only-of-type {\n",
              "        vertical-align: middle;\n",
              "    }\n",
              "\n",
              "    .dataframe tbody tr th {\n",
              "        vertical-align: top;\n",
              "    }\n",
              "\n",
              "    .dataframe thead th {\n",
              "        text-align: right;\n",
              "    }\n",
              "</style>\n",
              "<table border=\"1\" class=\"dataframe\">\n",
              "  <thead>\n",
              "    <tr style=\"text-align: right;\">\n",
              "      <th></th>\n",
              "      <th>index</th>\n",
              "      <th>type</th>\n",
              "      <th>amount</th>\n",
              "      <th>oldbalanceOrg</th>\n",
              "      <th>newbalanceOrig</th>\n",
              "      <th>oldbalanceDest</th>\n",
              "      <th>newbalanceDest</th>\n",
              "      <th>isFraud</th>\n",
              "    </tr>\n",
              "  </thead>\n",
              "  <tbody>\n",
              "    <tr>\n",
              "      <th>0</th>\n",
              "      <td>0</td>\n",
              "      <td>PAYMENT</td>\n",
              "      <td>8245.19</td>\n",
              "      <td>0.0</td>\n",
              "      <td>0.0</td>\n",
              "      <td>0.00</td>\n",
              "      <td>0.00</td>\n",
              "      <td>0</td>\n",
              "    </tr>\n",
              "    <tr>\n",
              "      <th>1</th>\n",
              "      <td>1</td>\n",
              "      <td>CASH_IN</td>\n",
              "      <td>66768.90</td>\n",
              "      <td>5558.0</td>\n",
              "      <td>72326.9</td>\n",
              "      <td>852994.85</td>\n",
              "      <td>786225.94</td>\n",
              "      <td>0</td>\n",
              "    </tr>\n",
              "    <tr>\n",
              "      <th>2</th>\n",
              "      <td>2</td>\n",
              "      <td>CASH_OUT</td>\n",
              "      <td>262789.15</td>\n",
              "      <td>0.0</td>\n",
              "      <td>0.0</td>\n",
              "      <td>1112055.66</td>\n",
              "      <td>1374844.81</td>\n",
              "      <td>0</td>\n",
              "    </tr>\n",
              "    <tr>\n",
              "      <th>3</th>\n",
              "      <td>3</td>\n",
              "      <td>CASH_OUT</td>\n",
              "      <td>81398.43</td>\n",
              "      <td>41708.0</td>\n",
              "      <td>0.0</td>\n",
              "      <td>333197.80</td>\n",
              "      <td>414596.23</td>\n",
              "      <td>0</td>\n",
              "    </tr>\n",
              "    <tr>\n",
              "      <th>4</th>\n",
              "      <td>4</td>\n",
              "      <td>CASH_OUT</td>\n",
              "      <td>250712.64</td>\n",
              "      <td>0.0</td>\n",
              "      <td>0.0</td>\n",
              "      <td>2697076.75</td>\n",
              "      <td>2947789.39</td>\n",
              "      <td>0</td>\n",
              "    </tr>\n",
              "  </tbody>\n",
              "</table>\n",
              "</div>\n",
              "      <button class=\"colab-df-convert\" onclick=\"convertToInteractive('df-ec1b95c7-dc2e-4a25-9545-ce811a551e4c')\"\n",
              "              title=\"Convert this dataframe to an interactive table.\"\n",
              "              style=\"display:none;\">\n",
              "        \n",
              "  <svg xmlns=\"http://www.w3.org/2000/svg\" height=\"24px\"viewBox=\"0 0 24 24\"\n",
              "       width=\"24px\">\n",
              "    <path d=\"M0 0h24v24H0V0z\" fill=\"none\"/>\n",
              "    <path d=\"M18.56 5.44l.94 2.06.94-2.06 2.06-.94-2.06-.94-.94-2.06-.94 2.06-2.06.94zm-11 1L8.5 8.5l.94-2.06 2.06-.94-2.06-.94L8.5 2.5l-.94 2.06-2.06.94zm10 10l.94 2.06.94-2.06 2.06-.94-2.06-.94-.94-2.06-.94 2.06-2.06.94z\"/><path d=\"M17.41 7.96l-1.37-1.37c-.4-.4-.92-.59-1.43-.59-.52 0-1.04.2-1.43.59L10.3 9.45l-7.72 7.72c-.78.78-.78 2.05 0 2.83L4 21.41c.39.39.9.59 1.41.59.51 0 1.02-.2 1.41-.59l7.78-7.78 2.81-2.81c.8-.78.8-2.07 0-2.86zM5.41 20L4 18.59l7.72-7.72 1.47 1.35L5.41 20z\"/>\n",
              "  </svg>\n",
              "      </button>\n",
              "      \n",
              "  <style>\n",
              "    .colab-df-container {\n",
              "      display:flex;\n",
              "      flex-wrap:wrap;\n",
              "      gap: 12px;\n",
              "    }\n",
              "\n",
              "    .colab-df-convert {\n",
              "      background-color: #E8F0FE;\n",
              "      border: none;\n",
              "      border-radius: 50%;\n",
              "      cursor: pointer;\n",
              "      display: none;\n",
              "      fill: #1967D2;\n",
              "      height: 32px;\n",
              "      padding: 0 0 0 0;\n",
              "      width: 32px;\n",
              "    }\n",
              "\n",
              "    .colab-df-convert:hover {\n",
              "      background-color: #E2EBFA;\n",
              "      box-shadow: 0px 1px 2px rgba(60, 64, 67, 0.3), 0px 1px 3px 1px rgba(60, 64, 67, 0.15);\n",
              "      fill: #174EA6;\n",
              "    }\n",
              "\n",
              "    [theme=dark] .colab-df-convert {\n",
              "      background-color: #3B4455;\n",
              "      fill: #D2E3FC;\n",
              "    }\n",
              "\n",
              "    [theme=dark] .colab-df-convert:hover {\n",
              "      background-color: #434B5C;\n",
              "      box-shadow: 0px 1px 3px 1px rgba(0, 0, 0, 0.15);\n",
              "      filter: drop-shadow(0px 1px 2px rgba(0, 0, 0, 0.3));\n",
              "      fill: #FFFFFF;\n",
              "    }\n",
              "  </style>\n",
              "\n",
              "      <script>\n",
              "        const buttonEl =\n",
              "          document.querySelector('#df-ec1b95c7-dc2e-4a25-9545-ce811a551e4c button.colab-df-convert');\n",
              "        buttonEl.style.display =\n",
              "          google.colab.kernel.accessAllowed ? 'block' : 'none';\n",
              "\n",
              "        async function convertToInteractive(key) {\n",
              "          const element = document.querySelector('#df-ec1b95c7-dc2e-4a25-9545-ce811a551e4c');\n",
              "          const dataTable =\n",
              "            await google.colab.kernel.invokeFunction('convertToInteractive',\n",
              "                                                     [key], {});\n",
              "          if (!dataTable) return;\n",
              "\n",
              "          const docLinkHtml = 'Like what you see? Visit the ' +\n",
              "            '<a target=\"_blank\" href=https://colab.research.google.com/notebooks/data_table.ipynb>data table notebook</a>'\n",
              "            + ' to learn more about interactive tables.';\n",
              "          element.innerHTML = '';\n",
              "          dataTable['output_type'] = 'display_data';\n",
              "          await google.colab.output.renderOutput(dataTable, element);\n",
              "          const docLink = document.createElement('div');\n",
              "          docLink.innerHTML = docLinkHtml;\n",
              "          element.appendChild(docLink);\n",
              "        }\n",
              "      </script>\n",
              "    </div>\n",
              "  </div>\n",
              "  "
            ]
          },
          "metadata": {},
          "execution_count": 8
        }
      ]
    },
    {
      "cell_type": "code",
      "source": [
        "#percentage of Fraud Versus Non Fraud samples\n",
        "print(df['isFraud'].value_counts())\n",
        "print(\"\\npercentage wise %\")\n",
        "print(np.round(df['isFraud'].value_counts()/df.shape[0],4)*100)"
      ],
      "metadata": {
        "id": "QUtY-hbMU7Q4",
        "colab": {
          "base_uri": "https://localhost:8080/"
        },
        "outputId": "e9fc34ec-5060-44f9-f0d3-4bf61ed2a803"
      },
      "execution_count": 9,
      "outputs": [
        {
          "output_type": "stream",
          "name": "stdout",
          "text": [
            "0    6354\n",
            "1     821\n",
            "Name: isFraud, dtype: int64\n",
            "\n",
            "percentage wise %\n",
            "0    88.56\n",
            "1    11.44\n",
            "Name: isFraud, dtype: float64\n"
          ]
        }
      ]
    },
    {
      "cell_type": "code",
      "source": [
        "print(f\"The percentage of the Fraud samples is: {[i for i in np.round(df['isFraud'].value_counts()/df.shape[0],4)*100][1]}%\")"
      ],
      "metadata": {
        "id": "5O38xi54U7Uo",
        "colab": {
          "base_uri": "https://localhost:8080/"
        },
        "outputId": "74906018-5fee-4d33-97ec-dabab9a55cbc"
      },
      "execution_count": 25,
      "outputs": [
        {
          "output_type": "stream",
          "name": "stdout",
          "text": [
            "The percentage of the Fraud samples is: 11.44%\n"
          ]
        }
      ]
    },
    {
      "cell_type": "code",
      "source": [
        "# define independent features and a target feature\n",
        "X = df.drop('isFraud', axis=1)\n",
        "y = df['isFraud']"
      ],
      "metadata": {
        "id": "t_qrcZWNCXXp"
      },
      "execution_count": 27,
      "outputs": []
    },
    {
      "cell_type": "code",
      "source": [
        "#instantiate model, encoders and scalers\n",
        "clf = DecisionTreeClassifier()\n",
        "ohe = OneHotEncoder(drop='first')\n",
        "ss = StandardScaler()\n",
        "mm = MinMaxScaler()"
      ],
      "metadata": {
        "id": "TVzDVYfiCXax"
      },
      "execution_count": 50,
      "outputs": []
    },
    {
      "cell_type": "code",
      "source": [
        "#check the output of the encoder\n",
        "print(f\"The trasaction categories to be one hot encoded are:\\n{X['type'].unique()}\\n\")\n",
        "print(df['type'].head(5))\n",
        "print()\n",
        "ohe.fit_transform(X[['type']]).toarray()[:5]"
      ],
      "metadata": {
        "colab": {
          "base_uri": "https://localhost:8080/"
        },
        "id": "tFFbPysLCXdy",
        "outputId": "39f5b739-6f18-4118-8583-30aa50f2cc39"
      },
      "execution_count": 42,
      "outputs": [
        {
          "output_type": "stream",
          "name": "stdout",
          "text": [
            "The trasaction categories to be one hot encoded are:\n",
            "['PAYMENT' 'CASH_IN' 'CASH_OUT' 'TRANSFER' 'DEBIT']\n",
            "\n",
            "0     PAYMENT\n",
            "1     CASH_IN\n",
            "2    CASH_OUT\n",
            "3    CASH_OUT\n",
            "4    CASH_OUT\n",
            "Name: type, dtype: object\n",
            "\n"
          ]
        },
        {
          "output_type": "execute_result",
          "data": {
            "text/plain": [
              "array([[0., 0., 1., 0.],\n",
              "       [0., 0., 0., 0.],\n",
              "       [1., 0., 0., 0.],\n",
              "       [1., 0., 0., 0.],\n",
              "       [1., 0., 0., 0.]])"
            ]
          },
          "metadata": {},
          "execution_count": 42
        }
      ]
    },
    {
      "cell_type": "markdown",
      "source": [
        "### Columns Transformers and Pipeline"
      ],
      "metadata": {
        "id": "hz0_n8EHECwS"
      }
    },
    {
      "cell_type": "code",
      "source": [
        "ct = make_column_transformer((OneHotEncoder(drop='first'), ['type']),\n",
        "                             (StandardScaler(), ['amount', 'oldbalanceOrg', 'newbalanceOrig', \n",
        "                                                 'oldbalanceDest', 'newbalanceDest']),\n",
        "                             remainder='passthrough',\n",
        "                            )"
      ],
      "metadata": {
        "id": "qtenGkv0CXjp"
      },
      "execution_count": 51,
      "outputs": []
    },
    {
      "cell_type": "code",
      "source": [
        "pipe = make_pipeline(ct, clf)"
      ],
      "metadata": {
        "id": "UyrXJw67CXpZ"
      },
      "execution_count": 52,
      "outputs": []
    },
    {
      "cell_type": "code",
      "source": [
        "#running the model using cross val score 5-fold validation\n",
        "cross_val_score(pipe, X, y, cv=5, scoring='accuracy')"
      ],
      "metadata": {
        "colab": {
          "base_uri": "https://localhost:8080/"
        },
        "id": "ewqo4rbvCXsp",
        "outputId": "b8eb5c74-35cc-40b5-fded-a1f5d50deb56"
      },
      "execution_count": 54,
      "outputs": [
        {
          "output_type": "execute_result",
          "data": {
            "text/plain": [
              "array([0.97630662, 0.98675958, 0.98954704, 0.99094077, 0.99372822])"
            ]
          },
          "metadata": {},
          "execution_count": 54
        }
      ]
    },
    {
      "cell_type": "code",
      "source": [
        "print(f\"The model accuracy using 5-Fold cross validation is: {round(cross_val_score(pipe, X, y, cv=5, scoring='accuracy').mean()*100, 2)}%\")"
      ],
      "metadata": {
        "colab": {
          "base_uri": "https://localhost:8080/"
        },
        "id": "4XJpHK2ZCXvx",
        "outputId": "8812dfc0-4fd5-467c-dd05-f19f3fcb4cbe"
      },
      "execution_count": 66,
      "outputs": [
        {
          "output_type": "stream",
          "name": "stdout",
          "text": [
            "The model accuracy using 5-Fold cross validation is: 98.75%\n"
          ]
        }
      ]
    },
    {
      "cell_type": "code",
      "source": [
        "#Lets use train_test_split and predict\n",
        "X_train, X_test, y_train, y_test = train_test_split(X, y, test_size=0.25, random_state=5)"
      ],
      "metadata": {
        "id": "A7tgb9tkCXzB"
      },
      "execution_count": 67,
      "outputs": []
    },
    {
      "cell_type": "code",
      "source": [
        "pipe.fit(X_train, y_train)"
      ],
      "metadata": {
        "colab": {
          "base_uri": "https://localhost:8080/"
        },
        "id": "MZxrIKdpCX2b",
        "outputId": "b3eaaf97-28e4-4fc3-8b88-367faecfe21a"
      },
      "execution_count": 68,
      "outputs": [
        {
          "output_type": "execute_result",
          "data": {
            "text/plain": [
              "Pipeline(steps=[('columntransformer',\n",
              "                 ColumnTransformer(remainder='passthrough',\n",
              "                                   transformers=[('onehotencoder',\n",
              "                                                  OneHotEncoder(drop='first'),\n",
              "                                                  ['type']),\n",
              "                                                 ('standardscaler',\n",
              "                                                  StandardScaler(),\n",
              "                                                  ['amount', 'oldbalanceOrg',\n",
              "                                                   'newbalanceOrig',\n",
              "                                                   'oldbalanceDest',\n",
              "                                                   'newbalanceDest'])])),\n",
              "                ('decisiontreeclassifier', DecisionTreeClassifier())])"
            ]
          },
          "metadata": {},
          "execution_count": 68
        }
      ]
    },
    {
      "cell_type": "code",
      "source": [
        "y_pred =  pipe.predict(X_test)"
      ],
      "metadata": {
        "id": "845IH991IRmk"
      },
      "execution_count": 69,
      "outputs": []
    },
    {
      "cell_type": "code",
      "source": [
        "#compare prediction and test data\n",
        "print(y_pred[:10])\n",
        "y_test[:10].values"
      ],
      "metadata": {
        "colab": {
          "base_uri": "https://localhost:8080/"
        },
        "id": "eJhcuWmeImFp",
        "outputId": "665c8617-07d5-40c6-d9ac-4d51bd273b02"
      },
      "execution_count": 80,
      "outputs": [
        {
          "output_type": "stream",
          "name": "stdout",
          "text": [
            "[1 0 0 0 0 0 0 0 0 0]\n"
          ]
        },
        {
          "output_type": "execute_result",
          "data": {
            "text/plain": [
              "array([1, 0, 0, 0, 0, 0, 0, 0, 0, 0])"
            ]
          },
          "metadata": {},
          "execution_count": 80
        }
      ]
    },
    {
      "cell_type": "code",
      "source": [
        "print(f\"The model accuracy using train_test_split is: {round(accuracy_score(y_test, y_pred, normalize=True)*100, 2)}%\")"
      ],
      "metadata": {
        "colab": {
          "base_uri": "https://localhost:8080/"
        },
        "id": "uZWuC5K_IR_C",
        "outputId": "de8d9670-6a55-4d7b-e859-dc4a5f17e7c5"
      },
      "execution_count": 72,
      "outputs": [
        {
          "output_type": "stream",
          "name": "stdout",
          "text": [
            "The model accuracy using train_test_split is: 98.61%\n"
          ]
        }
      ]
    }
  ]
}