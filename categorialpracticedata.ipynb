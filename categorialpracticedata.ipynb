{
  "nbformat": 4,
  "nbformat_minor": 0,
  "metadata": {
    "colab": {
      "name": "categorialpracticedata.ipynb",
      "provenance": [],
      "collapsed_sections": [],
      "toc_visible": true,
      "authorship_tag": "ABX9TyOAIogcjIuuooaZdAq1M2KQ",
      "include_colab_link": true
    },
    "kernelspec": {
      "name": "python3",
      "display_name": "Python 3"
    }
  },
  "cells": [
    {
      "cell_type": "markdown",
      "metadata": {
        "id": "view-in-github",
        "colab_type": "text"
      },
      "source": [
        "<a href=\"https://colab.research.google.com/github/yebiFesseha/Excel-for-Excel-In-MachineLearning/blob/main/categorialpracticedata.ipynb\" target=\"_parent\"><img src=\"https://colab.research.google.com/assets/colab-badge.svg\" alt=\"Open In Colab\"/></a>"
      ]
    },
    {
      "cell_type": "code",
      "metadata": {
        "id": "Uk1gUcl-PP0b"
      },
      "source": [
        "import pandas as pd\r\n",
        "import numpy as np\r\n",
        "import matplotlib.pyplot as plt\r\n",
        "import seaborn as sns\r\n",
        "from matplotlib import style\r\n",
        "import os\r\n",
        "style.use('ggplot')\r\n",
        "% matplotlib inline"
      ],
      "execution_count": null,
      "outputs": []
    },
    {
      "cell_type": "code",
      "metadata": {
        "id": "y6fK6-bj887t"
      },
      "source": [
        "os.chdir(\"sample_data\")"
      ],
      "execution_count": null,
      "outputs": []
    },
    {
      "cell_type": "code",
      "metadata": {
        "id": "tdE_LyvW89fG",
        "colab": {
          "base_uri": "https://localhost:8080/",
          "height": 249
        },
        "outputId": "76299255-f09b-4ca7-e92e-c85ab624ae43"
      },
      "source": [
        "df = pd.read_csv(\"Categorical_practicedata.csv\", header=0, delimiter=',')\r\n",
        "df.head()"
      ],
      "execution_count": null,
      "outputs": [
        {
          "output_type": "execute_result",
          "data": {
            "text/html": [
              "<div>\n",
              "<style scoped>\n",
              "    .dataframe tbody tr th:only-of-type {\n",
              "        vertical-align: middle;\n",
              "    }\n",
              "\n",
              "    .dataframe tbody tr th {\n",
              "        vertical-align: top;\n",
              "    }\n",
              "\n",
              "    .dataframe thead th {\n",
              "        text-align: right;\n",
              "    }\n",
              "</style>\n",
              "<table border=\"1\" class=\"dataframe\">\n",
              "  <thead>\n",
              "    <tr style=\"text-align: right;\">\n",
              "      <th></th>\n",
              "      <th>id</th>\n",
              "      <th>bin_0</th>\n",
              "      <th>bin_1</th>\n",
              "      <th>bin_2</th>\n",
              "      <th>bin_3</th>\n",
              "      <th>bin_4</th>\n",
              "      <th>nom_0</th>\n",
              "      <th>nom_1</th>\n",
              "      <th>nom_2</th>\n",
              "      <th>nom_3</th>\n",
              "      <th>nom_4</th>\n",
              "      <th>nom_5</th>\n",
              "      <th>nom_6</th>\n",
              "      <th>nom_7</th>\n",
              "      <th>nom_8</th>\n",
              "      <th>nom_9</th>\n",
              "      <th>ord_0</th>\n",
              "      <th>ord_1</th>\n",
              "      <th>ord_2</th>\n",
              "      <th>ord_3</th>\n",
              "      <th>ord_4</th>\n",
              "      <th>ord_5</th>\n",
              "      <th>day</th>\n",
              "      <th>month</th>\n",
              "      <th>target</th>\n",
              "    </tr>\n",
              "  </thead>\n",
              "  <tbody>\n",
              "    <tr>\n",
              "      <th>0</th>\n",
              "      <td>0</td>\n",
              "      <td>0</td>\n",
              "      <td>0</td>\n",
              "      <td>0</td>\n",
              "      <td>T</td>\n",
              "      <td>Y</td>\n",
              "      <td>Green</td>\n",
              "      <td>Triangle</td>\n",
              "      <td>Snake</td>\n",
              "      <td>Finland</td>\n",
              "      <td>Bassoon</td>\n",
              "      <td>50f116bcf</td>\n",
              "      <td>3ac1b8814</td>\n",
              "      <td>68f6ad3e9</td>\n",
              "      <td>c389000ab</td>\n",
              "      <td>2f4cb3d51</td>\n",
              "      <td>2</td>\n",
              "      <td>Grandmaster</td>\n",
              "      <td>Cold</td>\n",
              "      <td>h</td>\n",
              "      <td>D</td>\n",
              "      <td>kr</td>\n",
              "      <td>2</td>\n",
              "      <td>2</td>\n",
              "      <td>0</td>\n",
              "    </tr>\n",
              "    <tr>\n",
              "      <th>1</th>\n",
              "      <td>1</td>\n",
              "      <td>0</td>\n",
              "      <td>1</td>\n",
              "      <td>0</td>\n",
              "      <td>T</td>\n",
              "      <td>Y</td>\n",
              "      <td>Green</td>\n",
              "      <td>Trapezoid</td>\n",
              "      <td>Hamster</td>\n",
              "      <td>Russia</td>\n",
              "      <td>Piano</td>\n",
              "      <td>b3b4d25d0</td>\n",
              "      <td>fbcb50fc1</td>\n",
              "      <td>3b6dd5612</td>\n",
              "      <td>4cd920251</td>\n",
              "      <td>f83c56c21</td>\n",
              "      <td>1</td>\n",
              "      <td>Grandmaster</td>\n",
              "      <td>Hot</td>\n",
              "      <td>a</td>\n",
              "      <td>A</td>\n",
              "      <td>bF</td>\n",
              "      <td>7</td>\n",
              "      <td>8</td>\n",
              "      <td>0</td>\n",
              "    </tr>\n",
              "    <tr>\n",
              "      <th>2</th>\n",
              "      <td>2</td>\n",
              "      <td>0</td>\n",
              "      <td>0</td>\n",
              "      <td>0</td>\n",
              "      <td>F</td>\n",
              "      <td>Y</td>\n",
              "      <td>Blue</td>\n",
              "      <td>Trapezoid</td>\n",
              "      <td>Lion</td>\n",
              "      <td>Russia</td>\n",
              "      <td>Theremin</td>\n",
              "      <td>3263bdce5</td>\n",
              "      <td>0922e3cb8</td>\n",
              "      <td>a6a36f527</td>\n",
              "      <td>de9c9f684</td>\n",
              "      <td>ae6800dd0</td>\n",
              "      <td>1</td>\n",
              "      <td>Expert</td>\n",
              "      <td>Lava Hot</td>\n",
              "      <td>h</td>\n",
              "      <td>R</td>\n",
              "      <td>Jc</td>\n",
              "      <td>7</td>\n",
              "      <td>2</td>\n",
              "      <td>0</td>\n",
              "    </tr>\n",
              "    <tr>\n",
              "      <th>3</th>\n",
              "      <td>3</td>\n",
              "      <td>0</td>\n",
              "      <td>1</td>\n",
              "      <td>0</td>\n",
              "      <td>F</td>\n",
              "      <td>Y</td>\n",
              "      <td>Red</td>\n",
              "      <td>Trapezoid</td>\n",
              "      <td>Snake</td>\n",
              "      <td>Canada</td>\n",
              "      <td>Oboe</td>\n",
              "      <td>f12246592</td>\n",
              "      <td>50d7ad46a</td>\n",
              "      <td>ec69236eb</td>\n",
              "      <td>4ade6ab69</td>\n",
              "      <td>8270f0d71</td>\n",
              "      <td>1</td>\n",
              "      <td>Grandmaster</td>\n",
              "      <td>Boiling Hot</td>\n",
              "      <td>i</td>\n",
              "      <td>D</td>\n",
              "      <td>kW</td>\n",
              "      <td>2</td>\n",
              "      <td>1</td>\n",
              "      <td>1</td>\n",
              "    </tr>\n",
              "    <tr>\n",
              "      <th>4</th>\n",
              "      <td>4</td>\n",
              "      <td>0</td>\n",
              "      <td>0</td>\n",
              "      <td>0</td>\n",
              "      <td>F</td>\n",
              "      <td>N</td>\n",
              "      <td>Red</td>\n",
              "      <td>Trapezoid</td>\n",
              "      <td>Lion</td>\n",
              "      <td>Canada</td>\n",
              "      <td>Oboe</td>\n",
              "      <td>5b0f5acd5</td>\n",
              "      <td>1fe17a1fd</td>\n",
              "      <td>04ddac2be</td>\n",
              "      <td>cb43ab175</td>\n",
              "      <td>b164b72a7</td>\n",
              "      <td>1</td>\n",
              "      <td>Grandmaster</td>\n",
              "      <td>Freezing</td>\n",
              "      <td>a</td>\n",
              "      <td>R</td>\n",
              "      <td>qP</td>\n",
              "      <td>7</td>\n",
              "      <td>8</td>\n",
              "      <td>0</td>\n",
              "    </tr>\n",
              "  </tbody>\n",
              "</table>\n",
              "</div>"
            ],
            "text/plain": [
              "   id  bin_0  bin_1  bin_2 bin_3 bin_4  ... ord_3 ord_4 ord_5 day month target\n",
              "0   0      0      0      0     T     Y  ...     h     D    kr   2     2      0\n",
              "1   1      0      1      0     T     Y  ...     a     A    bF   7     8      0\n",
              "2   2      0      0      0     F     Y  ...     h     R    Jc   7     2      0\n",
              "3   3      0      1      0     F     Y  ...     i     D    kW   2     1      1\n",
              "4   4      0      0      0     F     N  ...     a     R    qP   7     8      0\n",
              "\n",
              "[5 rows x 25 columns]"
            ]
          },
          "metadata": {
            "tags": []
          },
          "execution_count": 4
        }
      ]
    },
    {
      "cell_type": "code",
      "metadata": {
        "id": "RXjHb9ar89jj",
        "colab": {
          "base_uri": "https://localhost:8080/"
        },
        "outputId": "c59dfd64-cea2-4325-b4d4-77668c19896b"
      },
      "source": [
        "print(df.columns)\r\n",
        "print(df.shape)\r\n",
        "print(df.info())"
      ],
      "execution_count": null,
      "outputs": [
        {
          "output_type": "stream",
          "text": [
            "Index(['id', 'bin_0', 'bin_1', 'bin_2', 'bin_3', 'bin_4', 'nom_0', 'nom_1',\n",
            "       'nom_2', 'nom_3', 'nom_4', 'nom_5', 'nom_6', 'nom_7', 'nom_8', 'nom_9',\n",
            "       'ord_0', 'ord_1', 'ord_2', 'ord_3', 'ord_4', 'ord_5', 'day', 'month',\n",
            "       'target'],\n",
            "      dtype='object')\n",
            "(300000, 25)\n",
            "<class 'pandas.core.frame.DataFrame'>\n",
            "RangeIndex: 300000 entries, 0 to 299999\n",
            "Data columns (total 25 columns):\n",
            " #   Column  Non-Null Count   Dtype \n",
            "---  ------  --------------   ----- \n",
            " 0   id      300000 non-null  int64 \n",
            " 1   bin_0   300000 non-null  int64 \n",
            " 2   bin_1   300000 non-null  int64 \n",
            " 3   bin_2   300000 non-null  int64 \n",
            " 4   bin_3   300000 non-null  object\n",
            " 5   bin_4   300000 non-null  object\n",
            " 6   nom_0   300000 non-null  object\n",
            " 7   nom_1   300000 non-null  object\n",
            " 8   nom_2   300000 non-null  object\n",
            " 9   nom_3   300000 non-null  object\n",
            " 10  nom_4   300000 non-null  object\n",
            " 11  nom_5   300000 non-null  object\n",
            " 12  nom_6   300000 non-null  object\n",
            " 13  nom_7   300000 non-null  object\n",
            " 14  nom_8   300000 non-null  object\n",
            " 15  nom_9   300000 non-null  object\n",
            " 16  ord_0   300000 non-null  int64 \n",
            " 17  ord_1   300000 non-null  object\n",
            " 18  ord_2   300000 non-null  object\n",
            " 19  ord_3   300000 non-null  object\n",
            " 20  ord_4   300000 non-null  object\n",
            " 21  ord_5   300000 non-null  object\n",
            " 22  day     300000 non-null  int64 \n",
            " 23  month   300000 non-null  int64 \n",
            " 24  target  300000 non-null  int64 \n",
            "dtypes: int64(8), object(17)\n",
            "memory usage: 57.2+ MB\n",
            "None\n"
          ],
          "name": "stdout"
        }
      ]
    },
    {
      "cell_type": "code",
      "metadata": {
        "id": "OCaV1BjW89mp",
        "colab": {
          "base_uri": "https://localhost:8080/"
        },
        "outputId": "45d2977c-7fc9-4297-ac8f-46d093e83bfd"
      },
      "source": [
        "print(f\"String type columns are:\\n{df.select_dtypes(include='object').columns}\\n\")\r\n",
        "print(f\"non string type columns are:\\n{df.select_dtypes(exclude='object').columns}\\n\")\r\n",
        "print(f\"integer type columns are:\\n{df.select_dtypes(include='int').columns}\\n\")\r\n",
        "print(f\"float type columns are:\\n{df.select_dtypes(include='float').columns}\\n\")"
      ],
      "execution_count": null,
      "outputs": [
        {
          "output_type": "stream",
          "text": [
            "String type columns are:\n",
            "Index(['bin_3', 'bin_4', 'nom_0', 'nom_1', 'nom_2', 'nom_3', 'nom_4', 'nom_5',\n",
            "       'nom_6', 'nom_7', 'nom_8', 'nom_9', 'ord_1', 'ord_2', 'ord_3', 'ord_4',\n",
            "       'ord_5'],\n",
            "      dtype='object')\n",
            "\n",
            "non string type columns are:\n",
            "Index(['id', 'bin_0', 'bin_1', 'bin_2', 'ord_0', 'day', 'month', 'target'], dtype='object')\n",
            "\n",
            "integer type columns are:\n",
            "Index(['id', 'bin_0', 'bin_1', 'bin_2', 'ord_0', 'day', 'month', 'target'], dtype='object')\n",
            "\n",
            "float type columns are:\n",
            "Index([], dtype='object')\n",
            "\n"
          ],
          "name": "stdout"
        }
      ]
    },
    {
      "cell_type": "code",
      "metadata": {
        "id": "ikBmZ9co89pp",
        "colab": {
          "base_uri": "https://localhost:8080/",
          "height": 249
        },
        "outputId": "6267e1ed-5818-404b-c985-751269ee04b0"
      },
      "source": [
        "# drop unnecessary columns\r\n",
        "df.drop(df.iloc[:, 11:16], axis=1, inplace=True)\r\n",
        "df.head()\r\n"
      ],
      "execution_count": null,
      "outputs": [
        {
          "output_type": "execute_result",
          "data": {
            "text/html": [
              "<div>\n",
              "<style scoped>\n",
              "    .dataframe tbody tr th:only-of-type {\n",
              "        vertical-align: middle;\n",
              "    }\n",
              "\n",
              "    .dataframe tbody tr th {\n",
              "        vertical-align: top;\n",
              "    }\n",
              "\n",
              "    .dataframe thead th {\n",
              "        text-align: right;\n",
              "    }\n",
              "</style>\n",
              "<table border=\"1\" class=\"dataframe\">\n",
              "  <thead>\n",
              "    <tr style=\"text-align: right;\">\n",
              "      <th></th>\n",
              "      <th>id</th>\n",
              "      <th>bin_0</th>\n",
              "      <th>bin_1</th>\n",
              "      <th>bin_2</th>\n",
              "      <th>bin_3</th>\n",
              "      <th>bin_4</th>\n",
              "      <th>nom_0</th>\n",
              "      <th>nom_1</th>\n",
              "      <th>nom_2</th>\n",
              "      <th>nom_3</th>\n",
              "      <th>nom_4</th>\n",
              "      <th>ord_0</th>\n",
              "      <th>ord_1</th>\n",
              "      <th>ord_2</th>\n",
              "      <th>ord_3</th>\n",
              "      <th>ord_4</th>\n",
              "      <th>ord_5</th>\n",
              "      <th>day</th>\n",
              "      <th>month</th>\n",
              "      <th>target</th>\n",
              "    </tr>\n",
              "  </thead>\n",
              "  <tbody>\n",
              "    <tr>\n",
              "      <th>0</th>\n",
              "      <td>0</td>\n",
              "      <td>0</td>\n",
              "      <td>0</td>\n",
              "      <td>0</td>\n",
              "      <td>T</td>\n",
              "      <td>Y</td>\n",
              "      <td>Green</td>\n",
              "      <td>Triangle</td>\n",
              "      <td>Snake</td>\n",
              "      <td>Finland</td>\n",
              "      <td>Bassoon</td>\n",
              "      <td>2</td>\n",
              "      <td>Grandmaster</td>\n",
              "      <td>Cold</td>\n",
              "      <td>h</td>\n",
              "      <td>D</td>\n",
              "      <td>kr</td>\n",
              "      <td>2</td>\n",
              "      <td>2</td>\n",
              "      <td>0</td>\n",
              "    </tr>\n",
              "    <tr>\n",
              "      <th>1</th>\n",
              "      <td>1</td>\n",
              "      <td>0</td>\n",
              "      <td>1</td>\n",
              "      <td>0</td>\n",
              "      <td>T</td>\n",
              "      <td>Y</td>\n",
              "      <td>Green</td>\n",
              "      <td>Trapezoid</td>\n",
              "      <td>Hamster</td>\n",
              "      <td>Russia</td>\n",
              "      <td>Piano</td>\n",
              "      <td>1</td>\n",
              "      <td>Grandmaster</td>\n",
              "      <td>Hot</td>\n",
              "      <td>a</td>\n",
              "      <td>A</td>\n",
              "      <td>bF</td>\n",
              "      <td>7</td>\n",
              "      <td>8</td>\n",
              "      <td>0</td>\n",
              "    </tr>\n",
              "    <tr>\n",
              "      <th>2</th>\n",
              "      <td>2</td>\n",
              "      <td>0</td>\n",
              "      <td>0</td>\n",
              "      <td>0</td>\n",
              "      <td>F</td>\n",
              "      <td>Y</td>\n",
              "      <td>Blue</td>\n",
              "      <td>Trapezoid</td>\n",
              "      <td>Lion</td>\n",
              "      <td>Russia</td>\n",
              "      <td>Theremin</td>\n",
              "      <td>1</td>\n",
              "      <td>Expert</td>\n",
              "      <td>Lava Hot</td>\n",
              "      <td>h</td>\n",
              "      <td>R</td>\n",
              "      <td>Jc</td>\n",
              "      <td>7</td>\n",
              "      <td>2</td>\n",
              "      <td>0</td>\n",
              "    </tr>\n",
              "    <tr>\n",
              "      <th>3</th>\n",
              "      <td>3</td>\n",
              "      <td>0</td>\n",
              "      <td>1</td>\n",
              "      <td>0</td>\n",
              "      <td>F</td>\n",
              "      <td>Y</td>\n",
              "      <td>Red</td>\n",
              "      <td>Trapezoid</td>\n",
              "      <td>Snake</td>\n",
              "      <td>Canada</td>\n",
              "      <td>Oboe</td>\n",
              "      <td>1</td>\n",
              "      <td>Grandmaster</td>\n",
              "      <td>Boiling Hot</td>\n",
              "      <td>i</td>\n",
              "      <td>D</td>\n",
              "      <td>kW</td>\n",
              "      <td>2</td>\n",
              "      <td>1</td>\n",
              "      <td>1</td>\n",
              "    </tr>\n",
              "    <tr>\n",
              "      <th>4</th>\n",
              "      <td>4</td>\n",
              "      <td>0</td>\n",
              "      <td>0</td>\n",
              "      <td>0</td>\n",
              "      <td>F</td>\n",
              "      <td>N</td>\n",
              "      <td>Red</td>\n",
              "      <td>Trapezoid</td>\n",
              "      <td>Lion</td>\n",
              "      <td>Canada</td>\n",
              "      <td>Oboe</td>\n",
              "      <td>1</td>\n",
              "      <td>Grandmaster</td>\n",
              "      <td>Freezing</td>\n",
              "      <td>a</td>\n",
              "      <td>R</td>\n",
              "      <td>qP</td>\n",
              "      <td>7</td>\n",
              "      <td>8</td>\n",
              "      <td>0</td>\n",
              "    </tr>\n",
              "  </tbody>\n",
              "</table>\n",
              "</div>"
            ],
            "text/plain": [
              "   id  bin_0  bin_1  bin_2 bin_3 bin_4  ... ord_3 ord_4 ord_5 day month  target\n",
              "0   0      0      0      0     T     Y  ...     h     D    kr   2     2       0\n",
              "1   1      0      1      0     T     Y  ...     a     A    bF   7     8       0\n",
              "2   2      0      0      0     F     Y  ...     h     R    Jc   7     2       0\n",
              "3   3      0      1      0     F     Y  ...     i     D    kW   2     1       1\n",
              "4   4      0      0      0     F     N  ...     a     R    qP   7     8       0\n",
              "\n",
              "[5 rows x 20 columns]"
            ]
          },
          "metadata": {
            "tags": []
          },
          "execution_count": 5
        }
      ]
    },
    {
      "cell_type": "code",
      "metadata": {
        "id": "BblEPMs1AzmI"
      },
      "source": [
        ""
      ],
      "execution_count": null,
      "outputs": []
    },
    {
      "cell_type": "markdown",
      "metadata": {
        "id": "JrFGL0OwCBR9"
      },
      "source": [
        "## Exploratory"
      ]
    },
    {
      "cell_type": "code",
      "metadata": {
        "colab": {
          "base_uri": "https://localhost:8080/"
        },
        "id": "h6KTxL5VAz_i",
        "outputId": "ababe1be-c059-46f6-c3e3-4208264cc1db"
      },
      "source": [
        "# no null values\r\n",
        "[val for val in df.isna().sum().values if val>0]"
      ],
      "execution_count": null,
      "outputs": [
        {
          "output_type": "execute_result",
          "data": {
            "text/plain": [
              "[]"
            ]
          },
          "metadata": {
            "tags": []
          },
          "execution_count": 59
        }
      ]
    },
    {
      "cell_type": "code",
      "metadata": {
        "colab": {
          "base_uri": "https://localhost:8080/",
          "height": 254
        },
        "id": "Q6RtC3OJA0E0",
        "outputId": "2ee53cf6-721d-40d6-a855-73973bea0737"
      },
      "source": [
        "df.describe().T"
      ],
      "execution_count": null,
      "outputs": [
        {
          "output_type": "execute_result",
          "data": {
            "text/html": [
              "<div>\n",
              "<style scoped>\n",
              "    .dataframe tbody tr th:only-of-type {\n",
              "        vertical-align: middle;\n",
              "    }\n",
              "\n",
              "    .dataframe tbody tr th {\n",
              "        vertical-align: top;\n",
              "    }\n",
              "\n",
              "    .dataframe thead th {\n",
              "        text-align: right;\n",
              "    }\n",
              "</style>\n",
              "<table border=\"1\" class=\"dataframe\">\n",
              "  <thead>\n",
              "    <tr style=\"text-align: right;\">\n",
              "      <th></th>\n",
              "      <th>count</th>\n",
              "      <th>mean</th>\n",
              "      <th>std</th>\n",
              "      <th>min</th>\n",
              "      <th>25%</th>\n",
              "      <th>50%</th>\n",
              "      <th>75%</th>\n",
              "      <th>max</th>\n",
              "    </tr>\n",
              "  </thead>\n",
              "  <tbody>\n",
              "    <tr>\n",
              "      <th>id</th>\n",
              "      <td>300000.0</td>\n",
              "      <td>149999.500000</td>\n",
              "      <td>86602.684716</td>\n",
              "      <td>0.0</td>\n",
              "      <td>74999.75</td>\n",
              "      <td>149999.5</td>\n",
              "      <td>224999.25</td>\n",
              "      <td>299999.0</td>\n",
              "    </tr>\n",
              "    <tr>\n",
              "      <th>bin_0</th>\n",
              "      <td>300000.0</td>\n",
              "      <td>0.127503</td>\n",
              "      <td>0.333537</td>\n",
              "      <td>0.0</td>\n",
              "      <td>0.00</td>\n",
              "      <td>0.0</td>\n",
              "      <td>0.00</td>\n",
              "      <td>1.0</td>\n",
              "    </tr>\n",
              "    <tr>\n",
              "      <th>bin_1</th>\n",
              "      <td>300000.0</td>\n",
              "      <td>0.256607</td>\n",
              "      <td>0.436761</td>\n",
              "      <td>0.0</td>\n",
              "      <td>0.00</td>\n",
              "      <td>0.0</td>\n",
              "      <td>1.00</td>\n",
              "      <td>1.0</td>\n",
              "    </tr>\n",
              "    <tr>\n",
              "      <th>bin_2</th>\n",
              "      <td>300000.0</td>\n",
              "      <td>0.383223</td>\n",
              "      <td>0.486173</td>\n",
              "      <td>0.0</td>\n",
              "      <td>0.00</td>\n",
              "      <td>0.0</td>\n",
              "      <td>1.00</td>\n",
              "      <td>1.0</td>\n",
              "    </tr>\n",
              "    <tr>\n",
              "      <th>day</th>\n",
              "      <td>300000.0</td>\n",
              "      <td>3.007817</td>\n",
              "      <td>1.817949</td>\n",
              "      <td>1.0</td>\n",
              "      <td>2.00</td>\n",
              "      <td>3.0</td>\n",
              "      <td>4.00</td>\n",
              "      <td>7.0</td>\n",
              "    </tr>\n",
              "    <tr>\n",
              "      <th>month</th>\n",
              "      <td>300000.0</td>\n",
              "      <td>5.771113</td>\n",
              "      <td>3.843519</td>\n",
              "      <td>1.0</td>\n",
              "      <td>2.00</td>\n",
              "      <td>4.0</td>\n",
              "      <td>9.00</td>\n",
              "      <td>12.0</td>\n",
              "    </tr>\n",
              "    <tr>\n",
              "      <th>target</th>\n",
              "      <td>300000.0</td>\n",
              "      <td>0.305880</td>\n",
              "      <td>0.460780</td>\n",
              "      <td>0.0</td>\n",
              "      <td>0.00</td>\n",
              "      <td>0.0</td>\n",
              "      <td>1.00</td>\n",
              "      <td>1.0</td>\n",
              "    </tr>\n",
              "  </tbody>\n",
              "</table>\n",
              "</div>"
            ],
            "text/plain": [
              "           count           mean           std  ...       50%        75%       max\n",
              "id      300000.0  149999.500000  86602.684716  ...  149999.5  224999.25  299999.0\n",
              "bin_0   300000.0       0.127503      0.333537  ...       0.0       0.00       1.0\n",
              "bin_1   300000.0       0.256607      0.436761  ...       0.0       1.00       1.0\n",
              "bin_2   300000.0       0.383223      0.486173  ...       0.0       1.00       1.0\n",
              "day     300000.0       3.007817      1.817949  ...       3.0       4.00       7.0\n",
              "month   300000.0       5.771113      3.843519  ...       4.0       9.00      12.0\n",
              "target  300000.0       0.305880      0.460780  ...       0.0       1.00       1.0\n",
              "\n",
              "[7 rows x 8 columns]"
            ]
          },
          "metadata": {
            "tags": []
          },
          "execution_count": 62
        }
      ]
    },
    {
      "cell_type": "code",
      "metadata": {
        "colab": {
          "base_uri": "https://localhost:8080/",
          "height": 525
        },
        "id": "ZY2ayyDOA0Im",
        "outputId": "87739443-454e-4177-9b60-022f4f5b79aa"
      },
      "source": [
        "# fig, axes = plt.subplots(nrows=2, ncols=3, figsize=(22,10))\r\n",
        "fig, axes = plt.subplots(2, 3, figsize=(22,10))\r\n",
        "k=5\r\n",
        "for i in range(2):\r\n",
        "  for j in range(3):\r\n",
        "    sns.countplot(x=df.iloc[:,k], ax=axes[i,j])\r\n",
        "    k+=1\r\n",
        "plt.show()"
      ],
      "execution_count": null,
      "outputs": [
        {
          "output_type": "display_data",
          "data": {
            "image/png": "[encoded data removed]",
            "text/plain": [
              "<Figure size 1584x720 with 6 Axes>"
            ]
          },
          "metadata": {
            "tags": [],
            "needs_background": "light"
          }
        }
      ]
    },
    {
      "cell_type": "code",
      "metadata": {
        "colab": {
          "base_uri": "https://localhost:8080/",
          "height": 195
        },
        "id": "rbhZbr7ZA0Ly",
        "outputId": "c3249a28-215c-49b2-ca61-e0c42cc33ba2"
      },
      "source": [
        "df.loc[:, ['bin_0', 'bin_1','bin_2']].head()\r\n"
      ],
      "execution_count": null,
      "outputs": [
        {
          "output_type": "execute_result",
          "data": {
            "text/html": [
              "<div>\n",
              "<style scoped>\n",
              "    .dataframe tbody tr th:only-of-type {\n",
              "        vertical-align: middle;\n",
              "    }\n",
              "\n",
              "    .dataframe tbody tr th {\n",
              "        vertical-align: top;\n",
              "    }\n",
              "\n",
              "    .dataframe thead th {\n",
              "        text-align: right;\n",
              "    }\n",
              "</style>\n",
              "<table border=\"1\" class=\"dataframe\">\n",
              "  <thead>\n",
              "    <tr style=\"text-align: right;\">\n",
              "      <th></th>\n",
              "      <th>bin_0</th>\n",
              "      <th>bin_1</th>\n",
              "      <th>bin_2</th>\n",
              "    </tr>\n",
              "  </thead>\n",
              "  <tbody>\n",
              "    <tr>\n",
              "      <th>0</th>\n",
              "      <td>0</td>\n",
              "      <td>0</td>\n",
              "      <td>0</td>\n",
              "    </tr>\n",
              "    <tr>\n",
              "      <th>1</th>\n",
              "      <td>0</td>\n",
              "      <td>1</td>\n",
              "      <td>0</td>\n",
              "    </tr>\n",
              "    <tr>\n",
              "      <th>2</th>\n",
              "      <td>0</td>\n",
              "      <td>0</td>\n",
              "      <td>0</td>\n",
              "    </tr>\n",
              "    <tr>\n",
              "      <th>3</th>\n",
              "      <td>0</td>\n",
              "      <td>1</td>\n",
              "      <td>0</td>\n",
              "    </tr>\n",
              "    <tr>\n",
              "      <th>4</th>\n",
              "      <td>0</td>\n",
              "      <td>0</td>\n",
              "      <td>0</td>\n",
              "    </tr>\n",
              "  </tbody>\n",
              "</table>\n",
              "</div>"
            ],
            "text/plain": [
              "   bin_0  bin_1  bin_2\n",
              "0      0      0      0\n",
              "1      0      1      0\n",
              "2      0      0      0\n",
              "3      0      1      0\n",
              "4      0      0      0"
            ]
          },
          "metadata": {
            "tags": []
          },
          "execution_count": 89
        }
      ]
    },
    {
      "cell_type": "code",
      "metadata": {
        "id": "3LQXrA_SA0Oy"
      },
      "source": [
        ""
      ],
      "execution_count": null,
      "outputs": []
    },
    {
      "cell_type": "markdown",
      "metadata": {
        "id": "b9SEX3hUTc5h"
      },
      "source": [
        "## Modelling"
      ]
    },
    {
      "cell_type": "code",
      "metadata": {
        "colab": {
          "base_uri": "https://localhost:8080/",
          "height": 249
        },
        "id": "vFCP6kHwaroB",
        "outputId": "87949f2c-6dc8-44a8-999f-0d5edf1413be"
      },
      "source": [
        "# To run it online and faster the data needs to be truncated to smaller size\r\n",
        "\r\n",
        "df = df[:10000]\r\n",
        "df.tail()"
      ],
      "execution_count": null,
      "outputs": [
        {
          "output_type": "execute_result",
          "data": {
            "text/html": [
              "<div>\n",
              "<style scoped>\n",
              "    .dataframe tbody tr th:only-of-type {\n",
              "        vertical-align: middle;\n",
              "    }\n",
              "\n",
              "    .dataframe tbody tr th {\n",
              "        vertical-align: top;\n",
              "    }\n",
              "\n",
              "    .dataframe thead th {\n",
              "        text-align: right;\n",
              "    }\n",
              "</style>\n",
              "<table border=\"1\" class=\"dataframe\">\n",
              "  <thead>\n",
              "    <tr style=\"text-align: right;\">\n",
              "      <th></th>\n",
              "      <th>id</th>\n",
              "      <th>bin_0</th>\n",
              "      <th>bin_1</th>\n",
              "      <th>bin_2</th>\n",
              "      <th>bin_3</th>\n",
              "      <th>bin_4</th>\n",
              "      <th>nom_0</th>\n",
              "      <th>nom_1</th>\n",
              "      <th>nom_2</th>\n",
              "      <th>nom_3</th>\n",
              "      <th>nom_4</th>\n",
              "      <th>ord_0</th>\n",
              "      <th>ord_1</th>\n",
              "      <th>ord_2</th>\n",
              "      <th>ord_3</th>\n",
              "      <th>ord_4</th>\n",
              "      <th>ord_5</th>\n",
              "      <th>day</th>\n",
              "      <th>month</th>\n",
              "      <th>target</th>\n",
              "    </tr>\n",
              "  </thead>\n",
              "  <tbody>\n",
              "    <tr>\n",
              "      <th>9995</th>\n",
              "      <td>9995</td>\n",
              "      <td>0</td>\n",
              "      <td>1</td>\n",
              "      <td>0</td>\n",
              "      <td>F</td>\n",
              "      <td>Y</td>\n",
              "      <td>Blue</td>\n",
              "      <td>Trapezoid</td>\n",
              "      <td>Lion</td>\n",
              "      <td>Russia</td>\n",
              "      <td>Oboe</td>\n",
              "      <td>3</td>\n",
              "      <td>Novice</td>\n",
              "      <td>Freezing</td>\n",
              "      <td>f</td>\n",
              "      <td>U</td>\n",
              "      <td>LE</td>\n",
              "      <td>1</td>\n",
              "      <td>2</td>\n",
              "      <td>0</td>\n",
              "    </tr>\n",
              "    <tr>\n",
              "      <th>9996</th>\n",
              "      <td>9996</td>\n",
              "      <td>0</td>\n",
              "      <td>1</td>\n",
              "      <td>1</td>\n",
              "      <td>T</td>\n",
              "      <td>N</td>\n",
              "      <td>Green</td>\n",
              "      <td>Circle</td>\n",
              "      <td>Axolotl</td>\n",
              "      <td>Costa Rica</td>\n",
              "      <td>Bassoon</td>\n",
              "      <td>2</td>\n",
              "      <td>Contributor</td>\n",
              "      <td>Hot</td>\n",
              "      <td>l</td>\n",
              "      <td>V</td>\n",
              "      <td>lL</td>\n",
              "      <td>7</td>\n",
              "      <td>4</td>\n",
              "      <td>1</td>\n",
              "    </tr>\n",
              "    <tr>\n",
              "      <th>9997</th>\n",
              "      <td>9997</td>\n",
              "      <td>0</td>\n",
              "      <td>1</td>\n",
              "      <td>1</td>\n",
              "      <td>T</td>\n",
              "      <td>Y</td>\n",
              "      <td>Red</td>\n",
              "      <td>Polygon</td>\n",
              "      <td>Cat</td>\n",
              "      <td>India</td>\n",
              "      <td>Theremin</td>\n",
              "      <td>1</td>\n",
              "      <td>Novice</td>\n",
              "      <td>Boiling Hot</td>\n",
              "      <td>e</td>\n",
              "      <td>F</td>\n",
              "      <td>wu</td>\n",
              "      <td>1</td>\n",
              "      <td>8</td>\n",
              "      <td>1</td>\n",
              "    </tr>\n",
              "    <tr>\n",
              "      <th>9998</th>\n",
              "      <td>9998</td>\n",
              "      <td>0</td>\n",
              "      <td>0</td>\n",
              "      <td>1</td>\n",
              "      <td>T</td>\n",
              "      <td>Y</td>\n",
              "      <td>Red</td>\n",
              "      <td>Trapezoid</td>\n",
              "      <td>Lion</td>\n",
              "      <td>Canada</td>\n",
              "      <td>Piano</td>\n",
              "      <td>2</td>\n",
              "      <td>Grandmaster</td>\n",
              "      <td>Freezing</td>\n",
              "      <td>a</td>\n",
              "      <td>H</td>\n",
              "      <td>xy</td>\n",
              "      <td>4</td>\n",
              "      <td>4</td>\n",
              "      <td>0</td>\n",
              "    </tr>\n",
              "    <tr>\n",
              "      <th>9999</th>\n",
              "      <td>9999</td>\n",
              "      <td>0</td>\n",
              "      <td>0</td>\n",
              "      <td>0</td>\n",
              "      <td>T</td>\n",
              "      <td>Y</td>\n",
              "      <td>Red</td>\n",
              "      <td>Star</td>\n",
              "      <td>Lion</td>\n",
              "      <td>India</td>\n",
              "      <td>Oboe</td>\n",
              "      <td>1</td>\n",
              "      <td>Grandmaster</td>\n",
              "      <td>Freezing</td>\n",
              "      <td>d</td>\n",
              "      <td>L</td>\n",
              "      <td>dO</td>\n",
              "      <td>2</td>\n",
              "      <td>9</td>\n",
              "      <td>0</td>\n",
              "    </tr>\n",
              "  </tbody>\n",
              "</table>\n",
              "</div>"
            ],
            "text/plain": [
              "        id  bin_0  bin_1  bin_2 bin_3  ... ord_4 ord_5 day month target\n",
              "9995  9995      0      1      0     F  ...     U    LE   1     2      0\n",
              "9996  9996      0      1      1     T  ...     V    lL   7     4      1\n",
              "9997  9997      0      1      1     T  ...     F    wu   1     8      1\n",
              "9998  9998      0      0      1     T  ...     H    xy   4     4      0\n",
              "9999  9999      0      0      0     T  ...     L    dO   2     9      0\n",
              "\n",
              "[5 rows x 20 columns]"
            ]
          },
          "metadata": {
            "tags": []
          },
          "execution_count": 6
        }
      ]
    },
    {
      "cell_type": "code",
      "metadata": {
        "id": "68B7GD5NA0Rv"
      },
      "source": [
        "# my features and Target \r\n",
        "X = df.drop(columns=['id', 'target'])\r\n",
        "y = df['target']"
      ],
      "execution_count": null,
      "outputs": []
    },
    {
      "cell_type": "code",
      "metadata": {
        "id": "qorCSa8W89sZ"
      },
      "source": [
        "from sklearn.model_selection import train_test_split\r\n",
        "from sklearn.linear_model import LogisticRegression\r\n",
        "from sklearn.model_selection import KFold\r\n",
        "from sklearn.svm import SVC, SVR\r\n",
        "from sklearn.ensemble import RandomForestRegressor\r\n",
        "from sklearn.tree import DecisionTreeClassifier"
      ],
      "execution_count": null,
      "outputs": []
    },
    {
      "cell_type": "code",
      "metadata": {
        "id": "tpCbddrX89vI",
        "colab": {
          "base_uri": "https://localhost:8080/"
        },
        "outputId": "5744ace7-7480-4b03-fbfc-964f6b292f0c"
      },
      "source": [
        "X_train, X_test, y_train, y_test = train_test_split(X, y, test_size = 0.25, random_state=1)\r\n",
        "print(X_train.shape, X_test.shape)\r\n",
        "print(y_train.shape, y_test.shape)"
      ],
      "execution_count": null,
      "outputs": [
        {
          "output_type": "stream",
          "text": [
            "(7500, 18) (2500, 18)\n",
            "(7500,) (2500,)\n"
          ],
          "name": "stdout"
        }
      ]
    },
    {
      "cell_type": "code",
      "metadata": {
        "colab": {
          "base_uri": "https://localhost:8080/"
        },
        "id": "eG8mJGllWyNm",
        "outputId": "ba03ed61-76a5-4230-94fd-b067ca3afcc5"
      },
      "source": [
        "X.columns"
      ],
      "execution_count": null,
      "outputs": [
        {
          "output_type": "execute_result",
          "data": {
            "text/plain": [
              "Index(['bin_0', 'bin_1', 'bin_2', 'bin_3', 'bin_4', 'nom_0', 'nom_1', 'nom_2',\n",
              "       'nom_3', 'nom_4', 'ord_0', 'ord_1', 'ord_2', 'ord_3', 'ord_4', 'ord_5',\n",
              "       'day', 'month'],\n",
              "      dtype='object')"
            ]
          },
          "metadata": {
            "tags": []
          },
          "execution_count": 10
        }
      ]
    },
    {
      "cell_type": "markdown",
      "metadata": {
        "id": "0Fh9Dcy5XO-R"
      },
      "source": [
        "#### Column Transformers, Pipeline and Prediction"
      ]
    },
    {
      "cell_type": "code",
      "metadata": {
        "id": "_P8Hca6M89xt"
      },
      "source": [
        "cat_cols = X.select_dtypes(include='object').columns\r\n",
        "num_cols = X.select_dtypes(exclude='object').columns"
      ],
      "execution_count": null,
      "outputs": []
    },
    {
      "cell_type": "code",
      "metadata": {
        "id": "vQXorh1b8930"
      },
      "source": [
        "from sklearn.preprocessing import OneHotEncoder, MinMaxScaler, RobustScaler\r\n",
        "from sklearn.compose import ColumnTransformer"
      ],
      "execution_count": null,
      "outputs": []
    },
    {
      "cell_type": "code",
      "metadata": {
        "id": "-LyVCbpBGNzY"
      },
      "source": [
        "ohe = OneHotEncoder(sparse=False, handle_unknown='ignore')"
      ],
      "execution_count": null,
      "outputs": []
    },
    {
      "cell_type": "code",
      "metadata": {
        "id": "sX7iMtiT897x"
      },
      "source": [
        "ct = ColumnTransformer(transformers=[\r\n",
        "                                     ('step1', MinMaxScaler(), num_cols),\r\n",
        "                                     ('step2', ohe, cat_cols)\r\n",
        "], remainder='passthrough')"
      ],
      "execution_count": null,
      "outputs": []
    },
    {
      "cell_type": "code",
      "metadata": {
        "colab": {
          "base_uri": "https://localhost:8080/"
        },
        "id": "lQDkAM1WA0Yj",
        "outputId": "0afd13f4-b65c-401b-9787-bb2f34c7e162"
      },
      "source": [
        "ct"
      ],
      "execution_count": null,
      "outputs": [
        {
          "output_type": "execute_result",
          "data": {
            "text/plain": [
              "ColumnTransformer(n_jobs=None, remainder='passthrough', sparse_threshold=0.3,\n",
              "                  transformer_weights=None,\n",
              "                  transformers=[('step1',\n",
              "                                 MinMaxScaler(copy=True, feature_range=(0, 1)),\n",
              "                                 Index(['bin_0', 'bin_1', 'bin_2', 'ord_0', 'day', 'month'], dtype='object')),\n",
              "                                ('step2',\n",
              "                                 OneHotEncoder(categories='auto', drop=None,\n",
              "                                               dtype=<class 'numpy.float64'>,\n",
              "                                               handle_unknown='ignore',\n",
              "                                               sparse=False),\n",
              "                                 Index(['bin_3', 'bin_4', 'nom_0', 'nom_1', 'nom_2', 'nom_3', 'nom_4', 'ord_1',\n",
              "       'ord_2', 'ord_3', 'ord_4', 'ord_5'],\n",
              "      dtype='object'))],\n",
              "                  verbose=False)"
            ]
          },
          "metadata": {
            "tags": []
          },
          "execution_count": 15
        }
      ]
    },
    {
      "cell_type": "code",
      "metadata": {
        "id": "krQSqKVNGenS"
      },
      "source": [
        "# pipelining\r\n",
        "from sklearn.pipeline import Pipeline"
      ],
      "execution_count": null,
      "outputs": []
    },
    {
      "cell_type": "code",
      "metadata": {
        "colab": {
          "base_uri": "https://localhost:8080/"
        },
        "id": "puTiTcBXGfT3",
        "outputId": "0d6a8b91-127f-42f6-a059-05ea1fc44198"
      },
      "source": [
        "myPipe = Pipeline(steps=[\r\n",
        "                ('ct', ct),\r\n",
        "                ('clf', SVC())\r\n",
        "])\r\n",
        "print(myPipe)"
      ],
      "execution_count": null,
      "outputs": [
        {
          "output_type": "stream",
          "text": [
            "Pipeline(memory=None,\n",
            "         steps=[('ct',\n",
            "                 ColumnTransformer(n_jobs=None, remainder='passthrough',\n",
            "                                   sparse_threshold=0.3,\n",
            "                                   transformer_weights=None,\n",
            "                                   transformers=[('step1',\n",
            "                                                  MinMaxScaler(copy=True,\n",
            "                                                               feature_range=(0,\n",
            "                                                                              1)),\n",
            "                                                  Index(['bin_0', 'bin_1', 'bin_2', 'ord_0', 'day', 'month'], dtype='object')),\n",
            "                                                 ('step2',\n",
            "                                                  OneHotEncoder(categories='auto',\n",
            "                                                                drop=None,\n",
            "                                                                dtype=<class 'numpy.float64'...\n",
            "                                                  Index(['bin_3', 'bin_4', 'nom_0', 'nom_1', 'nom_2', 'nom_3', 'nom_4', 'ord_1',\n",
            "       'ord_2', 'ord_3', 'ord_4', 'ord_5'],\n",
            "      dtype='object'))],\n",
            "                                   verbose=False)),\n",
            "                ('clf',\n",
            "                 SVC(C=1.0, break_ties=False, cache_size=200, class_weight=None,\n",
            "                     coef0=0.0, decision_function_shape='ovr', degree=3,\n",
            "                     gamma='scale', kernel='rbf', max_iter=-1,\n",
            "                     probability=False, random_state=None, shrinking=True,\n",
            "                     tol=0.001, verbose=False))],\n",
            "         verbose=False)\n"
          ],
          "name": "stdout"
        }
      ]
    },
    {
      "cell_type": "code",
      "metadata": {
        "colab": {
          "base_uri": "https://localhost:8080/"
        },
        "id": "VttU6EAYGfXQ",
        "outputId": "e4e4af7b-e2c8-4ca4-eaf1-240facae454b"
      },
      "source": [
        "myPipe.fit(X_train, y_train) "
      ],
      "execution_count": null,
      "outputs": [
        {
          "output_type": "execute_result",
          "data": {
            "text/plain": [
              "Pipeline(memory=None,\n",
              "         steps=[('ct',\n",
              "                 ColumnTransformer(n_jobs=None, remainder='passthrough',\n",
              "                                   sparse_threshold=0.3,\n",
              "                                   transformer_weights=None,\n",
              "                                   transformers=[('step1',\n",
              "                                                  MinMaxScaler(copy=True,\n",
              "                                                               feature_range=(0,\n",
              "                                                                              1)),\n",
              "                                                  Index(['bin_0', 'bin_1', 'bin_2', 'ord_0', 'day', 'month'], dtype='object')),\n",
              "                                                 ('step2',\n",
              "                                                  OneHotEncoder(categories='auto',\n",
              "                                                                drop=None,\n",
              "                                                                dtype=<class 'numpy.float64'...\n",
              "                                                  Index(['bin_3', 'bin_4', 'nom_0', 'nom_1', 'nom_2', 'nom_3', 'nom_4', 'ord_1',\n",
              "       'ord_2', 'ord_3', 'ord_4', 'ord_5'],\n",
              "      dtype='object'))],\n",
              "                                   verbose=False)),\n",
              "                ('clf',\n",
              "                 SVC(C=1.0, break_ties=False, cache_size=200, class_weight=None,\n",
              "                     coef0=0.0, decision_function_shape='ovr', degree=3,\n",
              "                     gamma='scale', kernel='rbf', max_iter=-1,\n",
              "                     probability=False, random_state=None, shrinking=True,\n",
              "                     tol=0.001, verbose=False))],\n",
              "         verbose=False)"
            ]
          },
          "metadata": {
            "tags": []
          },
          "execution_count": 18
        }
      ]
    },
    {
      "cell_type": "code",
      "metadata": {
        "colab": {
          "base_uri": "https://localhost:8080/"
        },
        "id": "vu4Lj5tzGfar",
        "outputId": "2f7d147a-e6ac-4d0a-ef9e-f9b02ba504da"
      },
      "source": [
        "# To get the newly created features by ohe\r\n",
        "myPipe.named_steps['ct'].transformers_[1][1].get_feature_names()"
      ],
      "execution_count": null,
      "outputs": [
        {
          "output_type": "execute_result",
          "data": {
            "text/plain": [
              "array(['x0_F', 'x0_T', 'x1_N', 'x1_Y', 'x2_Blue', 'x2_Green', 'x2_Red',\n",
              "       'x3_Circle', 'x3_Polygon', 'x3_Square', 'x3_Star', 'x3_Trapezoid',\n",
              "       'x3_Triangle', 'x4_Axolotl', 'x4_Cat', 'x4_Dog', 'x4_Hamster',\n",
              "       'x4_Lion', 'x4_Snake', 'x5_Canada', 'x5_China', 'x5_Costa Rica',\n",
              "       'x5_Finland', 'x5_India', 'x5_Russia', 'x6_Bassoon', 'x6_Oboe',\n",
              "       'x6_Piano', 'x6_Theremin', 'x7_Contributor', 'x7_Expert',\n",
              "       'x7_Grandmaster', 'x7_Master', 'x7_Novice', 'x8_Boiling Hot',\n",
              "       'x8_Cold', 'x8_Freezing', 'x8_Hot', 'x8_Lava Hot', 'x8_Warm',\n",
              "       'x9_a', 'x9_b', 'x9_c', 'x9_d', 'x9_e', 'x9_f', 'x9_g', 'x9_h',\n",
              "       'x9_i', 'x9_j', 'x9_k', 'x9_l', 'x9_m', 'x9_n', 'x9_o', 'x10_A',\n",
              "       'x10_B', 'x10_C', 'x10_D', 'x10_E', 'x10_F', 'x10_G', 'x10_H',\n",
              "       'x10_I', 'x10_J', 'x10_K', 'x10_L', 'x10_M', 'x10_N', 'x10_O',\n",
              "       'x10_P', 'x10_Q', 'x10_R', 'x10_S', 'x10_T', 'x10_U', 'x10_V',\n",
              "       'x10_W', 'x10_X', 'x10_Y', 'x10_Z', 'x11_AP', 'x11_Ai', 'x11_Aj',\n",
              "       'x11_BA', 'x11_BE', 'x11_Bb', 'x11_Bd', 'x11_Bn', 'x11_CL',\n",
              "       'x11_CM', 'x11_CU', 'x11_CZ', 'x11_DH', 'x11_DN', 'x11_Dc',\n",
              "       'x11_Dx', 'x11_Ed', 'x11_Eg', 'x11_Er', 'x11_FI', 'x11_Fd',\n",
              "       'x11_Fo', 'x11_GD', 'x11_GJ', 'x11_Gb', 'x11_Gx', 'x11_Hj',\n",
              "       'x11_IK', 'x11_Id', 'x11_JX', 'x11_Jc', 'x11_Jf', 'x11_Jt',\n",
              "       'x11_KR', 'x11_KZ', 'x11_Kf', 'x11_Kq', 'x11_LE', 'x11_MC',\n",
              "       'x11_MO', 'x11_MV', 'x11_Mf', 'x11_Ml', 'x11_Mx', 'x11_NV',\n",
              "       'x11_Nf', 'x11_Nk', 'x11_OR', 'x11_Ob', 'x11_Os', 'x11_PA',\n",
              "       'x11_PQ', 'x11_PZ', 'x11_Ps', 'x11_QM', 'x11_Qb', 'x11_Qh',\n",
              "       'x11_Qo', 'x11_RG', 'x11_RL', 'x11_RP', 'x11_Rm', 'x11_Ry',\n",
              "       'x11_SB', 'x11_Sc', 'x11_TR', 'x11_TZ', 'x11_To', 'x11_UO',\n",
              "       'x11_Uk', 'x11_Uu', 'x11_Vf', 'x11_Vx', 'x11_WE', 'x11_Wc',\n",
              "       'x11_Wv', 'x11_XI', 'x11_Xh', 'x11_Xi', 'x11_YC', 'x11_Yb',\n",
              "       'x11_Ye', 'x11_ZR', 'x11_ZS', 'x11_Zc', 'x11_Zq', 'x11_aF',\n",
              "       'x11_aM', 'x11_aO', 'x11_aP', 'x11_ac', 'x11_av', 'x11_bF',\n",
              "       'x11_bJ', 'x11_be', 'x11_cA', 'x11_cG', 'x11_cW', 'x11_ck',\n",
              "       'x11_cp', 'x11_dB', 'x11_dE', 'x11_dN', 'x11_dO', 'x11_dP',\n",
              "       'x11_dQ', 'x11_dZ', 'x11_dh', 'x11_eG', 'x11_eQ', 'x11_eb',\n",
              "       'x11_eg', 'x11_ek', 'x11_ex', 'x11_fO', 'x11_fh', 'x11_gJ',\n",
              "       'x11_gM', 'x11_hL', 'x11_hT', 'x11_hh', 'x11_hp', 'x11_iT',\n",
              "       'x11_ih', 'x11_jS', 'x11_jV', 'x11_je', 'x11_jp', 'x11_kC',\n",
              "       'x11_kE', 'x11_kK', 'x11_kL', 'x11_kW', 'x11_ke', 'x11_kr',\n",
              "       'x11_kw', 'x11_lF', 'x11_lL', 'x11_ll', 'x11_lx', 'x11_mb',\n",
              "       'x11_mc', 'x11_mm', 'x11_nX', 'x11_nh', 'x11_oC', 'x11_oG',\n",
              "       'x11_oH', 'x11_oK', 'x11_od', 'x11_on', 'x11_pa', 'x11_ps',\n",
              "       'x11_qA', 'x11_qJ', 'x11_qK', 'x11_qP', 'x11_qX', 'x11_qo',\n",
              "       'x11_qv', 'x11_qw', 'x11_rZ', 'x11_ri', 'x11_rp', 'x11_sD',\n",
              "       'x11_sV', 'x11_sY', 'x11_sn', 'x11_su', 'x11_tM', 'x11_tP',\n",
              "       'x11_tv', 'x11_uJ', 'x11_uS', 'x11_ud', 'x11_us', 'x11_ut',\n",
              "       'x11_ux', 'x11_uy', 'x11_vK', 'x11_vq', 'x11_vy', 'x11_wu',\n",
              "       'x11_wy', 'x11_xy', 'x11_yN', 'x11_yY', 'x11_yc', 'x11_zU'],\n",
              "      dtype=object)"
            ]
          },
          "metadata": {
            "tags": []
          },
          "execution_count": 20
        }
      ]
    },
    {
      "cell_type": "code",
      "metadata": {
        "id": "Kp0jJKSDGfdn"
      },
      "source": [
        "y_pred = myPipe.predict(X_test)"
      ],
      "execution_count": null,
      "outputs": []
    },
    {
      "cell_type": "code",
      "metadata": {
        "colab": {
          "base_uri": "https://localhost:8080/"
        },
        "id": "_duyjp0qGfgq",
        "outputId": "7a95e528-8c5e-4726-d417-289a534b5321"
      },
      "source": [
        "y_pred"
      ],
      "execution_count": null,
      "outputs": [
        {
          "output_type": "execute_result",
          "data": {
            "text/plain": [
              "array([0, 0, 0, ..., 0, 0, 1])"
            ]
          },
          "metadata": {
            "tags": []
          },
          "execution_count": 23
        }
      ]
    },
    {
      "cell_type": "code",
      "metadata": {
        "id": "IVssLob6Gfji"
      },
      "source": [
        "from sklearn.metrics import accuracy_score"
      ],
      "execution_count": null,
      "outputs": []
    },
    {
      "cell_type": "code",
      "metadata": {
        "colab": {
          "base_uri": "https://localhost:8080/"
        },
        "id": "WZgbgxVcyIA6",
        "outputId": "27df0ab2-ed79-4124-be6f-bfd0e2aa65cf"
      },
      "source": [
        "print(f\"The accuracy_score using SVC is {100*accuracy_score(y_test, y_pred)}%\")"
      ],
      "execution_count": null,
      "outputs": [
        {
          "output_type": "stream",
          "text": [
            "The accuracy_score using SVC is 71.88%\n"
          ],
          "name": "stdout"
        }
      ]
    },
    {
      "cell_type": "code",
      "metadata": {
        "colab": {
          "base_uri": "https://localhost:8080/"
        },
        "id": "qREc2Y1dyIuw",
        "outputId": "1b321342-b9d9-4624-f932-31e80a6b1c47"
      },
      "source": [
        "myPipe = Pipeline(steps=[\r\n",
        "                ('ct', ct),\r\n",
        "                ('clf', LogisticRegression())\r\n",
        "])\r\n",
        "myPipe.fit(X_train, y_train) \r\n",
        "y_pred = myPipe.predict(X_test)\r\n",
        "print(f\"The accuracy_score using Logistic Regrssion is {100*accuracy_score(y_test, y_pred)}%\")"
      ],
      "execution_count": null,
      "outputs": [
        {
          "output_type": "stream",
          "text": [
            "The accuracy_score using Logistic Regrssion is 73.48%\n"
          ],
          "name": "stdout"
        },
        {
          "output_type": "stream",
          "text": [
            "/usr/local/lib/python3.7/dist-packages/sklearn/linear_model/_logistic.py:940: ConvergenceWarning: lbfgs failed to converge (status=1):\n",
            "STOP: TOTAL NO. of ITERATIONS REACHED LIMIT.\n",
            "\n",
            "Increase the number of iterations (max_iter) or scale the data as shown in:\n",
            "    https://scikit-learn.org/stable/modules/preprocessing.html\n",
            "Please also refer to the documentation for alternative solver options:\n",
            "    https://scikit-learn.org/stable/modules/linear_model.html#logistic-regression\n",
            "  extra_warning_msg=_LOGISTIC_SOLVER_CONVERGENCE_MSG)\n"
          ],
          "name": "stderr"
        }
      ]
    },
    {
      "cell_type": "code",
      "metadata": {
        "colab": {
          "base_uri": "https://localhost:8080/"
        },
        "id": "wm9xxdlFIL-v",
        "outputId": "e4f5031c-63ed-45c6-f5b3-47ea38e041da"
      },
      "source": [
        "myPipe = Pipeline(steps=[\r\n",
        "                ('ct', ct),\r\n",
        "                ('clf', DecisionTreeClassifier())\r\n",
        "])\r\n",
        "myPipe.fit(X_train, y_train) \r\n",
        "y_pred = myPipe.predict(X_test)\r\n",
        "print(f\"The accuracy_score using Decision Tree Classifier is {100*accuracy_score(y_test, y_pred)}%\")"
      ],
      "execution_count": null,
      "outputs": [
        {
          "output_type": "stream",
          "text": [
            "The accuracy_score using Decision Tree Classifier is 63.68000000000001%\n"
          ],
          "name": "stdout"
        }
      ]
    },
    {
      "cell_type": "code",
      "metadata": {
        "id": "5HRBKu3fyI5a"
      },
      "source": [
        ""
      ],
      "execution_count": null,
      "outputs": []
    },
    {
      "cell_type": "code",
      "metadata": {
        "id": "9wl7BhTpyI_s"
      },
      "source": [
        ""
      ],
      "execution_count": null,
      "outputs": []
    }
  ]
}